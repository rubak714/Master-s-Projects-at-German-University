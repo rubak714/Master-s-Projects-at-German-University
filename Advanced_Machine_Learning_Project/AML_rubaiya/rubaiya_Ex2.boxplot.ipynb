{
 "cells": [
  {
   "cell_type": "markdown",
   "id": "cbda02a8",
   "metadata": {},
   "source": [
    "<img src=\"https://www.th-koeln.de/img/logo.svg\" style=\"float:right;\" width=\"200\">"
   ]
  },
  {
   "cell_type": "markdown",
   "id": "3efc66f5",
   "metadata": {},
   "source": [
    "# 2nd exercise: <font color=\"#C70039\">Work with Boxplots for anomaly detection</font>\n",
    "* Course: AML\n",
    "* Lecturer: <a href=\"https://www.gernotheisenberg.de/\">Gernot Heisenberg</a>\n",
    "* Author of notebook: <a href=\"https://www.gernotheisenberg.de/\">Gernot Heisenberg</a>\n",
    "* Name: <a href=\"https://www.gernotheisenberg.de/\">Rubaiya Kabir Pranti</a>\n",
    "* Matriculation Number: <a href=\"https://www.gernotheisenberg.de/\"> 11146364</a>\n",
    "* Date:   16.01.2024\n",
    "\n",
    "<img src=\"https://r-graph-gallery.com/img/other/boxplot_explanation.png\" style=\"float: center;\" width=\"800\">\n",
    "<img src=\"https://i2.wp.com/upload.wikimedia.org/wikipedia/commons/thumb/1/1a/Boxplot_vs_PDF.svg/550px-Boxplot_vs_PDF.svg.png?w=578\" style=\"float: center;\" width=\"800\">\n",
    "\n",
    "\n",
    "---------------------------------\n",
    "**GENERAL NOTE 1**: \n",
    "Please make sure you are reading the entire notebook, since it contains a lot of information on your tasks (e.g. regarding the set of certain paramaters or a specific computational trick), and the written mark downs as well as comments contain a lot of information on how things work together as a whole. \n",
    "\n",
    "**GENERAL NOTE 2**: \n",
    "* Please, when commenting source code, just use English language only. \n",
    "* When describing an observation please use English language, too\n",
    "* This applies to all exercises throughout this course.  \n",
    "\n",
    "---------------------\n",
    "\n",
    "### <font color=\"ce33ff\">DESCRIPTION</font>:\n",
    "This notebook allows you for using boxplots to detect anomalies. Try to interpret the boxplot. \n",
    "\n",
    "-------------------------------------------------------------------------------------------------------------\n",
    "\n",
    "### <font color=\"FFC300\">TASKS</font>:\n",
    "The tasks that you need to work on within this notebook are always indicated below as bullet points. \n",
    "If a task is more challenging and consists of several steps, this is indicated as well. \n",
    "Make sure you have worked down the task list and commented your doings. \n",
    "This should be done by using markdown.<br> \n",
    "<font color=red>Make sure you don't forget to specify your name and your matriculation number in the notebook.</font>\n",
    "\n",
    "**YOUR TASKS in this exercise are as follows**:\n",
    "1. import the notebook to Google Colab or use your local machine.\n",
    "2. make sure you specified you name and your matriculation number in the header below my name and date. \n",
    "    * set the date too and remove mine.\n",
    "3. read the entire notebook carefully \n",
    "    * add comments whereever you feel it necessary for better understanding\n",
    "    * run the notebook for the first time. \n",
    "4. take the three data sets from exercize 1 and create a boxplot for each of them\n",
    "5. interpret the visual results and describe them\n",
    "6. how can you test your data for being normally distributed? \n",
    "-----------------------------------------------------------------------------------"
   ]
  },
  {
   "cell_type": "markdown",
   "id": "fb2d7b8c",
   "metadata": {},
   "source": [
    "<u><font size=\"4\"> **Datasets Used:**</u></font> <br>\n",
    "\n",
    "<font size=\"4\"><u>**Normally Distributed:**</u></font>\n",
    "\n",
    "- **<span style=\"background-color:white\">[Graduate Admissions](https://www.kaggle.com/datasets/mohansacharya/graduate-admissions)</span>**\n",
    "- **<span style=\"background-color:white\">[Boston Housing Dataset](https://www.kaggle.com/datasets/vikrishnan/boston-house-prices)</span>**\n",
    "\n",
    "<font size=\"4\"><u> **Not Normally Distributed:**</u></font>\n",
    "\n",
    "- **<span style=\"background-color:white\">[Climate Dataset](https://www.kaggle.com/datasets/mohansacharya/graduate-admissions)</span>**"
   ]
  },
  {
   "cell_type": "code",
   "execution_count": 1,
   "id": "e9e37b8a",
   "metadata": {
    "tags": []
   },
   "outputs": [],
   "source": [
    "import pandas as pd\n",
    "import numpy as np\n",
    "import matplotlib.pyplot as plt\n",
    "import scipy.stats as stats\n",
    "import seaborn as sns"
   ]
  },
  {
   "cell_type": "markdown",
   "id": "003f1a47",
   "metadata": {},
   "source": [
    "# 1. Admission Prediction Dataset (Normally distributed)"
   ]
  },
  {
   "cell_type": "code",
   "execution_count": 2,
   "id": "259ca2cf",
   "metadata": {
    "tags": []
   },
   "outputs": [],
   "source": [
    "# loading csv dataset\n",
    "df1 = pd.read_csv('C:/Users/rubai/AML/my_datasets/normally_dist/Admission_Predict.csv')\n",
    "\n",
    "# only CGPA column is normally distributed\n",
    "data1 = df1['CGPA'].values"
   ]
  },
  {
   "cell_type": "code",
   "execution_count": 3,
   "id": "9f60ff6f",
   "metadata": {
    "tags": []
   },
   "outputs": [
    {
     "data": {
      "image/png": "[encoded data removed]",
      "text/plain": [
       "<Figure size 640x480 with 1 Axes>"
      ]
     },
     "metadata": {},
     "output_type": "display_data"
    }
   ],
   "source": [
    "sns.boxplot(data=data1)\n",
    "plt.show()"
   ]
  },
  {
   "cell_type": "markdown",
   "id": "6240bd0f",
   "metadata": {},
   "source": [
    "## <font color=\"FFC300\">Comments</font>:\n",
    "- there is only one outlier at around 6.8 position which is denoted as outlier and as the median line is plotted almost in the middle of the canvas, we can say it is almost normally distributed"
   ]
  },
  {
   "cell_type": "markdown",
   "id": "dcb8bf92",
   "metadata": {},
   "source": [
    "# 2. Boston Housing Dataset (Normally distributed)"
   ]
  },
  {
   "cell_type": "code",
   "execution_count": 4,
   "id": "00e540a8",
   "metadata": {},
   "outputs": [],
   "source": [
    "# loading csv dataset\n",
    "df2 = pd.read_csv('C:/Users/rubai/AML/my_datasets/normally_dist/HousingData.csv')\n",
    "\n",
    "# only CGPA column is normally distributed\n",
    "data2 = df2['RM'].values"
   ]
  },
  {
   "cell_type": "code",
   "execution_count": 5,
   "id": "e62efcf2",
   "metadata": {},
   "outputs": [
    {
     "data": {
      "image/png": "[encoded data removed]",
      "text/plain": [
       "<Figure size 640x480 with 1 Axes>"
      ]
     },
     "metadata": {},
     "output_type": "display_data"
    }
   ],
   "source": [
    "sns.boxplot(data=data2)\n",
    "plt.show()"
   ]
  },
  {
   "cell_type": "markdown",
   "id": "7c42dd7b",
   "metadata": {},
   "source": [
    "## <font color=\"FFC300\">Comments</font>:\n",
    "- there are several outliers denoted as black points and as the median line is plotted almost in the middle of the canvas, we can say it is almost normally distributed"
   ]
  },
  {
   "cell_type": "markdown",
   "id": "8f1c7fd1",
   "metadata": {},
   "source": [
    "## 3. Climate Dataset (Not normally distributed)"
   ]
  },
  {
   "cell_type": "code",
   "execution_count": 6,
   "id": "7fef3767",
   "metadata": {},
   "outputs": [],
   "source": [
    "# loading csv dataset\n",
    "df3 = pd.read_csv('C:/Users/rubai/AML/my_datasets/not_normal/DailyDelhiClimateTrain.csv')\n",
    "# only wind column is normally distributed\n",
    "data3 = df3['wind_speed'].values"
   ]
  },
  {
   "cell_type": "code",
   "execution_count": 7,
   "id": "32487f82",
   "metadata": {},
   "outputs": [
    {
     "data": {
      "image/png": "[encoded data removed]",
      "text/plain": [
       "<Figure size 640x480 with 1 Axes>"
      ]
     },
     "metadata": {},
     "output_type": "display_data"
    }
   ],
   "source": [
    "sns.boxplot(data=data3)\n",
    "plt.show()"
   ]
  },
  {
   "cell_type": "markdown",
   "id": "75b7780c",
   "metadata": {},
   "source": [
    "\n",
    "## <font color=\"FFC300\">Comments</font>:\n",
    "- there are several outliers denoted as black points above 20 and as the median line is skewed in one side within the canvas, we can say it is almost not normally distributed"
   ]
  },
  {
   "cell_type": "markdown",
   "id": "24e5e623",
   "metadata": {},
   "source": [
    "## 6. how can you test your data for being normally distributed? \n",
    "- In a boxplot, a symmetrical distribution of data and then the median line's usually in the middle of the box having the whiskers are about equal in length can suggest normal dsitribution. But it is alone not always applicable."
   ]
  },
  {
   "cell_type": "code",
   "execution_count": null,
   "id": "e21161cd",
   "metadata": {},
   "outputs": [],
   "source": []
  }
 ],
 "metadata": {
  "kernelspec": {
   "display_name": "Python 3 (ipykernel)",
   "language": "python",
   "name": "python3"
  },
  "language_info": {
   "codemirror_mode": {
    "name": "ipython",
    "version": 3
   },
   "file_extension": ".py",
   "mimetype": "text/x-python",
   "name": "python",
   "nbconvert_exporter": "python",
   "pygments_lexer": "ipython3",
   "version": "3.9.13"
  }
 },
 "nbformat": 4,
 "nbformat_minor": 5
}
