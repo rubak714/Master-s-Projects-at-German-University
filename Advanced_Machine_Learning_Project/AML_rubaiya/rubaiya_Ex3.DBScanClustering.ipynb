{
 "cells": [
  {
   "cell_type": "markdown",
   "id": "f7c6818b",
   "metadata": {},
   "source": [
    "<img src=\"https://www.th-koeln.de/img/logo.svg\" style=\"float:right;\" width=\"200\">"
   ]
  },
  {
   "cell_type": "markdown",
   "id": "58702112",
   "metadata": {},
   "source": [
    "# 3rd exercise: <font color=\"#C70039\">Do DBScan clustering for anomaly detection</font>\n",
    "* Course: AML\n",
    "* Lecturer: <a href=\"https://www.gernotheisenberg.de/\">Gernot Heisenberg</a>\n",
    "* Author of notebook: <a href=\"https://www.gernotheisenberg.de/\">Gernot Heisenberg</a>\n",
    "\n",
    "* Name: <a href=\"https://www.gernotheisenberg.de/\">Rubaiya Kabir Pranti</a>\n",
    "* Matriculation Number: <a href=\"https://www.gernotheisenberg.de/\"> 11146364</a>\n",
    "* Date:   16.01.2024\n",
    "\n",
    "<img src=\"https://upload.wikimedia.org/wikipedia/commons/thumb/a/af/DBSCAN-Illustration.svg/400px-DBSCAN-Illustration.svg.png\" style=\"float: center;\" width=\"450\">\n",
    "\n",
    "---------------------------------\n",
    "**GENERAL NOTE 1**: \n",
    "Please make sure you are reading the entire notebook, since it contains a lot of information on your tasks (e.g. regarding the set of certain paramaters or a specific computational trick), and the written mark downs as well as comments contain a lot of information on how things work together as a whole. \n",
    "\n",
    "**GENERAL NOTE 2**: \n",
    "* Please, when commenting source code, just use English language only. \n",
    "* When describing an observation please use English language, too\n",
    "* This applies to all exercises throughout this course.  \n",
    "\n",
    "---------------------\n",
    "\n",
    "### <font color=\"ce33ff\">DESCRIPTION</font>:\n",
    "This notebook allows you for using the DBScan clustering algorithm for anomaly detection.\n",
    "\n",
    "-------------------------------------------------------------------------------------------------------------\n",
    "\n",
    "### <font color=\"FFC300\">TASKS</font>:\n",
    "The tasks that you need to work on within this notebook are always indicated below as bullet points. \n",
    "If a task is more challenging and consists of several steps, this is indicated as well. \n",
    "Make sure you have worked down the task list and commented your doings. \n",
    "This should be done by using markdown.<br> \n",
    "<font color=red>Make sure you don't forget to specify your name and your matriculation number in the notebook.</font>\n",
    "\n",
    "**YOUR TASKS in this exercise are as follows**:\n",
    "1. import the notebook to Google Colab or use your local machine.\n",
    "2. make sure you specified you name and your matriculation number in the header below my name and date. \n",
    "    * set the date too and remove mine.\n",
    "3. read the entire notebook carefully \n",
    "    * add comments whereever you feel it necessary for better understanding\n",
    "    * run the notebook for the first time. \n",
    "4. take the three data sets from exercize 1 and cluster them\n",
    "5. read the following <a href=\"https://stats.stackexchange.com/questions/88872/a-routine-to-choose-eps-and-minpts-for-dbscan\">article</a> for getting help estimating eps and minPts\n",
    "    * https://stats.stackexchange.com/questions/88872/a-routine-to-choose-eps-and-minpts-for-dbscan\n",
    "6. describe your findings and interpret the results\n",
    "-----------------------------------------------------------------------------------"
   ]
  },
  {
   "cell_type": "markdown",
   "id": "e93c2d35",
   "metadata": {},
   "source": [
    "<u><font size=\"4\"> **Datasets Used:**</u></font> <br>\n",
    "\n",
    "<font size=\"4\"><u>**Normally Distributed:**</u></font>\n",
    "\n",
    "- **<span style=\"background-color:white\">[Graduate Admissions](https://www.kaggle.com/datasets/mohansacharya/graduate-admissions)</span>**\n",
    "- **<span style=\"background-color:white\">[Boston Housing Dataset](https://www.kaggle.com/datasets/vikrishnan/boston-house-prices)</span>**\n",
    "\n",
    "<font size=\"4\"><u> **Not Normally Distributed:**</u></font>\n",
    "\n",
    "- **<span style=\"background-color:white\">[Climate Dataset](https://www.kaggle.com/datasets/mohansacharya/graduate-admissions)</span>**"
   ]
  },
  {
   "cell_type": "code",
   "execution_count": 1,
   "id": "522a8e3c",
   "metadata": {
    "tags": []
   },
   "outputs": [],
   "source": [
    "from sklearn.cluster import DBSCAN\n",
    "import numpy as np\n",
    "import pandas as pd\n",
    "import matplotlib.pyplot as plt\n",
    "import scipy.stats as stats\n",
    "import seaborn as sns\n",
    "from sklearn.cluster import DBSCAN\n",
    "from sklearn.metrics import silhouette_score\n",
    "from sklearn.neighbors import NearestNeighbors"
   ]
  },
  {
   "cell_type": "markdown",
   "id": "a6a01dc0",
   "metadata": {},
   "source": [
    "## 1. Admission Prediction Dataset"
   ]
  },
  {
   "cell_type": "code",
   "execution_count": 2,
   "id": "6467e892",
   "metadata": {},
   "outputs": [],
   "source": [
    "# loading csv dataset\n",
    "df1 = pd.read_csv('C:/Users/rubai/AML/my_datasets/normally_dist/Admission_Predict.csv')\n",
    "\n",
    "# only CGPA column is normally distributed\n",
    "data1 = df1['CGPA'].values\n",
    "\n",
    "data_reshaped1=data1.reshape(-1,1) "
   ]
  },
  {
   "cell_type": "markdown",
   "id": "0641d0d0",
   "metadata": {},
   "source": []
  },
  {
   "cell_type": "markdown",
   "id": "339b05d5",
   "metadata": {},
   "source": [
    "## Elbow method to determine eps (neighbourhood radius)"
   ]
  },
  {
   "cell_type": "code",
   "execution_count": 3,
   "id": "e4684f00",
   "metadata": {},
   "outputs": [],
   "source": [
    "import plotly.express as px\n",
    "from sklearn.neighbors import NearestNeighbors\n",
    "from kneed import KneeLocator\n",
    "\n",
    "# number of neighbors, I want to consider for the analysis\n",
    "neighbors = 10\n",
    "\n",
    "# fitting a Nearest Neighbors model to reshaped data\n",
    "nbrs = NearestNeighbors(n_neighbors=neighbors).fit(data_reshaped1)\n",
    "\n",
    "# calculating the distances to the neighbors\n",
    "distances, _ = nbrs.kneighbors(data_reshaped1)\n",
    "\n",
    "# calculating the distances to the k-nearest neighbor for each data point\n",
    "average_distances = sorted(distances[:, neighbors - 1], reverse=True)\n",
    "\n",
    "# creating a KneeLocator instance to find the knee point\n",
    "# range(1, len(average_distances) + 1): the x-values, which represent the number of neighbors (k)\n",
    "# S=1.0: sensitivity parameter that controls the detection of the knee point\n",
    "kneedle = KneeLocator(range(1, len(average_distances) + 1), average_distances, S=1.0, curve=\"convex\", direction=\"decreasing\")\n",
    "\n",
    "# the knee point\n",
    "# kneedle.plot_knee_normalized()"
   ]
  },
  {
   "cell_type": "markdown",
   "id": "f47c905e",
   "metadata": {},
   "source": [
    "### epsilon value from knee point method"
   ]
  },
  {
   "cell_type": "code",
   "execution_count": 4,
   "id": "5ddb1817",
   "metadata": {},
   "outputs": [
    {
     "data": {
      "text/plain": [
       "0.10000000000000142"
      ]
     },
     "execution_count": 4,
     "metadata": {},
     "output_type": "execute_result"
    }
   ],
   "source": [
    "kneedle.knee_y #epsilon value"
   ]
  },
  {
   "cell_type": "code",
   "execution_count": 5,
   "id": "5d6af40b",
   "metadata": {},
   "outputs": [
    {
     "data": {
      "text/plain": [
       "11"
      ]
     },
     "execution_count": 5,
     "metadata": {},
     "output_type": "execute_result"
    }
   ],
   "source": [
    "kneedle.elbow # number of neighbours "
   ]
  },
  {
   "cell_type": "markdown",
   "id": "f4cb18d3",
   "metadata": {},
   "source": [
    "### epsilon value from elbow graph method"
   ]
  },
  {
   "cell_type": "code",
   "execution_count": 6,
   "id": "bf5a874f",
   "metadata": {},
   "outputs": [
    {
     "data": {
      "image/png": "[encoded data removed]",
      "text/plain": [
       "<Figure size 1000x500 with 1 Axes>"
      ]
     },
     "metadata": {},
     "output_type": "display_data"
    }
   ],
   "source": [
    "plt.figure(figsize=(10,5))\n",
    "nn = NearestNeighbors(n_neighbors=5).fit(data_reshaped1)\n",
    "distances, idx = nn.kneighbors(data_reshaped1)\n",
    "distances = np.sort(distances, axis=0)\n",
    "distances = distances[:,1]\n",
    "plt.plot(distances)\n",
    "plt.show()"
   ]
  },
  {
   "cell_type": "code",
   "execution_count": 7,
   "id": "698a7b1f",
   "metadata": {},
   "outputs": [
    {
     "name": "stdout",
     "output_type": "stream",
     "text": [
      "Estimated number of clusters: 1\n",
      "Estimated number of noise points: 1\n",
      "Silhouette Coefficient: 0.565\n"
     ]
    }
   ],
   "source": [
    "from sklearn import metrics\n",
    "\n",
    "db = DBSCAN(eps=0.2, min_samples=6).fit(data_reshaped1)\n",
    "labels = db.labels_\n",
    "# Number of clusters in labels, ignoring noise if present.\n",
    "n_clusters_ = len(set(labels)) - (1 if -1 in labels else 0)\n",
    "n_noise_ = list(labels).count(-1)\n",
    "print('Estimated number of clusters: %d' % n_clusters_)\n",
    "print('Estimated number of noise points: %d' % n_noise_)\n",
    "print(\"Silhouette Coefficient: %0.3f\" % metrics.silhouette_score(data_reshaped1, labels))"
   ]
  },
  {
   "cell_type": "markdown",
   "id": "e4d09773",
   "metadata": {},
   "source": [
    "## Determinin optimal minPts using Silhouette Score"
   ]
  },
  {
   "cell_type": "code",
   "execution_count": 8,
   "id": "241d328d",
   "metadata": {},
   "outputs": [
    {
     "name": "stdout",
     "output_type": "stream",
     "text": [
      "MinPts=2, Silhouette Score=0.5649\n",
      "MinPts=3, Silhouette Score=0.5649\n",
      "MinPts=4, Silhouette Score=0.5649\n",
      "MinPts=5, Silhouette Score=0.5649\n",
      "MinPts=6, Silhouette Score=0.5649\n",
      "MinPts=7, Silhouette Score=0.5649\n",
      "MinPts=8, Silhouette Score=0.5104\n",
      "MinPts=9, Silhouette Score=0.5104\n",
      "MinPts=10, Silhouette Score=0.4860\n",
      "MinPts=11, Silhouette Score=0.4860\n",
      "MinPts=12, Silhouette Score=0.4762\n",
      "MinPts=13, Silhouette Score=0.4837\n",
      "MinPts=14, Silhouette Score=0.4837\n",
      "MinPts=15, Silhouette Score=0.4837\n",
      "MinPts=16, Silhouette Score=0.2568\n",
      "MinPts=17, Silhouette Score=0.4704\n",
      "MinPts=18, Silhouette Score=0.4539\n",
      "MinPts=19, Silhouette Score=0.4521\n",
      "MinPts=20, Silhouette Score=0.4521\n",
      "MinPts=21, Silhouette Score=0.4470\n",
      "MinPts=22, Silhouette Score=0.4470\n",
      "MinPts=23, Silhouette Score=0.4470\n",
      "MinPts=24, Silhouette Score=0.4470\n",
      "MinPts=25, Silhouette Score=0.4470\n",
      "MinPts=26, Silhouette Score=0.4390\n",
      "MinPts=27, Silhouette Score=0.4184\n",
      "MinPts=28, Silhouette Score=0.4137\n",
      "MinPts=29, Silhouette Score=0.4137\n",
      "MinPts=30, Silhouette Score=0.4137\n",
      "MinPts=31, Silhouette Score=0.4137\n",
      "MinPts=32, Silhouette Score=0.4137\n",
      "MinPts=33, Silhouette Score=0.4137\n",
      "MinPts=34, Silhouette Score=0.4069\n",
      "MinPts=35, Silhouette Score=0.4043\n",
      "MinPts=36, Silhouette Score=0.3027\n",
      "MinPts=37, Silhouette Score=0.3010\n",
      "MinPts=38, Silhouette Score=0.3010\n",
      "MinPts=39, Silhouette Score=0.3010\n",
      "MinPts=40, Silhouette Score=0.1226\n",
      "Best MinPts: 2, Best Silhouette Score: 0.5649\n"
     ]
    }
   ],
   "source": [
    "# range of MinPts values \n",
    "minPts_values = range(2, 41)\n",
    "best_silhouette_score = None  \n",
    "best_minPts = None\n",
    "\n",
    "for minPts in minPts_values:\n",
    "    # fit DBSCAN model with the current MinPts value\n",
    "    dbscan = DBSCAN(eps=0.1, min_samples=minPts)\n",
    "    cluster_labels = dbscan.fit_predict(data_reshaped1)\n",
    "    \n",
    "    # the silhouette score for the current clustering\n",
    "    unique_labels = np.unique(cluster_labels)\n",
    "    if len(unique_labels) > 1:  # Ensure more than one cluster is formed\n",
    "        silhouette_avg = silhouette_score(data_reshaped1, cluster_labels)\n",
    "        print(f\"MinPts={minPts}, Silhouette Score={silhouette_avg:.4f}\")\n",
    "        \n",
    "        # confirming if the current MinPts value produces a higher silhouette score\n",
    "        if best_silhouette_score is None or silhouette_avg > best_silhouette_score:\n",
    "            best_silhouette_score = silhouette_avg\n",
    "            best_minPts = minPts\n",
    "    else:\n",
    "        print(f\"MinPts={minPts}, Silhouette Score: Not enough clusters formed\")\n",
    "\n",
    "if best_minPts is not None:\n",
    "    print(f\"Best MinPts: {best_minPts}, Best Silhouette Score: {best_silhouette_score:.4f}\")\n",
    "else:\n",
    "    print(\"No meaningful clusters found for any MinPts value.\")"
   ]
  },
  {
   "cell_type": "code",
   "execution_count": 9,
   "id": "d1d396ff",
   "metadata": {},
   "outputs": [
    {
     "data": {
      "text/plain": [
       "1"
      ]
     },
     "execution_count": 9,
     "metadata": {},
     "output_type": "execute_result"
    }
   ],
   "source": [
    "# hyperparameters\n",
    "minPts = 2 # minPts >= D+1, for 2D data, minPts=4\n",
    "eps = 0.1 #manually\n",
    "\n",
    "outlier_detection = DBSCAN(min_samples = minPts, eps = eps)\n",
    "\n",
    "clusters = outlier_detection.fit_predict(data_reshaped1)\n",
    "\n",
    "list(clusters).count(-1)"
   ]
  },
  {
   "cell_type": "markdown",
   "id": "5fabd6ae",
   "metadata": {},
   "source": [
    "# Comments\n",
    "MinPts values of 2 with the highest Silhouette Scores indicating -  the most optimal clustering quality for my dataset according to this metric.\n",
    "\n",
    "By taking minPts = 2  and eps = 0.1 from results, outlier is detected as 1 now. The choice of minPts and eps significantly impacts the anomaly det. result. A smaller eps can give more outliers and larger eps can miss significant anomalies.\n",
    "The chosen value for minPts is low, which means that even very small groupings of points will be considered clusters. This can also affect the number of points classified as outliers."
   ]
  },
  {
   "cell_type": "markdown",
   "id": "7d3d5814",
   "metadata": {},
   "source": []
  },
  {
   "cell_type": "markdown",
   "id": "dccc6208",
   "metadata": {},
   "source": [
    "## 2. Boston Housing Dataset"
   ]
  },
  {
   "cell_type": "code",
   "execution_count": 10,
   "id": "246dc77c",
   "metadata": {},
   "outputs": [],
   "source": [
    "# loading csv dataset\n",
    "df2 = pd.read_csv('C:/Users/rubai/AML/my_datasets/normally_dist/HousingData.csv')\n",
    "\n",
    "# only RM column is normally distributed\n",
    "data2 = df2['RM'].values\n",
    "\n",
    "data_reshaped2=data2.reshape(-1,1) "
   ]
  },
  {
   "cell_type": "markdown",
   "id": "4a9733d1",
   "metadata": {},
   "source": [
    "## Elbow method to determine eps (neighbourhood radius)"
   ]
  },
  {
   "cell_type": "code",
   "execution_count": 11,
   "id": "50ebe11d",
   "metadata": {},
   "outputs": [],
   "source": [
    "import plotly.express as px\n",
    "from sklearn.neighbors import NearestNeighbors\n",
    "from kneed import KneeLocator\n",
    "\n",
    "# number of neighbors\n",
    "neighbors = 10\n",
    "\n",
    "# fitting a Nearest Neighbors model\n",
    "nbrs = NearestNeighbors(n_neighbors=neighbors).fit(data_reshaped2)\n",
    "\n",
    "# calculating the distances to the neighbors\n",
    "distances, _ = nbrs.kneighbors(data_reshaped2)\n",
    "\n",
    "# calculating the distances to the k-nearest neighbor for each data point\n",
    "average_distances = sorted(distances[:, neighbors - 1], reverse=True)\n",
    "\n",
    "# creating a KneeLocator instance to find the knee point\n",
    "kneedle = KneeLocator(range(1, len(average_distances) + 1), average_distances, S=1.0, curve=\"convex\", direction=\"decreasing\")\n",
    "\n",
    "# the knee point\n",
    "# kneedle.plot_knee_normalized()"
   ]
  },
  {
   "cell_type": "code",
   "execution_count": 12,
   "id": "46889a5b",
   "metadata": {},
   "outputs": [
    {
     "data": {
      "text/plain": [
       "0.16300000000000026"
      ]
     },
     "execution_count": 12,
     "metadata": {},
     "output_type": "execute_result"
    }
   ],
   "source": [
    "kneedle.knee_y #epsilon"
   ]
  },
  {
   "cell_type": "code",
   "execution_count": 13,
   "id": "e1e9b739",
   "metadata": {},
   "outputs": [
    {
     "data": {
      "text/plain": [
       "25"
      ]
     },
     "execution_count": 13,
     "metadata": {},
     "output_type": "execute_result"
    }
   ],
   "source": [
    "kneedle.elbow #k value"
   ]
  },
  {
   "cell_type": "code",
   "execution_count": 14,
   "id": "3335122d",
   "metadata": {},
   "outputs": [
    {
     "data": {
      "image/png": "[encoded data removed]",
      "text/plain": [
       "<Figure size 1000x500 with 1 Axes>"
      ]
     },
     "metadata": {},
     "output_type": "display_data"
    },
    {
     "name": "stdout",
     "output_type": "stream",
     "text": [
      "Estimated number of clusters: 1\n",
      "Estimated number of noise points: 11\n",
      "Silhouette Coefficient: 0.668\n"
     ]
    }
   ],
   "source": [
    "from sklearn import metrics\n",
    "\n",
    "plt.figure(figsize=(10,5))\n",
    "nn = NearestNeighbors(n_neighbors=5).fit(data_reshaped2)\n",
    "distances, idx = nn.kneighbors(data_reshaped2)\n",
    "distances = np.sort(distances, axis=0)\n",
    "distances = distances[:,1]\n",
    "plt.plot(distances)\n",
    "plt.show()\n",
    "\n",
    "db = DBSCAN(eps=0.2, min_samples=6).fit(data_reshaped2)\n",
    "labels = db.labels_\n",
    "# Number of clusters in labels, ignoring noise if present.\n",
    "n_clusters_ = len(set(labels)) - (1 if -1 in labels else 0)\n",
    "n_noise_ = list(labels).count(-1)\n",
    "print('Estimated number of clusters: %d' % n_clusters_)\n",
    "print('Estimated number of noise points: %d' % n_noise_)\n",
    "print(\"Silhouette Coefficient: %0.3f\" % metrics.silhouette_score(data_reshaped2, labels))"
   ]
  },
  {
   "cell_type": "markdown",
   "id": "38dd29ac",
   "metadata": {},
   "source": [
    "## Determinin optimal minPts using Silhouette Score"
   ]
  },
  {
   "cell_type": "code",
   "execution_count": 15,
   "id": "0e3914dc",
   "metadata": {},
   "outputs": [
    {
     "name": "stdout",
     "output_type": "stream",
     "text": [
      "MinPts=2, Silhouette Score=0.4852\n",
      "MinPts=3, Silhouette Score=0.4853\n",
      "MinPts=4, Silhouette Score=0.4690\n",
      "MinPts=5, Silhouette Score=0.5749\n",
      "MinPts=6, Silhouette Score=0.5749\n",
      "MinPts=7, Silhouette Score=0.5749\n",
      "MinPts=8, Silhouette Score=0.6627\n",
      "MinPts=9, Silhouette Score=0.6627\n",
      "MinPts=10, Silhouette Score=0.5411\n",
      "MinPts=11, Silhouette Score=0.5411\n",
      "MinPts=12, Silhouette Score=0.3756\n",
      "MinPts=13, Silhouette Score=0.4580\n",
      "MinPts=14, Silhouette Score=0.4598\n",
      "MinPts=15, Silhouette Score=0.6072\n",
      "MinPts=16, Silhouette Score=0.6072\n",
      "MinPts=17, Silhouette Score=0.6072\n",
      "MinPts=18, Silhouette Score=0.6072\n",
      "MinPts=19, Silhouette Score=0.6072\n",
      "MinPts=20, Silhouette Score=0.6072\n",
      "MinPts=21, Silhouette Score=0.6059\n",
      "MinPts=22, Silhouette Score=0.6000\n",
      "MinPts=23, Silhouette Score=0.5986\n",
      "MinPts=24, Silhouette Score=0.5961\n",
      "MinPts=25, Silhouette Score=0.5961\n",
      "MinPts=26, Silhouette Score=0.5912\n",
      "MinPts=27, Silhouette Score=0.5899\n",
      "MinPts=28, Silhouette Score=0.5873\n",
      "MinPts=29, Silhouette Score=0.5798\n",
      "MinPts=30, Silhouette Score=0.5798\n",
      "MinPts=31, Silhouette Score=0.5798\n",
      "MinPts=32, Silhouette Score=0.5798\n",
      "MinPts=33, Silhouette Score=0.5773\n",
      "MinPts=34, Silhouette Score=0.5773\n",
      "MinPts=35, Silhouette Score=0.5773\n",
      "MinPts=36, Silhouette Score=0.5761\n",
      "MinPts=37, Silhouette Score=0.5553\n",
      "MinPts=38, Silhouette Score=0.5517\n",
      "MinPts=39, Silhouette Score=0.5517\n",
      "MinPts=40, Silhouette Score=0.5510\n",
      "Best MinPts: 8, Best Silhouette Score: 0.6627\n"
     ]
    }
   ],
   "source": [
    "# range of MinPts values \n",
    "minPts_values = range(2, 41)\n",
    "best_silhouette_score = None  \n",
    "best_minPts = None\n",
    "\n",
    "for minPts in minPts_values:\n",
    "    # fit DBSCAN model with the current MinPts value\n",
    "    dbscan = DBSCAN(eps=0.163, min_samples=minPts)\n",
    "    cluster_labels = dbscan.fit_predict(data_reshaped2)\n",
    "    \n",
    "    # the silhouette score for the current clustering\n",
    "    unique_labels = np.unique(cluster_labels)\n",
    "    if len(unique_labels) > 1:  # Ensure more than one cluster is formed\n",
    "        silhouette_avg = silhouette_score(data_reshaped2, cluster_labels)\n",
    "        print(f\"MinPts={minPts}, Silhouette Score={silhouette_avg:.4f}\")\n",
    "        \n",
    "        # confirming if the current MinPts value produces a higher silhouette score\n",
    "        if best_silhouette_score is None or silhouette_avg > best_silhouette_score:\n",
    "            best_silhouette_score = silhouette_avg\n",
    "            best_minPts = minPts\n",
    "    else:\n",
    "        print(f\"MinPts={minPts}, Silhouette Score: Not enough clusters formed\")\n",
    "\n",
    "if best_minPts is not None:\n",
    "    print(f\"Best MinPts: {best_minPts}, Best Silhouette Score: {best_silhouette_score:.4f}\")\n",
    "else:\n",
    "    print(\"No meaningful clusters found for any MinPts value.\")"
   ]
  },
  {
   "cell_type": "markdown",
   "id": "d295c689",
   "metadata": {},
   "source": [
    "# Comments\n",
    "MinPts values of 8 with the highest Silhouette Scores indicating -  the most optimal clustering quality for my dataset according to this metric."
   ]
  },
  {
   "cell_type": "code",
   "execution_count": 16,
   "id": "4597b6a7",
   "metadata": {},
   "outputs": [
    {
     "data": {
      "text/plain": [
       "18"
      ]
     },
     "execution_count": 16,
     "metadata": {},
     "output_type": "execute_result"
    }
   ],
   "source": [
    "# hyperparameters\n",
    "minPts = 8 # minPts >= D+1\n",
    "eps = 0.163\n",
    "\n",
    "outlier_detection = DBSCAN(min_samples = minPts, eps = eps)\n",
    "\n",
    "clusters = outlier_detection.fit_predict(data_reshaped2)\n",
    "\n",
    "list(clusters).count(-1)"
   ]
  },
  {
   "cell_type": "markdown",
   "id": "8be54500",
   "metadata": {},
   "source": [
    "By taking minPts = 8  and eps = 0.163 from results, outlier is detected now (about 18). The choice of minPts and eps significantly impacts the anomaly det. result. A smaller eps can give more outliers and larger eps can miss significant anomalies.\n",
    "The chosen value for minPts is quite high, which means that even medium groupings of points will be considered clusters. This can also affect the number of points classified as outliers."
   ]
  },
  {
   "cell_type": "markdown",
   "id": "68d634f3",
   "metadata": {},
   "source": [
    "## 3. Climate Dataset"
   ]
  },
  {
   "cell_type": "code",
   "execution_count": 17,
   "id": "2ff33a94",
   "metadata": {},
   "outputs": [],
   "source": [
    "# loading csv dataset\n",
    "df3 = pd.read_csv('C:/Users/rubai/AML/my_datasets/not_normal/DailyDelhiClimateTrain.csv')\n",
    "# only wind column is normally distributed\n",
    "data3 = df3['wind_speed'].values"
   ]
  },
  {
   "cell_type": "code",
   "execution_count": 18,
   "id": "ba8c6c9d",
   "metadata": {},
   "outputs": [],
   "source": [
    "data_reshaped3=data3.reshape(-1,1) "
   ]
  },
  {
   "cell_type": "markdown",
   "id": "1bf6dea3",
   "metadata": {},
   "source": [
    "## Elbow method to determine eps (neighbourhood radius)"
   ]
  },
  {
   "cell_type": "code",
   "execution_count": 19,
   "id": "406abc5a",
   "metadata": {},
   "outputs": [],
   "source": [
    "import plotly.express as px\n",
    "from sklearn.neighbors import NearestNeighbors\n",
    "from kneed import KneeLocator\n",
    "\n",
    "# number of neighbors\n",
    "neighbors = 10\n",
    "\n",
    "# fitting a Nearest Neighbors model\n",
    "nbrs = NearestNeighbors(n_neighbors=neighbors).fit(data_reshaped3)\n",
    "\n",
    "# calculating the distances to the neighbors\n",
    "distances, _ = nbrs.kneighbors(data_reshaped3)\n",
    "\n",
    "# calculating the distances to the k-nearest neighbor for each data point\n",
    "average_distances = sorted(distances[:, neighbors - 1], reverse=True)\n",
    "\n",
    "# creating a KneeLocator instance to find the knee point\n",
    "kneedle = KneeLocator(range(1, len(average_distances) + 1), average_distances, S=1.0, curve=\"convex\", direction=\"decreasing\")\n",
    "\n",
    "# the knee point\n",
    "# kneedle.plot_knee_normalized()"
   ]
  },
  {
   "cell_type": "code",
   "execution_count": 20,
   "id": "bc819e6e",
   "metadata": {},
   "outputs": [
    {
     "data": {
      "text/plain": [
       "0.5500000000000043"
      ]
     },
     "execution_count": 20,
     "metadata": {},
     "output_type": "execute_result"
    }
   ],
   "source": [
    "kneedle.knee_y #epsilon"
   ]
  },
  {
   "cell_type": "code",
   "execution_count": 21,
   "id": "e39e8a90",
   "metadata": {},
   "outputs": [
    {
     "data": {
      "text/plain": [
       "26"
      ]
     },
     "execution_count": 21,
     "metadata": {},
     "output_type": "execute_result"
    }
   ],
   "source": [
    "kneedle.elbow # k value"
   ]
  },
  {
   "cell_type": "markdown",
   "id": "02738b06",
   "metadata": {},
   "source": [
    "## Determinin optimal minPts using Silhouette Score"
   ]
  },
  {
   "cell_type": "code",
   "execution_count": 22,
   "id": "81daef5b",
   "metadata": {},
   "outputs": [
    {
     "name": "stdout",
     "output_type": "stream",
     "text": [
      "MinPts=2, Silhouette Score: Not enough clusters formed\n",
      "MinPts=3, Silhouette Score: Not enough clusters formed\n",
      "MinPts=4, Silhouette Score: Not enough clusters formed\n",
      "MinPts=5, Silhouette Score=0.7072\n",
      "MinPts=6, Silhouette Score=0.7072\n",
      "MinPts=7, Silhouette Score=0.6950\n",
      "MinPts=8, Silhouette Score=0.6950\n",
      "MinPts=9, Silhouette Score=0.6950\n",
      "MinPts=10, Silhouette Score=0.6950\n",
      "MinPts=11, Silhouette Score=0.6950\n",
      "MinPts=12, Silhouette Score=0.6950\n",
      "MinPts=13, Silhouette Score=0.6950\n",
      "MinPts=14, Silhouette Score=0.6950\n",
      "MinPts=15, Silhouette Score=0.6950\n",
      "MinPts=16, Silhouette Score=0.6950\n",
      "MinPts=17, Silhouette Score=0.6950\n",
      "MinPts=18, Silhouette Score=0.6950\n",
      "MinPts=19, Silhouette Score=0.6640\n",
      "MinPts=20, Silhouette Score=0.6640\n",
      "MinPts=21, Silhouette Score=0.6640\n",
      "MinPts=22, Silhouette Score=0.6894\n",
      "MinPts=23, Silhouette Score=0.6894\n",
      "MinPts=24, Silhouette Score=0.6894\n",
      "MinPts=25, Silhouette Score=0.6894\n",
      "MinPts=26, Silhouette Score=0.6894\n",
      "MinPts=27, Silhouette Score=0.6894\n",
      "MinPts=28, Silhouette Score=0.6860\n",
      "MinPts=29, Silhouette Score=0.6860\n",
      "MinPts=30, Silhouette Score=0.6860\n",
      "MinPts=31, Silhouette Score=0.6799\n",
      "MinPts=32, Silhouette Score=0.6799\n",
      "MinPts=33, Silhouette Score=0.6750\n",
      "MinPts=34, Silhouette Score=0.6723\n",
      "MinPts=35, Silhouette Score=0.6723\n",
      "MinPts=36, Silhouette Score=0.6723\n",
      "MinPts=37, Silhouette Score=0.6723\n",
      "MinPts=38, Silhouette Score=0.6697\n",
      "MinPts=39, Silhouette Score=0.6697\n",
      "MinPts=40, Silhouette Score=0.6697\n",
      "Best MinPts: 5, Best Silhouette Score: 0.7072\n"
     ]
    }
   ],
   "source": [
    "# range of MinPts values \n",
    "minPts_values = range(2, 41)\n",
    "best_silhouette_score = None  \n",
    "best_minPts = None\n",
    "\n",
    "for minPts in minPts_values:\n",
    "    # fit DBSCAN model with the current MinPts value\n",
    "    dbscan = DBSCAN(eps=0.5, min_samples=minPts)\n",
    "    cluster_labels = dbscan.fit_predict(data_reshaped2)\n",
    "    \n",
    "    # the silhouette score for the current clustering\n",
    "    unique_labels = np.unique(cluster_labels)\n",
    "    if len(unique_labels) > 1:  # Ensure more than one cluster is formed\n",
    "        silhouette_avg = silhouette_score(data_reshaped2, cluster_labels)\n",
    "        print(f\"MinPts={minPts}, Silhouette Score={silhouette_avg:.4f}\")\n",
    "        \n",
    "        # confirming if the current MinPts value produces a higher silhouette score\n",
    "        if best_silhouette_score is None or silhouette_avg > best_silhouette_score:\n",
    "            best_silhouette_score = silhouette_avg\n",
    "            best_minPts = minPts\n",
    "    else:\n",
    "        print(f\"MinPts={minPts}, Silhouette Score: Not enough clusters formed\")\n",
    "\n",
    "if best_minPts is not None:\n",
    "    print(f\"Best MinPts: {best_minPts}, Best Silhouette Score: {best_silhouette_score:.4f}\")\n",
    "else:\n",
    "    print(\"No meaningful clusters found for any MinPts value.\")"
   ]
  },
  {
   "cell_type": "markdown",
   "id": "cc35f7f2",
   "metadata": {},
   "source": [
    "# Comments\n",
    "MinPts values of 5 and 6 with the highest Silhouette Scores indicating -  the most optimal clustering quality for my dataset according to this metric."
   ]
  },
  {
   "cell_type": "code",
   "execution_count": 23,
   "id": "a5c8c85d",
   "metadata": {},
   "outputs": [
    {
     "data": {
      "text/plain": [
       "0"
      ]
     },
     "execution_count": 23,
     "metadata": {},
     "output_type": "execute_result"
    }
   ],
   "source": [
    "# hyperparameters\n",
    "minPts = 5 # minPts >= D+1\n",
    "eps = 0.55\n",
    "\n",
    "outlier_detection = DBSCAN(min_samples = minPts, eps = eps)\n",
    "\n",
    "clusters = outlier_detection.fit_predict(data_reshaped2)\n",
    "\n",
    "list(clusters).count(-1)"
   ]
  },
  {
   "cell_type": "markdown",
   "id": "ae1d4f7b",
   "metadata": {},
   "source": [
    "By taking minPts = 5  and eps = 0.55 from results, outlier is not detected now, the parametrs should be tuned more. The choice of minPts and eps significantly impacts the anomaly det. result. A smaller eps can give more outliers and larger eps can miss significant anomalies.\n",
    "The chosen value for minPts is low, which means that even very small groupings of points will be considered clusters. This can also affect the number of points classified as outliers."
   ]
  },
  {
   "cell_type": "code",
   "execution_count": null,
   "id": "5e0bfc79",
   "metadata": {},
   "outputs": [],
   "source": []
  },
  {
   "cell_type": "code",
   "execution_count": null,
   "id": "d0c61d30",
   "metadata": {},
   "outputs": [],
   "source": []
  },
  {
   "cell_type": "code",
   "execution_count": null,
   "id": "d90b4051",
   "metadata": {},
   "outputs": [],
   "source": []
  },
  {
   "cell_type": "code",
   "execution_count": null,
   "id": "9579bb7f",
   "metadata": {},
   "outputs": [],
   "source": []
  },
  {
   "cell_type": "code",
   "execution_count": null,
   "id": "1122587e",
   "metadata": {},
   "outputs": [],
   "source": []
  },
  {
   "cell_type": "code",
   "execution_count": null,
   "id": "d907915c",
   "metadata": {},
   "outputs": [],
   "source": []
  },
  {
   "cell_type": "code",
   "execution_count": null,
   "id": "b8da4880",
   "metadata": {},
   "outputs": [],
   "source": []
  },
  {
   "cell_type": "markdown",
   "id": "41b66c28",
   "metadata": {},
   "source": []
  },
  {
   "cell_type": "markdown",
   "id": "7082d4b7",
   "metadata": {},
   "source": [
    "Notes:\n",
    "links: https://towardsdatascience.com/explaining-dbscan-clustering-18eaf5c83b31\n",
    "Core Points: Core data points have at least minPts number of data points within their epsilon distance.\n",
    "\n",
    "Border Points: Border data points are on the outskirts as they are in the neighborhood (ie. w/in epsilon distance of core point) but have less than the required minPts.\n",
    "\n",
    "Outlier Points: These points are not part of a neighborhood (ie. more than epsilon distance) and are not border points. These are points located in low-density areas.\n",
    "\n",
    "Silhouette Method: This technique measures the separability between clusters. First, an average distance is found between each point and all other points in a cluster. Then it measures the distance between each point and each point in other clusters. We subtract the two average measures and divide by whichever average is larger."
   ]
  }
 ],
 "metadata": {
  "kernelspec": {
   "display_name": "Python 3 (ipykernel)",
   "language": "python",
   "name": "python3"
  },
  "language_info": {
   "codemirror_mode": {
    "name": "ipython",
    "version": 3
   },
   "file_extension": ".py",
   "mimetype": "text/x-python",
   "name": "python",
   "nbconvert_exporter": "python",
   "pygments_lexer": "ipython3",
   "version": "3.9.13"
  }
 },
 "nbformat": 4,
 "nbformat_minor": 5
}
