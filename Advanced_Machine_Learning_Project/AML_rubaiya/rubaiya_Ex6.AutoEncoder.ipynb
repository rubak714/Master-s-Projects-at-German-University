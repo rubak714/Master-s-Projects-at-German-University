{
 "cells": [
  {
   "cell_type": "markdown",
   "id": "91c76ea3",
   "metadata": {},
   "source": [
    "<img src=\"https://www.th-koeln.de/img/logo.svg\" style=\"float:right;\" width=\"200\">"
   ]
  },
  {
   "cell_type": "markdown",
   "id": "e9505dc0",
   "metadata": {},
   "source": [
    "# 6th exercise: <font color=\"#C70039\">Work with Autoencoders for anomaly detection</font>\n",
    "* Course: AML\n",
    "* Lecturer: <a href=\"https://www.gernotheisenberg.de/\">Gernot Heisenberg</a>\n",
    "* Author of notebook: <a href=\"https://www.gernotheisenberg.de/\">Gernot Heisenberg</a>\n",
    "* Name: Rubaiya Kabir Pranti\n",
    "* Matriculation Number: 11146364\n",
    "* Date: 16.01.2024\n",
    "\n",
    "<img src=\"https://blog.keras.io/img/ae/autoencoder_schema.jpg\" style=\"float: center;\" width=\"700\">\n",
    "\n",
    "---------------------------------\n",
    "**GENERAL NOTE 1**: \n",
    "Please make sure you are reading the entire notebook, since it contains a lot of information on your tasks (e.g. regarding the set of certain paramaters or a specific computational trick), and the written mark downs as well as comments contain a lot of information on how things work together as a whole. \n",
    "\n",
    "**GENERAL NOTE 2**: \n",
    "* Please, when commenting source code, just use English language only. \n",
    "* When describing an observation please use English language, too.\n",
    "* This applies to all exercises throughout this course.\n",
    "\n",
    "---------------------------------\n",
    "\n",
    "### <font color=\"ce33ff\">DESCRIPTION</font>:\n",
    "Autoencoder is an unsupervised artificial neural network (ANN) that learns how to efficiently compress and encode data and then learns how to reconstruct the data back from the reduced encoded representation to a representation that is as close to the original input as possible.\n",
    "\n",
    "An Autoencoder reduces data dimensions by learning how to ignore the noise in the data and thus outliers.\n",
    "In the section above, you can seen an example of the input/output image from the MNIST dataset to an Autoencoder.\n",
    "\n",
    "#### Autoencoder Components:\n",
    "An Autoencoder consists of four main parts:\n",
    "\n",
    "1. Encoder: In which the model learns how to reduce the input dimensions and compress the input data into an encoded representation.\n",
    "\n",
    "2. Bottleneck: which is the layer that contains the compressed representation of the input data. This is the lowest possible dimensions of the input data. The bottlneck is also called latent vector. The concept of the latent space and latent vectors becomes important later on as we move forward to understand Generative Models. \n",
    "\n",
    "3. Decoder: In which the model learns how to reconstruct the data from the encoded representation to be as close to the original input as possible.\n",
    "\n",
    "4. Reconstruction Loss: This is the method that measures how well the decoder is performing and how close the output is to the original input.\n",
    "\n",
    "As always in ANNs, the training itself involves back propagation in order to minimize the network’s reconstruction loss.\n",
    "\n",
    "Due to this features of an Autoencoder the use cases are manyfold. One of the obviously is anomaly detection. \n",
    "\n",
    "#### Autoencoder Architecture:\n",
    "\n",
    "The network architecture for Autoencoders can vary between simple Feed Forward networks, Recurrent Neural Networks (LSTM) or Convolutional Neural Networks (CNN) depending on the use case. \n",
    "\n",
    "---------------------------------\n",
    "\n",
    "### <font color=\"FFC300\">TASKS</font>:\n",
    "The tasks that you need to work on within this notebook are always indicated below as bullet points. \n",
    "If a task is more challenging and consists of several steps, this is indicated as well. \n",
    "Make sure you have worked down the task list and commented your doings. \n",
    "This should be done by using markdown.<br> \n",
    "<font color=red>Make sure you don't forget to specify your name and your matriculation number in the notebook.</font>\n",
    "\n",
    "**YOUR TASKS in this exercise are as follows**:\n",
    "1. import the notebook to Google Colab or use your local machine.\n",
    "2. make sure you specified you name and your matriculation number in the header below my name and date. \n",
    "    * set the date too and remove mine.\n",
    "3. read the entire notebook carefully \n",
    "    * add comments whereever you feel it necessary for better understanding\n",
    "    * run the notebook for the first time.\n",
    "    * the example below shows how to use an autoencoder for anomaly detection\n",
    "\n",
    "4. <font color=green>Develop an Autoencoder for Domain Adaptation (Me -> Walter White ). You can of course also take own data, e.g. a photo of yours and someone else.</font>\n",
    "5. Set at least the following hyperparameters for training (epochs=100000, shuffle=True).\n",
    "6. Implement a CNN for working out important features for the adaptation. If you feel lost in the exercise, please visit the sample solution.\n",
    "7. There is also an implementation of data augmentation that helps you building up your data set from one single \"original\" image. \n",
    "---------------------------------"
   ]
  },
  {
   "cell_type": "markdown",
   "id": "9e8ff998",
   "metadata": {},
   "source": [
    "### Auto-Encoding\n",
    "If you have correlated input data, the auto-encoder method will work very well because the encoding operation relies on the correlated features to compress the data.\n",
    "Let’s consider that an auto-encoder is trained on the MNIST dataset. \n",
    "As you know already, using a simple FeedForward neural network, this can be done by building a simple 6 layers network as below:"
   ]
  },
  {
   "cell_type": "code",
   "execution_count": 1,
   "id": "ec3ac1e9",
   "metadata": {},
   "outputs": [],
   "source": [
    "# !pip install numpy pandas jupyter ipykernel"
   ]
  },
  {
   "cell_type": "code",
   "execution_count": 2,
   "id": "fe938543",
   "metadata": {},
   "outputs": [],
   "source": [
    "# !python -m ipykernel install --user --name=myenv"
   ]
  },
  {
   "cell_type": "code",
   "execution_count": 3,
   "id": "e28f13b5",
   "metadata": {},
   "outputs": [],
   "source": [
    "# !jupyter notebook"
   ]
  },
  {
   "cell_type": "code",
   "execution_count": 4,
   "id": "3d8c2112",
   "metadata": {},
   "outputs": [
    {
     "name": "stdout",
     "output_type": "stream",
     "text": [
      "1.26.1\n"
     ]
    }
   ],
   "source": [
    "import numpy\n",
    "print(numpy.__version__)"
   ]
  },
  {
   "cell_type": "code",
   "execution_count": 5,
   "id": "647994b7",
   "metadata": {},
   "outputs": [],
   "source": [
    "# !pip install --user --upgrade numpy"
   ]
  },
  {
   "cell_type": "code",
   "execution_count": 6,
   "id": "e418f932",
   "metadata": {},
   "outputs": [
    {
     "name": "stderr",
     "output_type": "stream",
     "text": [
      "C:\\Users\\rubai\\anaconda3\\lib\\site-packages\\scipy\\__init__.py:155: UserWarning: A NumPy version >=1.18.5 and <1.25.0 is required for this version of SciPy (detected version 1.26.1\n",
      "  warnings.warn(f\"A NumPy version >={np_minversion} and <{np_maxversion}\"\n"
     ]
    },
    {
     "name": "stdout",
     "output_type": "stream",
     "text": [
      "2.13.0\n"
     ]
    }
   ],
   "source": [
    "import tensorflow as tf\n",
    "print(tf.__version__)"
   ]
  },
  {
   "cell_type": "code",
   "execution_count": 7,
   "id": "5f2c0a59",
   "metadata": {
    "tags": []
   },
   "outputs": [],
   "source": [
    "import os\n",
    "import keras\n",
    "import numpy as np\n",
    "from   keras.datasets import mnist\n",
    "from   keras.models import Sequential, Model\n",
    "from   keras.layers import Dense, Input\n",
    "from   keras import optimizers\n",
    "from   keras.optimizers import Adam\n",
    "from tensorflow.keras.preprocessing.image import ImageDataGenerator, load_img, img_to_array\n",
    "\n",
    "# load the inbuild mnist data set (8-bit grayscale digits)\n",
    "# https://en.wikipedia.org/wiki/MNIST_database\n",
    "\n",
    "# the MNIST dataset, which contains 70,000 images of handwritten digits (60,000 for training and 10,000 for testing) is loaded\n",
    "# each image is 28x28 pixels and is represented in grayscale (8-bit pixels, with values ranging from 0 to 255\n",
    "(x_train, y_train), (x_test, y_test) = mnist.load_data()\n",
    "\n",
    "# normalizing the training and the validation data set\n",
    "# the training (train_x) and testing (val_x) data are normalized by reshaping the images \n",
    "# from 28x28 pixels to 784-element vectors (since 28 * 28 = 784) \n",
    "# and scaling the pixel intensities to the range [0, 1] by dividing by 255 (since the pixel values range from 0 to 255)\n",
    "\n",
    "train_x = x_train.reshape(60000, 784) / 255 #normalized\n",
    "val_x = x_test.reshape(10000, 784) / 255\n",
    "\n",
    "# building the auto-encoding layers\n",
    "# a Sequential model is created, which is a linear stack of layers\n",
    "autoencoder = Sequential()\n",
    "autoencoder.add(Dense(512,  activation='elu', input_shape=(784,))) # expects input with 784 features (the reshaped images)\n",
    "autoencoder.add(Dense(128,  activation='elu'))\n",
    "autoencoder.add(Dense(10,   activation='linear', name=\"bottleneck\"))\n",
    "autoencoder.add(Dense(128,  activation='elu'))\n",
    "autoencoder.add(Dense(512,  activation='elu'))\n",
    "# the final dense layer has 784 units (to reconstruct the original 784-pixel input) \n",
    "# and uses a sigmoid activation function to ensure the output values are in the range [0, 1], similar to the normalized input\n",
    "autoencoder.add(Dense(784,  activation='sigmoid'))\n",
    "# the autoencoder model is compiled with the mean squared error loss function and the Adam optimizer\n",
    "# this sets up the network for training, where it will learn to compress the input to the bottleneck layer and \n",
    "# then reconstruct it as closely as possible to the original input\n",
    "autoencoder.compile(loss='mean_squared_error', optimizer = Adam())"
   ]
  },
  {
   "cell_type": "code",
   "execution_count": 37,
   "id": "7b614457",
   "metadata": {},
   "outputs": [
    {
     "name": "stdout",
     "output_type": "stream",
     "text": [
      "Epoch 1/100\n",
      "59/59 [==============================] - 4s 72ms/step - loss: 0.0181 - val_loss: 0.0177\n",
      "Epoch 2/100\n",
      "59/59 [==============================] - 4s 68ms/step - loss: 0.0177 - val_loss: 0.0172\n",
      "Epoch 3/100\n",
      "59/59 [==============================] - 4s 65ms/step - loss: 0.0173 - val_loss: 0.0169\n",
      "Epoch 4/100\n",
      "59/59 [==============================] - 4s 62ms/step - loss: 0.0170 - val_loss: 0.0167\n",
      "Epoch 5/100\n",
      "59/59 [==============================] - 4s 66ms/step - loss: 0.0166 - val_loss: 0.0163\n",
      "Epoch 6/100\n",
      "59/59 [==============================] - 3s 59ms/step - loss: 0.0164 - val_loss: 0.0162\n",
      "Epoch 7/100\n",
      "59/59 [==============================] - 3s 59ms/step - loss: 0.0161 - val_loss: 0.0159\n",
      "Epoch 8/100\n",
      "59/59 [==============================] - 3s 59ms/step - loss: 0.0159 - val_loss: 0.0157\n",
      "Epoch 9/100\n",
      "59/59 [==============================] - 4s 64ms/step - loss: 0.0156 - val_loss: 0.0155\n",
      "Epoch 10/100\n",
      "59/59 [==============================] - 4s 72ms/step - loss: 0.0154 - val_loss: 0.0152\n",
      "Epoch 11/100\n",
      "59/59 [==============================] - 4s 68ms/step - loss: 0.0152 - val_loss: 0.0151\n",
      "Epoch 12/100\n",
      "59/59 [==============================] - 4s 72ms/step - loss: 0.0150 - val_loss: 0.0149\n",
      "Epoch 13/100\n",
      "59/59 [==============================] - 4s 67ms/step - loss: 0.0148 - val_loss: 0.0147\n",
      "Epoch 14/100\n",
      "59/59 [==============================] - 4s 70ms/step - loss: 0.0147 - val_loss: 0.0146\n",
      "Epoch 15/100\n",
      "59/59 [==============================] - 4s 67ms/step - loss: 0.0145 - val_loss: 0.0145\n",
      "Epoch 16/100\n",
      "59/59 [==============================] - 4s 73ms/step - loss: 0.0144 - val_loss: 0.0144\n",
      "Epoch 17/100\n",
      "59/59 [==============================] - 4s 61ms/step - loss: 0.0142 - val_loss: 0.0142\n",
      "Epoch 18/100\n",
      "59/59 [==============================] - 4s 69ms/step - loss: 0.0141 - val_loss: 0.0141\n",
      "Epoch 19/100\n",
      "59/59 [==============================] - 5s 77ms/step - loss: 0.0140 - val_loss: 0.0140\n",
      "Epoch 20/100\n",
      "59/59 [==============================] - 5s 77ms/step - loss: 0.0139 - val_loss: 0.0139\n",
      "Epoch 21/100\n",
      "59/59 [==============================] - 5s 78ms/step - loss: 0.0138 - val_loss: 0.0138\n",
      "Epoch 22/100\n",
      "59/59 [==============================] - 4s 73ms/step - loss: 0.0137 - val_loss: 0.0137\n",
      "Epoch 23/100\n",
      "59/59 [==============================] - 4s 73ms/step - loss: 0.0136 - val_loss: 0.0136\n",
      "Epoch 24/100\n",
      "59/59 [==============================] - 4s 63ms/step - loss: 0.0135 - val_loss: 0.0136\n",
      "Epoch 25/100\n",
      "59/59 [==============================] - 4s 73ms/step - loss: 0.0134 - val_loss: 0.0135\n",
      "Epoch 26/100\n",
      "59/59 [==============================] - 4s 68ms/step - loss: 0.0133 - val_loss: 0.0134\n",
      "Epoch 27/100\n",
      "59/59 [==============================] - 4s 64ms/step - loss: 0.0132 - val_loss: 0.0134\n",
      "Epoch 28/100\n",
      "59/59 [==============================] - 4s 62ms/step - loss: 0.0131 - val_loss: 0.0133\n",
      "Epoch 29/100\n",
      "59/59 [==============================] - 4s 69ms/step - loss: 0.0130 - val_loss: 0.0132\n",
      "Epoch 30/100\n",
      "59/59 [==============================] - 4s 69ms/step - loss: 0.0129 - val_loss: 0.0131\n",
      "Epoch 31/100\n",
      "59/59 [==============================] - 4s 72ms/step - loss: 0.0128 - val_loss: 0.0131\n",
      "Epoch 32/100\n",
      "59/59 [==============================] - 4s 69ms/step - loss: 0.0128 - val_loss: 0.0131\n",
      "Epoch 33/100\n",
      "59/59 [==============================] - 4s 72ms/step - loss: 0.0127 - val_loss: 0.0130\n",
      "Epoch 34/100\n",
      "59/59 [==============================] - 4s 74ms/step - loss: 0.0126 - val_loss: 0.0130\n",
      "Epoch 35/100\n",
      "59/59 [==============================] - 4s 74ms/step - loss: 0.0125 - val_loss: 0.0129\n",
      "Epoch 36/100\n",
      "59/59 [==============================] - 4s 61ms/step - loss: 0.0125 - val_loss: 0.0129\n",
      "Epoch 37/100\n",
      "59/59 [==============================] - 4s 65ms/step - loss: 0.0124 - val_loss: 0.0128\n",
      "Epoch 38/100\n",
      "59/59 [==============================] - 4s 73ms/step - loss: 0.0124 - val_loss: 0.0127\n",
      "Epoch 39/100\n",
      "59/59 [==============================] - 4s 63ms/step - loss: 0.0123 - val_loss: 0.0127\n",
      "Epoch 40/100\n",
      "59/59 [==============================] - 4s 68ms/step - loss: 0.0122 - val_loss: 0.0127\n",
      "Epoch 41/100\n",
      "59/59 [==============================] - 4s 72ms/step - loss: 0.0122 - val_loss: 0.0126\n",
      "Epoch 42/100\n",
      "59/59 [==============================] - 4s 65ms/step - loss: 0.0121 - val_loss: 0.0126\n",
      "Epoch 43/100\n",
      "59/59 [==============================] - 4s 67ms/step - loss: 0.0121 - val_loss: 0.0125\n",
      "Epoch 44/100\n",
      "59/59 [==============================] - 4s 64ms/step - loss: 0.0120 - val_loss: 0.0125\n",
      "Epoch 45/100\n",
      "59/59 [==============================] - 3s 56ms/step - loss: 0.0120 - val_loss: 0.0125\n",
      "Epoch 46/100\n",
      "59/59 [==============================] - 4s 69ms/step - loss: 0.0119 - val_loss: 0.0124\n",
      "Epoch 47/100\n",
      "59/59 [==============================] - 4s 67ms/step - loss: 0.0119 - val_loss: 0.0123\n",
      "Epoch 48/100\n",
      "59/59 [==============================] - 4s 63ms/step - loss: 0.0118 - val_loss: 0.0123\n",
      "Epoch 49/100\n",
      "59/59 [==============================] - 4s 69ms/step - loss: 0.0118 - val_loss: 0.0123\n",
      "Epoch 50/100\n",
      "59/59 [==============================] - 4s 69ms/step - loss: 0.0117 - val_loss: 0.0123\n",
      "Epoch 51/100\n",
      "59/59 [==============================] - 4s 63ms/step - loss: 0.0117 - val_loss: 0.0122\n",
      "Epoch 52/100\n",
      "59/59 [==============================] - 4s 67ms/step - loss: 0.0116 - val_loss: 0.0122\n",
      "Epoch 53/100\n",
      "59/59 [==============================] - 4s 69ms/step - loss: 0.0116 - val_loss: 0.0121\n",
      "Epoch 54/100\n",
      "59/59 [==============================] - 4s 64ms/step - loss: 0.0115 - val_loss: 0.0121\n",
      "Epoch 55/100\n",
      "59/59 [==============================] - 4s 66ms/step - loss: 0.0115 - val_loss: 0.0121\n",
      "Epoch 56/100\n",
      "59/59 [==============================] - 4s 69ms/step - loss: 0.0115 - val_loss: 0.0122\n",
      "Epoch 57/100\n",
      "59/59 [==============================] - 4s 64ms/step - loss: 0.0114 - val_loss: 0.0121\n",
      "Epoch 58/100\n",
      "59/59 [==============================] - 4s 69ms/step - loss: 0.0114 - val_loss: 0.0120\n",
      "Epoch 59/100\n",
      "59/59 [==============================] - 4s 70ms/step - loss: 0.0113 - val_loss: 0.0120\n",
      "Epoch 60/100\n",
      "59/59 [==============================] - 4s 65ms/step - loss: 0.0113 - val_loss: 0.0120\n",
      "Epoch 61/100\n",
      "59/59 [==============================] - 4s 70ms/step - loss: 0.0112 - val_loss: 0.0120\n",
      "Epoch 62/100\n",
      "59/59 [==============================] - 4s 68ms/step - loss: 0.0112 - val_loss: 0.0119\n",
      "Epoch 63/100\n",
      "59/59 [==============================] - 4s 68ms/step - loss: 0.0112 - val_loss: 0.0120\n",
      "Epoch 64/100\n",
      "59/59 [==============================] - 4s 68ms/step - loss: 0.0111 - val_loss: 0.0119\n",
      "Epoch 65/100\n",
      "59/59 [==============================] - 4s 67ms/step - loss: 0.0111 - val_loss: 0.0118\n",
      "Epoch 66/100\n",
      "59/59 [==============================] - 4s 64ms/step - loss: 0.0111 - val_loss: 0.0119\n",
      "Epoch 67/100\n",
      "59/59 [==============================] - 4s 69ms/step - loss: 0.0111 - val_loss: 0.0118\n",
      "Epoch 68/100\n",
      "59/59 [==============================] - 4s 66ms/step - loss: 0.0110 - val_loss: 0.0118\n",
      "Epoch 69/100\n",
      "59/59 [==============================] - 4s 69ms/step - loss: 0.0110 - val_loss: 0.0118\n",
      "Epoch 70/100\n",
      "59/59 [==============================] - 4s 67ms/step - loss: 0.0110 - val_loss: 0.0117\n",
      "Epoch 71/100\n",
      "59/59 [==============================] - 4s 67ms/step - loss: 0.0109 - val_loss: 0.0117\n",
      "Epoch 72/100\n",
      "59/59 [==============================] - 4s 67ms/step - loss: 0.0109 - val_loss: 0.0117\n",
      "Epoch 73/100\n",
      "59/59 [==============================] - 4s 67ms/step - loss: 0.0108 - val_loss: 0.0117\n",
      "Epoch 74/100\n",
      "59/59 [==============================] - 4s 65ms/step - loss: 0.0108 - val_loss: 0.0117\n",
      "Epoch 75/100\n",
      "59/59 [==============================] - 3s 56ms/step - loss: 0.0108 - val_loss: 0.0117\n",
      "Epoch 76/100\n",
      "59/59 [==============================] - 3s 59ms/step - loss: 0.0108 - val_loss: 0.0117\n",
      "Epoch 77/100\n",
      "59/59 [==============================] - 4s 59ms/step - loss: 0.0108 - val_loss: 0.0116\n",
      "Epoch 78/100\n",
      "59/59 [==============================] - 3s 59ms/step - loss: 0.0107 - val_loss: 0.0116\n",
      "Epoch 79/100\n",
      "59/59 [==============================] - 3s 57ms/step - loss: 0.0107 - val_loss: 0.0116\n",
      "Epoch 80/100\n",
      "59/59 [==============================] - 4s 65ms/step - loss: 0.0107 - val_loss: 0.0116\n",
      "Epoch 81/100\n",
      "59/59 [==============================] - 4s 63ms/step - loss: 0.0106 - val_loss: 0.0115\n",
      "Epoch 82/100\n",
      "59/59 [==============================] - 4s 68ms/step - loss: 0.0106 - val_loss: 0.0116\n",
      "Epoch 83/100\n",
      "59/59 [==============================] - 5s 79ms/step - loss: 0.0106 - val_loss: 0.0115\n",
      "Epoch 84/100\n",
      "59/59 [==============================] - 4s 76ms/step - loss: 0.0106 - val_loss: 0.0115\n",
      "Epoch 85/100\n",
      "59/59 [==============================] - 4s 65ms/step - loss: 0.0105 - val_loss: 0.0115\n",
      "Epoch 86/100\n",
      "59/59 [==============================] - 4s 70ms/step - loss: 0.0105 - val_loss: 0.0115\n",
      "Epoch 87/100\n",
      "59/59 [==============================] - 4s 72ms/step - loss: 0.0105 - val_loss: 0.0115\n",
      "Epoch 88/100\n",
      "59/59 [==============================] - 4s 65ms/step - loss: 0.0105 - val_loss: 0.0115\n",
      "Epoch 89/100\n",
      "59/59 [==============================] - 4s 67ms/step - loss: 0.0104 - val_loss: 0.0114\n",
      "Epoch 90/100\n",
      "59/59 [==============================] - 4s 67ms/step - loss: 0.0104 - val_loss: 0.0115\n",
      "Epoch 91/100\n",
      "59/59 [==============================] - 4s 67ms/step - loss: 0.0104 - val_loss: 0.0114\n",
      "Epoch 92/100\n",
      "59/59 [==============================] - 4s 67ms/step - loss: 0.0104 - val_loss: 0.0114\n",
      "Epoch 93/100\n",
      "59/59 [==============================] - 4s 69ms/step - loss: 0.0103 - val_loss: 0.0114\n",
      "Epoch 94/100\n",
      "59/59 [==============================] - 4s 69ms/step - loss: 0.0103 - val_loss: 0.0114\n",
      "Epoch 95/100\n",
      "59/59 [==============================] - 4s 71ms/step - loss: 0.0103 - val_loss: 0.0114\n",
      "Epoch 96/100\n",
      "59/59 [==============================] - 4s 74ms/step - loss: 0.0103 - val_loss: 0.0114\n",
      "Epoch 97/100\n",
      "59/59 [==============================] - 4s 74ms/step - loss: 0.0103 - val_loss: 0.0114\n",
      "Epoch 98/100\n",
      "59/59 [==============================] - 4s 71ms/step - loss: 0.0103 - val_loss: 0.0114\n",
      "Epoch 99/100\n",
      "59/59 [==============================] - 4s 71ms/step - loss: 0.0102 - val_loss: 0.0114\n",
      "Epoch 100/100\n",
      "59/59 [==============================] - 4s 73ms/step - loss: 0.0102 - val_loss: 0.0113\n"
     ]
    }
   ],
   "source": [
    "'''\n",
    "NOTE:\n",
    "-----\n",
    "The Exponential Linear Unit (ELU) is an activation function for neural networks. \n",
    "In contrast to ReLUs (which you know), ELUs have negative values which allows them to push mean unit \n",
    "activations closer to zero like batch normalization but with lower computational complexity.\n",
    "'''    \n",
    "\n",
    "# train the model and finally assign the encoding to the decoder\n",
    "'''\n",
    "NOTE:\n",
    "-----\n",
    "make sure you understand, that you are training on train_x and not on train_y but train_x again for the reconstruction\n",
    "the same for the validation (val_x, val_x)\n",
    "'''\n",
    "# training\n",
    "trained_model = autoencoder.fit(train_x, train_x, batch_size=1024, epochs=100,shuffle=True, verbose=1, validation_data=(val_x, val_x))"
   ]
  },
  {
   "cell_type": "code",
   "execution_count": 38,
   "id": "a4baed57",
   "metadata": {},
   "outputs": [
    {
     "name": "stdout",
     "output_type": "stream",
     "text": [
      "Model: \"sequential\"\n",
      "_________________________________________________________________\n",
      " Layer (type)                Output Shape              Param #   \n",
      "=================================================================\n",
      " dense (Dense)               (None, 512)               401920    \n",
      "                                                                 \n",
      " dense_1 (Dense)             (None, 128)               65664     \n",
      "                                                                 \n",
      " bottleneck (Dense)          (None, 10)                1290      \n",
      "                                                                 \n",
      " dense_2 (Dense)             (None, 128)               1408      \n",
      "                                                                 \n",
      " dense_3 (Dense)             (None, 512)               66048     \n",
      "                                                                 \n",
      " dense_4 (Dense)             (None, 784)               402192    \n",
      "                                                                 \n",
      "=================================================================\n",
      "Total params: 938522 (3.58 MB)\n",
      "Trainable params: 938522 (3.58 MB)\n",
      "Non-trainable params: 0 (0.00 Byte)\n",
      "_________________________________________________________________\n"
     ]
    }
   ],
   "source": [
    "autoencoder.summary()"
   ]
  },
  {
   "cell_type": "markdown",
   "id": "90b99b99",
   "metadata": {},
   "source": []
  },
  {
   "cell_type": "markdown",
   "id": "c87fab4b",
   "metadata": {},
   "source": [
    "# encoder"
   ]
  },
  {
   "cell_type": "code",
   "execution_count": 39,
   "id": "0ef6c460",
   "metadata": {},
   "outputs": [],
   "source": [
    "encoder = Model(autoencoder.input, autoencoder.get_layer('bottleneck').output)\n",
    "#creating a new model as encoder\n",
    "#theline says that it creates a new model using Model (), that takes the same input as the original autoencoder \n",
    "#but outputs the result from the 'bottleneck' layer and it creates a model that includes only the encoding \n",
    "#part of the autoencoder, which can be used to transform the input data into its encoded (compressed) representation"
   ]
  },
  {
   "cell_type": "code",
   "execution_count": 40,
   "id": "d50670d3",
   "metadata": {},
   "outputs": [
    {
     "name": "stdout",
     "output_type": "stream",
     "text": [
      "1875/1875 [==============================] - 9s 5ms/step\n"
     ]
    }
   ],
   "source": [
    "encoded_data = encoder.predict(train_x)  # bottleneck representation=compressed data\n",
    "#encoding the input data only\n",
    "#This line uses the encoder model to predict the train_x data. It feeds the training data into the encoder and outputs the encoded (compressed) data. \n",
    "#The result- encoded_data is the data in its compressed form at the bottlenec"
   ]
  },
  {
   "cell_type": "code",
   "execution_count": 41,
   "id": "abea43bf",
   "metadata": {},
   "outputs": [
    {
     "name": "stdout",
     "output_type": "stream",
     "text": [
      "1875/1875 [==============================] - 16s 8ms/step\n"
     ]
    }
   ],
   "source": [
    "decoded_output = autoencoder.predict(train_x)        # reconstruction\n",
    "#here, we are predicting or reconstructing the given input data from compressed data on the \"train\" data\n",
    "# ideally, it should be val data or test data\n",
    "# but for understanding, used train data\n",
    "# where we can see reconstruction loss is very less as already model is trained on same dataset"
   ]
  },
  {
   "cell_type": "markdown",
   "id": "6c61a185",
   "metadata": {},
   "source": [
    "# reconstruction loss"
   ]
  },
  {
   "cell_type": "code",
   "execution_count": 42,
   "id": "1bb57f43",
   "metadata": {},
   "outputs": [],
   "source": [
    "# train_x= original input data and decoded_output is our reconstructed data from the autoencoder\n",
    "reconstruction_loss = np.mean(np.power(train_x - decoded_output, 2), axis=-1)"
   ]
  },
  {
   "cell_type": "code",
   "execution_count": 43,
   "id": "ab36b61d",
   "metadata": {},
   "outputs": [
    {
     "name": "stdout",
     "output_type": "stream",
     "text": [
      "Average reconstruction loss: 0.010099532625435555\n"
     ]
    }
   ],
   "source": [
    "average_reconstruction_loss = np.mean(reconstruction_loss)\n",
    "print(\"Average reconstruction loss:\", average_reconstruction_loss)"
   ]
  },
  {
   "cell_type": "markdown",
   "id": "52ea8473",
   "metadata": {},
   "source": [
    "## <font color=\"FFC300\">Comments</font>:"
   ]
  },
  {
   "cell_type": "markdown",
   "id": "ff9176e5",
   "metadata": {},
   "source": [
    "As it is seen in the output, the last avg. reconstruction loss/error for the validation set is around 0.0100, which is great. \n",
    "Now, if we pass any normal image from the MNIST dataset, the reconstruction loss will be very low (< 0.02) BUT if we tried to pass any other different image (outlier / anomaly), we will get a high reconstruction loss value because the network failed to reconstruct the image/input that is considered an anomaly.\n",
    "\n",
    "Notice in the code above, we can use only the encoder part to compress some data or images and we can also only use the decoder part to decompress the data by loading the decoder layers."
   ]
  },
  {
   "cell_type": "markdown",
   "id": "9d439380",
   "metadata": {},
   "source": [
    "# individual decoder for understanding/returning the decoder"
   ]
  },
  {
   "cell_type": "code",
   "execution_count": 44,
   "id": "65f42bfd",
   "metadata": {},
   "outputs": [],
   "source": [
    "encoding_dim = 10\n",
    "# the bottleneck layer (the middle layer of the autoencoder that contains the compressed representation of the input data)\n",
    "# produces an output vector of size 10.\n",
    "\n",
    "# returns the decoder\n",
    "encoded_input = Input(shape=(encoding_dim,)) #this line creates an input layer for the decoder model\n",
    "decoder = autoencoder.layers[-3](encoded_input) #it takes the third-to-last layer of the autoencoder and applies it to the \n",
    "#encoded_input. this is likely the first layer of the decoder part of the autoencoder\n",
    "decoder = autoencoder.layers[-2](decoder) #this takes the second-to-last layer of the autoencoder \n",
    "#and applies it to the output of the previous layer (which is now called decoder)\n",
    "decoder = autoencoder.layers[-1](decoder)#this takes the last layer of the autoencoder, \n",
    "#which should be the output layer that reconstructs the input data, and applies it to the output of the previous layer\n",
    "decoder = Model(encoded_input, decoder) #This line is creating the decoder model itself\n",
    "#the model takes encoded_input as its input and provides decoder as its output"
   ]
  },
  {
   "cell_type": "code",
   "execution_count": 45,
   "id": "13471314",
   "metadata": {},
   "outputs": [
    {
     "name": "stdout",
     "output_type": "stream",
     "text": [
      "Model: \"model_4\"\n",
      "_________________________________________________________________\n",
      " Layer (type)                Output Shape              Param #   \n",
      "=================================================================\n",
      " input_2 (InputLayer)        [(None, 10)]              0         \n",
      "                                                                 \n",
      " dense_2 (Dense)             (None, 128)               1408      \n",
      "                                                                 \n",
      " dense_3 (Dense)             (None, 512)               66048     \n",
      "                                                                 \n",
      " dense_4 (Dense)             (None, 784)               402192    \n",
      "                                                                 \n",
      "=================================================================\n",
      "Total params: 469648 (1.79 MB)\n",
      "Trainable params: 469648 (1.79 MB)\n",
      "Non-trainable params: 0 (0.00 Byte)\n",
      "_________________________________________________________________\n"
     ]
    }
   ],
   "source": [
    "decoder.summary()"
   ]
  },
  {
   "cell_type": "markdown",
   "id": "adf39053",
   "metadata": {},
   "source": [
    "# Auto-Encoders for Anomaly Detection\n",
    "Now, let’s do some anomaly detection. The code below uses two different images to predict the anomaly score (reconstruction error) using the autoencoder network we trained above. \n",
    "\n",
    "The first image is from the MNIST and the result is error=2.20278686. This means that the image is not an anomaly. The second image (bird.png) obviously does not belong to the training dataset and the result is: error=3113.9646. This high error means that the image is an anomaly. Even the third image. The same concept applies to any type of dataset."
   ]
  },
  {
   "cell_type": "code",
   "execution_count": 46,
   "id": "75132c34",
   "metadata": {},
   "outputs": [],
   "source": [
    "from tensorflow.keras.preprocessing.image import load_img\n",
    "from tensorflow.keras.preprocessing.image import img_to_array"
   ]
  },
  {
   "cell_type": "markdown",
   "id": "b460f180",
   "metadata": {},
   "source": [
    "## <font color=\"FFC300\">Comments</font>:"
   ]
  },
  {
   "cell_type": "code",
   "execution_count": 48,
   "id": "da9e8232",
   "metadata": {
    "tags": []
   },
   "outputs": [
    {
     "name": "stdout",
     "output_type": "stream",
     "text": [
      "1/1 [==============================] - 0s 68ms/step\n",
      "[2.20278686]\n"
     ]
    }
   ],
   "source": [
    "# If you are using a newer version of keras than '2.4.3', read this article below.\n",
    "# It describes a versioning issue in the keras libs\n",
    "'''https://stackoverflow.com/questions/72383347/how-to-fix-it-attributeerror-module-keras-preprocessing-image-has-no-attribu'''\n",
    "from keras.preprocessing import image\n",
    "\n",
    "# take an image from the validation data set or the training data set, respectively\n",
    "input_img = val_x[60] \n",
    "input_img_flat = input_img.reshape(1,784)\n",
    "\n",
    "target_data = autoencoder.predict(input_img_flat)\n",
    "\n",
    "dist = np.linalg.norm(input_img_flat - target_data, axis=-1)\n",
    "# euclidean distance (np.linalg.norm) will give a single scalar value representing the magnitude of the difference between the two images.\n",
    "#mean squared error (the previous calculation) gives the average squared difference per pixel\n",
    "# np.linalg.norm function computes the norm of the vector, which by default is the L2 norm\n",
    "#it's the square root of the sum of the absolute squares of the differences between the corresponding elements of the two arrays. \n",
    "#when we use axis=-1, it computes the norm along the last axis, which means it calculates the norm for each row in a 2D array\n",
    "\n",
    "print(dist)"
   ]
  },
  {
   "cell_type": "code",
   "execution_count": 50,
   "id": "ccafc75d",
   "metadata": {
    "tags": []
   },
   "outputs": [
    {
     "name": "stdout",
     "output_type": "stream",
     "text": [
      "1/1 [==============================] - 0s 58ms/step\n",
      "[3113.9646]\n"
     ]
    }
   ],
   "source": [
    "# Now take bird as the test image bird.jpg. The error score will be very high (error=3113.9646)\n",
    "img = load_img(\"./images/bird.jpg\", target_size=(28, 28), color_mode = \"grayscale\")\n",
    "input_img = img_to_array(img)\n",
    "\n",
    "input_img_flat = input_img.reshape(1,784)\n",
    "target_data = autoencoder.predict(input_img_flat)\n",
    "dist = np.linalg.norm(input_img_flat - target_data, axis=-1)\n",
    "print(dist)"
   ]
  },
  {
   "cell_type": "code",
   "execution_count": 51,
   "id": "b553f742",
   "metadata": {
    "tags": []
   },
   "outputs": [
    {
     "name": "stdout",
     "output_type": "stream",
     "text": [
      "1/1 [==============================] - 0s 47ms/step\n",
      "[1840.8634]\n"
     ]
    }
   ],
   "source": [
    "''' \n",
    "Now take a Mnist image which is taken from the google image search and although it is super similar to the training data\n",
    "it does not belong to the same data distribution the auto-encoder was trained on. \n",
    "It produces an error almost as high as flower.jpg(approx error=1840.8634)\n",
    "This makes autoencoders being a very robust technique for anomaly detection.\n",
    "'''\n",
    "img = load_img(\"./images/flower.jpg\", target_size=(28, 28), color_mode = \"grayscale\")\n",
    "input_img = img_to_array(img)\n",
    "\n",
    "input_img_flat = input_img.reshape(1,784)\n",
    "\n",
    "target_data = autoencoder.predict(input_img_flat)\n",
    "\n",
    "dist = np.linalg.norm(input_img_flat - target_data, axis=-1)\n",
    "\n",
    "print(dist)"
   ]
  },
  {
   "cell_type": "markdown",
   "id": "246febd0",
   "metadata": {},
   "source": [
    "# Data augmentation"
   ]
  },
  {
   "cell_type": "code",
   "execution_count": 54,
   "id": "4f2d7074",
   "metadata": {},
   "outputs": [],
   "source": [
    "from tensorflow.keras.preprocessing.image import ImageDataGenerator, array_to_img, img_to_array, load_img"
   ]
  },
  {
   "cell_type": "code",
   "execution_count": 58,
   "id": "0f79d107",
   "metadata": {},
   "outputs": [
    {
     "name": "stdout",
     "output_type": "stream",
     "text": [
      "image_names: ['bird.jpg']\n",
      "bird.jpg\n"
     ]
    }
   ],
   "source": [
    "datagen = ImageDataGenerator(\n",
    "                rotation_range=90,\n",
    "                horizontal_flip=True,\n",
    "                vertical_flip=True,\n",
    "                width_shift_range=0.5,  # setting the value to 0.5 means max shift by 50% of the image width\n",
    "                height_shift_range=0.5)  # setting the value to 0.5 means max shift by 50% of the image height\n",
    "\n",
    "# original image(s)\n",
    "img_folder = \"./data_aug\" #bird images\n",
    "image_names = os.listdir(img_folder)\n",
    "\n",
    "print('image_names:', image_names)\n",
    "\n",
    "for filename in image_names:\n",
    "    print(filename)\n",
    "    img_path = os.path.join(img_folder, filename)  # Full path to the image\n",
    "    img = load_img(img_path)  # Load the image from full path\n",
    "    x = img_to_array(img)\n",
    "    # Reshape the input image\n",
    "    x = x.reshape((1,) + x.shape)\n",
    "    i = 0\n",
    "\n",
    "    # set n to the number of augmented images you want\n",
    "    n = 50\n",
    "    # make sure 'augmented' directory exists\n",
    "    save_dir = os.path.join(img_folder, 'augmented')\n",
    "    if not os.path.isdir(save_dir):\n",
    "        os.makedirs(save_dir)\n",
    "\n",
    "    # generate n new augmented images and store them in an /augmented/ folder that exists \n",
    "    for batch in datagen.flow(x, batch_size=1, save_to_dir=save_dir, save_prefix='aug_', save_format='jpg'):\n",
    "        i += 1\n",
    "        if i > n:\n",
    "            break"
   ]
  },
  {
   "cell_type": "code",
   "execution_count": 59,
   "id": "fc143fb5",
   "metadata": {},
   "outputs": [
    {
     "name": "stdout",
     "output_type": "stream",
     "text": [
      "image_names: ['flower.jpg']\n",
      "flower.jpg\n"
     ]
    }
   ],
   "source": [
    "from tensorflow.keras.preprocessing.image import ImageDataGenerator, load_img, img_to_array\n",
    "import os\n",
    "\n",
    "datagen = ImageDataGenerator(\n",
    "                rotation_range=90,\n",
    "                horizontal_flip=True,\n",
    "                vertical_flip=True,\n",
    "                width_shift_range=0.5,  # setting the value to 0.5 means max shift by 50% of the image width\n",
    "                height_shift_range=0.5)  # setting the value to 0.5 means max shift by 50% of the image height\n",
    "\n",
    "# original image(s)\n",
    "img_folder = \"./data_aug2\" #flower images\n",
    "image_names = os.listdir(img_folder)\n",
    "\n",
    "print('image_names:', image_names)\n",
    "\n",
    "for filename in image_names:\n",
    "    print(filename)\n",
    "    img_path = os.path.join(img_folder, filename)  # Full path to the image\n",
    "    img = load_img(img_path)  # Load the image from full path\n",
    "    x = img_to_array(img)\n",
    "    # Reshape the input image\n",
    "    x = x.reshape((1,) + x.shape)\n",
    "    i = 0\n",
    "\n",
    "    # set n to the number of augmented images you want\n",
    "    n = 50\n",
    "    # make sure 'augmented' directory exists\n",
    "    save_dir = os.path.join(img_folder, 'augmented2')\n",
    "    if not os.path.isdir(save_dir):\n",
    "        os.makedirs(save_dir)\n",
    "\n",
    "    # generate n new augmented images and store them in an /augmented/ folder that exists \n",
    "    for batch in datagen.flow(x, batch_size=1, save_to_dir=save_dir, save_prefix='aug_', save_format='jpg'):\n",
    "        i += 1\n",
    "        if i > n:\n",
    "            break\n"
   ]
  },
  {
   "cell_type": "markdown",
   "id": "58c9d07f",
   "metadata": {},
   "source": [
    "# Domain Adaptaion"
   ]
  },
  {
   "cell_type": "markdown",
   "id": "610f1609",
   "metadata": {},
   "source": [
    "# How features from the bird domain could be mapped onto the flower domain"
   ]
  },
  {
   "cell_type": "code",
   "execution_count": 5,
   "id": "bbf4bacd",
   "metadata": {},
   "outputs": [],
   "source": [
    "from matplotlib import pyplot as plt\n",
    "import numpy as np\n",
    "import cv2\n",
    "import tensorflow as tf\n",
    "from tensorflow.keras.preprocessing.image import img_to_array\n",
    "from tensorflow.keras.layers import Conv2D, MaxPooling2D, UpSampling2D\n",
    "from tensorflow.keras.models import Sequential\n",
    "import os\n",
    "from   tqdm import tqdm\n",
    "import time\n",
    "\n",
    "SIZE=256"
   ]
  },
  {
   "cell_type": "code",
   "execution_count": 6,
   "id": "c96896a1",
   "metadata": {},
   "outputs": [
    {
     "name": "stderr",
     "output_type": "stream",
     "text": [
      "100%|██████████████████████████████████████████████████████████████████████████████████| 51/51 [00:00<00:00, 95.63it/s]\n",
      "100%|█████████████████████████████████████████████████████████████████████████████████| 51/51 [00:00<00:00, 185.39it/s]\n"
     ]
    }
   ],
   "source": [
    "# import input img\n",
    "input_img_data=[]\n",
    "input_path = './data_aug/augmented/' #bird images>>>> input\n",
    "files=os.listdir(input_path)\n",
    "\n",
    "# read all images in the folder (different rotations and flips of the original)\n",
    "for i in tqdm(files):\n",
    "    img=cv2.imread(input_path+'/'+i,1)   #Change 0 to 1 for color images\n",
    "    img=cv2.resize(img,(SIZE, SIZE))\n",
    "    input_img_data.append(img_to_array(img))\n",
    "    \n",
    "    \n",
    "# -----------------------------------------  \n",
    "# import output_img\n",
    "output_img_data=[]\n",
    "output_path = './data_aug2/augmented2' #flower images>>>> output  \n",
    "files=os.listdir(output_path)\n",
    "\n",
    "# read all images in the folder (same rotations and flips as img)\n",
    "for i in tqdm(files):\n",
    "    img=cv2.imread(output_path+'/'+i,1)  #Change 0 to 1 for color images\n",
    "    img=cv2.resize(img,(SIZE, SIZE))\n",
    "    output_img_data.append(img_to_array(img))\n",
    "\n",
    "input_img_array = np.reshape(input_img_data, (len(input_img_data), SIZE, SIZE, 3))\n",
    "input_img_array = input_img_array.astype('float32') / 255. # normalize\n",
    "output_img_array= np.reshape(output_img_data, (len(output_img_data), SIZE, SIZE, 3))\n",
    "output_img_array = output_img_array.astype('float32') / 255. # normalize\n",
    "\n",
    "# Original image for prediction of output_img \n",
    "# this one does not belong to the training set\n",
    "test_img_data=[]\n",
    "\n",
    "test_img=cv2.imread('./images/bird.jpg', 1)   #Change 0 to 1 for color images\n",
    "test_img = cv2.cvtColor(test_img, cv2.COLOR_BGR2RGB)#Changing BGR to RGB to show images in true colors\n",
    "test_img=cv2.resize(test_img,(SIZE, SIZE))\n",
    "test_img_data.append(img_to_array(test_img))\n",
    "\n",
    "test_img_array = np.reshape(test_img_data, (len(test_img_data), SIZE, SIZE, 3))\n",
    "test_img_array = test_img_array.astype('float32') / 255. # normalize\n",
    "\n",
    "# set the start time\n",
    "# later needed for calculating the computation time\n",
    "start=time.time()"
   ]
  },
  {
   "cell_type": "code",
   "execution_count": 7,
   "id": "3e194c5e",
   "metadata": {},
   "outputs": [
    {
     "name": "stdout",
     "output_type": "stream",
     "text": [
      "Model: \"sequential_1\"\n",
      "_________________________________________________________________\n",
      " Layer (type)                Output Shape              Param #   \n",
      "=================================================================\n",
      " conv2d_7 (Conv2D)           (None, 256, 256, 32)      896       \n",
      "                                                                 \n",
      " max_pooling2d_3 (MaxPoolin  (None, 128, 128, 32)      0         \n",
      " g2D)                                                            \n",
      "                                                                 \n",
      " conv2d_8 (Conv2D)           (None, 128, 128, 8)       2312      \n",
      "                                                                 \n",
      " max_pooling2d_4 (MaxPoolin  (None, 64, 64, 8)         0         \n",
      " g2D)                                                            \n",
      "                                                                 \n",
      " conv2d_9 (Conv2D)           (None, 64, 64, 8)         584       \n",
      "                                                                 \n",
      " max_pooling2d_5 (MaxPoolin  (None, 32, 32, 8)         0         \n",
      " g2D)                                                            \n",
      "                                                                 \n",
      " conv2d_10 (Conv2D)          (None, 32, 32, 8)         584       \n",
      "                                                                 \n",
      " up_sampling2d_3 (UpSamplin  (None, 64, 64, 8)         0         \n",
      " g2D)                                                            \n",
      "                                                                 \n",
      " conv2d_11 (Conv2D)          (None, 64, 64, 8)         584       \n",
      "                                                                 \n",
      " up_sampling2d_4 (UpSamplin  (None, 128, 128, 8)       0         \n",
      " g2D)                                                            \n",
      "                                                                 \n",
      " conv2d_12 (Conv2D)          (None, 128, 128, 32)      2336      \n",
      "                                                                 \n",
      " up_sampling2d_5 (UpSamplin  (None, 256, 256, 32)      0         \n",
      " g2D)                                                            \n",
      "                                                                 \n",
      " conv2d_13 (Conv2D)          (None, 256, 256, 3)       867       \n",
      "                                                                 \n",
      "=================================================================\n",
      "Total params: 8163 (31.89 KB)\n",
      "Trainable params: 8163 (31.89 KB)\n",
      "Non-trainable params: 0 (0.00 Byte)\n",
      "_________________________________________________________________\n"
     ]
    }
   ],
   "source": [
    "model = Sequential()\n",
    "\n",
    "model.add(Conv2D(32, (3, 3), activation='relu', padding='same', input_shape=(SIZE, SIZE, 3)))\n",
    "model.add(MaxPooling2D((2, 2), padding='same'))\n",
    "model.add(Conv2D(8, (3, 3), activation='relu', padding='same'))\n",
    "model.add(MaxPooling2D((2, 2), padding='same'))\n",
    "model.add(Conv2D(8, (3, 3), activation='relu', padding='same'))\n",
    "model.add(MaxPooling2D((2, 2), padding='same'))\n",
    "     \n",
    "model.add(Conv2D(8, (3, 3), activation='relu', padding='same'))\n",
    "model.add(UpSampling2D((2, 2)))\n",
    "model.add(Conv2D(8, (3, 3), activation='relu', padding='same'))\n",
    "model.add(UpSampling2D((2, 2)))\n",
    "model.add(Conv2D(32, (3, 3), activation='relu', padding='same'))\n",
    "model.add(UpSampling2D((2, 2)))\n",
    "model.add(Conv2D(3, (3, 3), activation='relu', padding='same'))\n",
    "\n",
    "model.compile(optimizer='adam', loss='mean_squared_error', metrics=['accuracy'])\n",
    "model.summary()"
   ]
  },
  {
   "cell_type": "code",
   "execution_count": 8,
   "id": "18998caa",
   "metadata": {},
   "outputs": [
    {
     "name": "stdout",
     "output_type": "stream",
     "text": [
      "Epoch 1/100\n",
      "2/2 [==============================] - 8s 2s/step - loss: 0.0724 - accuracy: 0.2325\n",
      "Epoch 2/100\n",
      "2/2 [==============================] - 5s 2s/step - loss: 0.0596 - accuracy: 0.2353\n",
      "Epoch 3/100\n",
      "2/2 [==============================] - 4s 2s/step - loss: 0.0514 - accuracy: 0.2104\n",
      "Epoch 4/100\n",
      "2/2 [==============================] - 4s 2s/step - loss: 0.0486 - accuracy: 0.1558\n",
      "Epoch 5/100\n",
      "2/2 [==============================] - 4s 2s/step - loss: 0.0425 - accuracy: 0.1483\n",
      "Epoch 6/100\n",
      "2/2 [==============================] - 4s 2s/step - loss: 0.0409 - accuracy: 0.2854\n",
      "Epoch 7/100\n",
      "2/2 [==============================] - 4s 2s/step - loss: 0.0408 - accuracy: 0.6123\n",
      "Epoch 8/100\n",
      "2/2 [==============================] - 4s 2s/step - loss: 0.0404 - accuracy: 0.6183\n",
      "Epoch 9/100\n",
      "2/2 [==============================] - 4s 2s/step - loss: 0.0406 - accuracy: 0.6208\n",
      "Epoch 10/100\n",
      "2/2 [==============================] - 4s 2s/step - loss: 0.0403 - accuracy: 0.6211\n",
      "Epoch 11/100\n",
      "2/2 [==============================] - 4s 2s/step - loss: 0.0396 - accuracy: 0.6203\n",
      "Epoch 12/100\n",
      "2/2 [==============================] - 4s 2s/step - loss: 0.0393 - accuracy: 0.6189\n",
      "Epoch 13/100\n",
      "2/2 [==============================] - 4s 2s/step - loss: 0.0390 - accuracy: 0.6066\n",
      "Epoch 14/100\n",
      "2/2 [==============================] - 4s 2s/step - loss: 0.0390 - accuracy: 0.4258\n",
      "Epoch 15/100\n",
      "2/2 [==============================] - 4s 2s/step - loss: 0.0389 - accuracy: 0.3452\n",
      "Epoch 16/100\n",
      "2/2 [==============================] - 4s 2s/step - loss: 0.0387 - accuracy: 0.3912\n",
      "Epoch 17/100\n",
      "2/2 [==============================] - 4s 2s/step - loss: 0.0387 - accuracy: 0.5134\n",
      "Epoch 18/100\n",
      "2/2 [==============================] - 4s 2s/step - loss: 0.0385 - accuracy: 0.5867\n",
      "Epoch 19/100\n",
      "2/2 [==============================] - 5s 2s/step - loss: 0.0384 - accuracy: 0.6114\n",
      "Epoch 20/100\n",
      "2/2 [==============================] - 4s 2s/step - loss: 0.0384 - accuracy: 0.6170\n",
      "Epoch 21/100\n",
      "2/2 [==============================] - 5s 2s/step - loss: 0.0383 - accuracy: 0.6192\n",
      "Epoch 22/100\n",
      "2/2 [==============================] - 4s 2s/step - loss: 0.0383 - accuracy: 0.6196\n",
      "Epoch 23/100\n",
      "2/2 [==============================] - 4s 2s/step - loss: 0.0383 - accuracy: 0.6198\n",
      "Epoch 24/100\n",
      "2/2 [==============================] - 4s 2s/step - loss: 0.0382 - accuracy: 0.6199\n",
      "Epoch 25/100\n",
      "2/2 [==============================] - 5s 2s/step - loss: 0.0382 - accuracy: 0.6196\n",
      "Epoch 26/100\n",
      "2/2 [==============================] - 4s 2s/step - loss: 0.0382 - accuracy: 0.6195\n",
      "Epoch 27/100\n",
      "2/2 [==============================] - 5s 2s/step - loss: 0.0382 - accuracy: 0.6194\n",
      "Epoch 28/100\n",
      "2/2 [==============================] - 5s 2s/step - loss: 0.0381 - accuracy: 0.6189\n",
      "Epoch 29/100\n",
      "2/2 [==============================] - 5s 2s/step - loss: 0.0381 - accuracy: 0.6182\n",
      "Epoch 30/100\n",
      "2/2 [==============================] - 4s 2s/step - loss: 0.0381 - accuracy: 0.6181\n",
      "Epoch 31/100\n",
      "2/2 [==============================] - 4s 2s/step - loss: 0.0381 - accuracy: 0.6181\n",
      "Epoch 32/100\n",
      "2/2 [==============================] - 5s 2s/step - loss: 0.0381 - accuracy: 0.6182\n",
      "Epoch 33/100\n",
      "2/2 [==============================] - 5s 2s/step - loss: 0.0381 - accuracy: 0.6191\n",
      "Epoch 34/100\n",
      "2/2 [==============================] - 4s 2s/step - loss: 0.0381 - accuracy: 0.6194\n",
      "Epoch 35/100\n",
      "2/2 [==============================] - 4s 2s/step - loss: 0.0381 - accuracy: 0.6195\n",
      "Epoch 36/100\n",
      "2/2 [==============================] - 4s 2s/step - loss: 0.0381 - accuracy: 0.6197\n",
      "Epoch 37/100\n",
      "2/2 [==============================] - 5s 2s/step - loss: 0.0381 - accuracy: 0.6198\n",
      "Epoch 38/100\n",
      "2/2 [==============================] - 4s 2s/step - loss: 0.0381 - accuracy: 0.6197\n",
      "Epoch 39/100\n",
      "2/2 [==============================] - 4s 2s/step - loss: 0.0380 - accuracy: 0.6195\n",
      "Epoch 40/100\n",
      "2/2 [==============================] - 4s 2s/step - loss: 0.0380 - accuracy: 0.6194\n",
      "Epoch 41/100\n",
      "2/2 [==============================] - 4s 2s/step - loss: 0.0381 - accuracy: 0.6192\n",
      "Epoch 42/100\n",
      "2/2 [==============================] - 4s 2s/step - loss: 0.0380 - accuracy: 0.6191\n",
      "Epoch 43/100\n",
      "2/2 [==============================] - 5s 2s/step - loss: 0.0381 - accuracy: 0.6192\n",
      "Epoch 44/100\n",
      "2/2 [==============================] - 5s 2s/step - loss: 0.0381 - accuracy: 0.6192\n",
      "Epoch 45/100\n",
      "2/2 [==============================] - 4s 2s/step - loss: 0.0380 - accuracy: 0.6190\n",
      "Epoch 46/100\n",
      "2/2 [==============================] - 4s 2s/step - loss: 0.0381 - accuracy: 0.6188\n",
      "Epoch 47/100\n",
      "2/2 [==============================] - 4s 1s/step - loss: 0.0380 - accuracy: 0.6189\n",
      "Epoch 48/100\n",
      "2/2 [==============================] - 4s 2s/step - loss: 0.0380 - accuracy: 0.6191\n",
      "Epoch 49/100\n",
      "2/2 [==============================] - 4s 2s/step - loss: 0.0380 - accuracy: 0.6191\n",
      "Epoch 50/100\n",
      "2/2 [==============================] - 4s 2s/step - loss: 0.0380 - accuracy: 0.6192\n",
      "Epoch 51/100\n",
      "2/2 [==============================] - 4s 2s/step - loss: 0.0380 - accuracy: 0.6192\n",
      "Epoch 52/100\n",
      "2/2 [==============================] - 4s 2s/step - loss: 0.0380 - accuracy: 0.6193\n",
      "Epoch 53/100\n",
      "2/2 [==============================] - 4s 2s/step - loss: 0.0380 - accuracy: 0.6193\n",
      "Epoch 54/100\n",
      "2/2 [==============================] - 4s 2s/step - loss: 0.0380 - accuracy: 0.6193\n",
      "Epoch 55/100\n",
      "2/2 [==============================] - 4s 2s/step - loss: 0.0380 - accuracy: 0.6192\n",
      "Epoch 56/100\n",
      "2/2 [==============================] - 5s 2s/step - loss: 0.0381 - accuracy: 0.6189\n",
      "Epoch 57/100\n",
      "2/2 [==============================] - 4s 1s/step - loss: 0.0381 - accuracy: 0.6190\n",
      "Epoch 58/100\n",
      "2/2 [==============================] - 5s 2s/step - loss: 0.0380 - accuracy: 0.6194\n",
      "Epoch 59/100\n",
      "2/2 [==============================] - 4s 2s/step - loss: 0.0380 - accuracy: 0.6194\n",
      "Epoch 60/100\n",
      "2/2 [==============================] - 4s 2s/step - loss: 0.0380 - accuracy: 0.6194\n",
      "Epoch 61/100\n",
      "2/2 [==============================] - 5s 2s/step - loss: 0.0380 - accuracy: 0.6193\n",
      "Epoch 62/100\n",
      "2/2 [==============================] - 5s 2s/step - loss: 0.0379 - accuracy: 0.6193\n",
      "Epoch 63/100\n",
      "2/2 [==============================] - 4s 2s/step - loss: 0.0380 - accuracy: 0.6192\n",
      "Epoch 64/100\n",
      "2/2 [==============================] - 4s 1s/step - loss: 0.0380 - accuracy: 0.6189\n",
      "Epoch 65/100\n",
      "2/2 [==============================] - 4s 2s/step - loss: 0.0380 - accuracy: 0.6182\n",
      "Epoch 66/100\n",
      "2/2 [==============================] - 4s 2s/step - loss: 0.0379 - accuracy: 0.6180\n",
      "Epoch 67/100\n",
      "2/2 [==============================] - 4s 2s/step - loss: 0.0380 - accuracy: 0.6187\n",
      "Epoch 68/100\n",
      "2/2 [==============================] - 4s 2s/step - loss: 0.0380 - accuracy: 0.6191\n",
      "Epoch 69/100\n",
      "2/2 [==============================] - 4s 2s/step - loss: 0.0379 - accuracy: 0.6192\n",
      "Epoch 70/100\n",
      "2/2 [==============================] - 4s 2s/step - loss: 0.0380 - accuracy: 0.6193\n",
      "Epoch 71/100\n",
      "2/2 [==============================] - 4s 2s/step - loss: 0.0379 - accuracy: 0.6195\n",
      "Epoch 72/100\n",
      "2/2 [==============================] - 4s 2s/step - loss: 0.0380 - accuracy: 0.6196\n",
      "Epoch 73/100\n",
      "2/2 [==============================] - 4s 2s/step - loss: 0.0380 - accuracy: 0.6199\n",
      "Epoch 74/100\n",
      "2/2 [==============================] - 4s 2s/step - loss: 0.0379 - accuracy: 0.6195\n",
      "Epoch 75/100\n",
      "2/2 [==============================] - 4s 2s/step - loss: 0.0380 - accuracy: 0.6192\n",
      "Epoch 76/100\n",
      "2/2 [==============================] - 4s 2s/step - loss: 0.0380 - accuracy: 0.6192\n",
      "Epoch 77/100\n",
      "2/2 [==============================] - 4s 2s/step - loss: 0.0379 - accuracy: 0.6193\n",
      "Epoch 78/100\n",
      "2/2 [==============================] - 4s 2s/step - loss: 0.0379 - accuracy: 0.6192\n",
      "Epoch 79/100\n",
      "2/2 [==============================] - 4s 2s/step - loss: 0.0379 - accuracy: 0.6192\n",
      "Epoch 80/100\n",
      "2/2 [==============================] - 4s 2s/step - loss: 0.0379 - accuracy: 0.6193\n",
      "Epoch 81/100\n",
      "2/2 [==============================] - 4s 1s/step - loss: 0.0379 - accuracy: 0.6195\n",
      "Epoch 82/100\n",
      "2/2 [==============================] - 4s 2s/step - loss: 0.0379 - accuracy: 0.6194\n",
      "Epoch 83/100\n",
      "2/2 [==============================] - 4s 2s/step - loss: 0.0379 - accuracy: 0.6198\n",
      "Epoch 84/100\n",
      "2/2 [==============================] - 4s 2s/step - loss: 0.0379 - accuracy: 0.6205\n",
      "Epoch 85/100\n"
     ]
    },
    {
     "name": "stdout",
     "output_type": "stream",
     "text": [
      "2/2 [==============================] - 4s 2s/step - loss: 0.0379 - accuracy: 0.6211\n",
      "Epoch 86/100\n",
      "2/2 [==============================] - 4s 2s/step - loss: 0.0379 - accuracy: 0.6213\n",
      "Epoch 87/100\n",
      "2/2 [==============================] - 5s 2s/step - loss: 0.0379 - accuracy: 0.6211\n",
      "Epoch 88/100\n",
      "2/2 [==============================] - 4s 2s/step - loss: 0.0378 - accuracy: 0.6215\n",
      "Epoch 89/100\n",
      "2/2 [==============================] - 5s 2s/step - loss: 0.0379 - accuracy: 0.6217\n",
      "Epoch 90/100\n",
      "2/2 [==============================] - 5s 2s/step - loss: 0.0378 - accuracy: 0.6214\n",
      "Epoch 91/100\n",
      "2/2 [==============================] - 4s 2s/step - loss: 0.0378 - accuracy: 0.6208\n",
      "Epoch 92/100\n",
      "2/2 [==============================] - 4s 2s/step - loss: 0.0378 - accuracy: 0.6202\n",
      "Epoch 93/100\n",
      "2/2 [==============================] - 4s 2s/step - loss: 0.0378 - accuracy: 0.6209\n",
      "Epoch 94/100\n",
      "2/2 [==============================] - 4s 2s/step - loss: 0.0378 - accuracy: 0.6215\n",
      "Epoch 95/100\n",
      "2/2 [==============================] - 4s 2s/step - loss: 0.0378 - accuracy: 0.6217\n",
      "Epoch 96/100\n",
      "2/2 [==============================] - 4s 2s/step - loss: 0.0378 - accuracy: 0.6218\n",
      "Epoch 97/100\n",
      "2/2 [==============================] - 5s 2s/step - loss: 0.0378 - accuracy: 0.6225\n",
      "Epoch 98/100\n",
      "2/2 [==============================] - 4s 2s/step - loss: 0.0378 - accuracy: 0.6228\n",
      "Epoch 99/100\n",
      "2/2 [==============================] - 4s 2s/step - loss: 0.0378 - accuracy: 0.6228\n",
      "Epoch 100/100\n",
      "2/2 [==============================] - 4s 2s/step - loss: 0.0378 - accuracy: 0.6231\n",
      "total computation time =  450.8965048789978\n",
      "INFO:tensorflow:Assets written to: domain_adapt_autoenc_epochs.100.model\\assets\n"
     ]
    },
    {
     "name": "stderr",
     "output_type": "stream",
     "text": [
      "INFO:tensorflow:Assets written to: domain_adapt_autoenc_epochs.100.model\\assets\n"
     ]
    }
   ],
   "source": [
    "#callbacks = [tf.keras.callbacks.TensorBoard(log_dir='einstein_logs')]\n",
    "\n",
    "# fit the model of input_img to output_img \n",
    "epochs = 100\n",
    "model.fit(input_img_array, output_img_array, epochs=epochs, shuffle=True)#, callbacks=callbacks)\n",
    "\n",
    "# print out the computation time\n",
    "finish=time.time()\n",
    "print('total computation time = ', finish-start)\n",
    "\n",
    "# save the model\n",
    "model.save(\"domain_adapt_autoenc_epochs.\" + str(epochs) + \".model\")"
   ]
  },
  {
   "cell_type": "markdown",
   "id": "1f8f7260",
   "metadata": {},
   "source": [
    "##  For 100 epochs"
   ]
  },
  {
   "cell_type": "code",
   "execution_count": 9,
   "id": "1c51c3de",
   "metadata": {},
   "outputs": [
    {
     "name": "stdout",
     "output_type": "stream",
     "text": [
      "output of test image\n",
      "1/1 [==============================] - 0s 322ms/step\n"
     ]
    },
    {
     "data": {
      "image/png": "[encoded data removed]",
      "text/plain": [
       "<Figure size 640x480 with 1 Axes>"
      ]
     },
     "metadata": {},
     "output_type": "display_data"
    }
   ],
   "source": [
    "# predicted the original image as test image, \n",
    "# since it did not belong to the training data.\n",
    "# if the domain was really adapted, then the result would look like output_img\n",
    "print(\"output of test image\")\n",
    "pred = model.predict(test_img_array)\n",
    "plt.imshow(pred[0].reshape(SIZE,SIZE,3))\n",
    "plt.show()"
   ]
  },
  {
   "cell_type": "markdown",
   "id": "0fa4025f",
   "metadata": {},
   "source": [
    "## <font color=\"FFC300\">Comments</font>:"
   ]
  },
  {
   "cell_type": "markdown",
   "id": "c08a9a3c",
   "metadata": {},
   "source": [
    " - above domain adaptation is making a seq. model to be specializing in one domain/bird domain and then learns to apply that knowledge of bird domain to a different type of domain>flowers domain\n",
    " - in our example, there is no trace of flower which is for less training time\n",
    " - here, the model is trained in one domain called source domain>bird images to perform well on our new target domain>flower images\n",
    " - the features are learned from the bird domain which are adapted and effective in the flower domain"
   ]
  },
  {
   "cell_type": "markdown",
   "id": "c3308f86",
   "metadata": {},
   "source": [
    "## For 100 epochs"
   ]
  },
  {
   "cell_type": "code",
   "execution_count": 12,
   "id": "f61052a3",
   "metadata": {},
   "outputs": [
    {
     "data": {
      "image/png": "[encoded data removed]",
      "text/plain": [
       "<Figure size 600x1500 with 2 Axes>"
      ]
     },
     "metadata": {},
     "output_type": "display_data"
    }
   ],
   "source": [
    "img_paths = [\n",
    "    'C:/Users/rubai/AML/domain_adaptation.png',\n",
    "    'C:/Users/rubai/AML/domain_adaptation2.png'\n",
    "]\n",
    "\n",
    "img_titles = ['Domain Adaptation (epochs=10)', 'Domain Adaptation (epochs=100)'] #with shuffle=True\n",
    "fig, axes = plt.subplots(nrows=1, ncols=2, figsize=(6, 15))\n",
    "axes_flat = axes.flatten()\n",
    "\n",
    "for i, (path, title, ax) in enumerate(zip(img_paths, img_titles, axes_flat)):\n",
    "    img = plt.imread(path)\n",
    "    ax.imshow(img)\n",
    "    ax.set_title(title)\n",
    "    ax.axis('off')\n",
    "\n",
    "plt.tight_layout()\n",
    "plt.show()"
   ]
  },
  {
   "cell_type": "markdown",
   "id": "ce5e5f5c",
   "metadata": {},
   "source": [
    " ## <font color=\"FFC300\">Comments</font>:\n",
    " ### - for 100 epochs, domain adaptation did not necessarily lead towards better domain adaptation\n",
    " ### - and for 10 epochs, adaptation worked well with more details"
   ]
  },
  {
   "cell_type": "code",
   "execution_count": null,
   "id": "8cfb2497",
   "metadata": {},
   "outputs": [],
   "source": []
  }
 ],
 "metadata": {
  "kernelspec": {
   "display_name": "Python 3 (ipykernel)",
   "language": "python",
   "name": "python3"
  },
  "language_info": {
   "codemirror_mode": {
    "name": "ipython",
    "version": 3
   },
   "file_extension": ".py",
   "mimetype": "text/x-python",
   "name": "python",
   "nbconvert_exporter": "python",
   "pygments_lexer": "ipython3",
   "version": "3.9.13"
  }
 },
 "nbformat": 4,
 "nbformat_minor": 5
}
