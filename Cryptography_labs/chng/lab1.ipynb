{
  "cells": [
    {
      "cell_type": "code",
      "execution_count": null,
      "metadata": {
        "id": "b-zpfeg1t948"
      },
      "outputs": [],
      "source": [
        "#Rubaiya Kabir Pranti\n",
        "#Matriculation Number: 111*****"
      ]
    },
    {
      "cell_type": "code",
      "execution_count": null,
      "metadata": {
        "id": "7nH_hMBLt94-"
      },
      "outputs": [],
      "source": [
        "######################################################"
      ]
    },
    {
      "cell_type": "code",
      "execution_count": null,
      "metadata": {
        "id": "eKK6NyqYt94-",
        "outputId": "90aa4971-afd9-462d-cfda-19145afd190d"
      },
      "outputs": [
        {
          "data": {
            "text/plain": [
              "1384840207347521476544"
            ]
          },
          "execution_count": 3,
          "metadata": {},
          "output_type": "execute_result"
        }
      ],
      "source": [
        "#Problem-1\n",
        "X=111*****\n",
        "X^3"
      ]
    },
    {
      "cell_type": "code",
      "execution_count": null,
      "metadata": {
        "id": "UU9O_r9ot94_",
        "outputId": "7de8cc9f-842e-4a7a-d454-e3e86298917d"
      },
      "outputs": [
        {
          "data": {
            "text/plain": [
              "1384840207347521476544"
            ]
          },
          "execution_count": 4,
          "metadata": {},
          "output_type": "execute_result"
        }
      ],
      "source": [
        "n=X^3\n",
        "n"
      ]
    },
    {
      "cell_type": "code",
      "execution_count": null,
      "metadata": {
        "id": "RZwYFQXbt94_"
      },
      "outputs": [],
      "source": [
        "#set values of a and b\n",
        "a=11146364198981114636465432098772\n",
        "b=65432098771234567891433336543209871"
      ]
    },
    {
      "cell_type": "code",
      "execution_count": null,
      "metadata": {
        "id": "3lspNBMSt94_"
      },
      "outputs": [],
      "source": [
        "#1.a----finding factor of n,a,b"
      ]
    },
    {
      "cell_type": "code",
      "execution_count": null,
      "metadata": {
        "id": "MG9BHDk_t95A",
        "outputId": "6df4f6ad-355d-4048-8ea6-750fccd60661"
      },
      "outputs": [
        {
          "data": {
            "text/plain": [
              "2^6 * 727^3 * 3833^3"
            ]
          },
          "execution_count": 7,
          "metadata": {},
          "output_type": "execute_result"
        }
      ],
      "source": [
        "factor(n)"
      ]
    },
    {
      "cell_type": "code",
      "execution_count": null,
      "metadata": {
        "id": "HLVTnNgWt95A",
        "outputId": "fad78b38-7cb1-4417-9e70-680676a882c5"
      },
      "outputs": [
        {
          "data": {
            "text/plain": [
              "False"
            ]
          },
          "execution_count": 8,
          "metadata": {},
          "output_type": "execute_result"
        }
      ],
      "source": [
        "is_prime(n)"
      ]
    },
    {
      "cell_type": "code",
      "execution_count": null,
      "metadata": {
        "id": "QkuHveYut95A",
        "outputId": "4d5a30d2-5f34-4db1-9ca7-761ce434a78c"
      },
      "outputs": [
        {
          "data": {
            "text/plain": [
              "2^2 * 83 * 199 * 11197 * 2088343 * 7215036956629699"
            ]
          },
          "execution_count": 9,
          "metadata": {},
          "output_type": "execute_result"
        }
      ],
      "source": [
        "factor(a)"
      ]
    },
    {
      "cell_type": "code",
      "execution_count": null,
      "metadata": {
        "id": "B2R69lXBt95A",
        "outputId": "be17b7c1-eae0-442b-907b-eafabde66f33"
      },
      "outputs": [
        {
          "data": {
            "text/plain": [
              "97 * 11833 * 57006483503006677892276916071"
            ]
          },
          "execution_count": 10,
          "metadata": {},
          "output_type": "execute_result"
        }
      ],
      "source": [
        "factor(b)"
      ]
    },
    {
      "cell_type": "code",
      "execution_count": null,
      "metadata": {
        "id": "tncXaJO8t95A"
      },
      "outputs": [],
      "source": [
        "#1.b----computing (a-b)mod n"
      ]
    },
    {
      "cell_type": "code",
      "execution_count": null,
      "metadata": {
        "id": "4fYVcB32t95B",
        "outputId": "023802d7-c7be-4428-c8c3-c2509217340d"
      },
      "outputs": [
        {
          "data": {
            "text/plain": [
              "-65420952407035586776796871111111099"
            ]
          },
          "execution_count": 12,
          "metadata": {},
          "output_type": "execute_result"
        }
      ],
      "source": [
        "a-b"
      ]
    },
    {
      "cell_type": "code",
      "execution_count": null,
      "metadata": {
        "id": "NHU1Hs1ft95B",
        "outputId": "b5921a95-aa96-4ee4-89aa-6382d08ed3c6"
      },
      "outputs": [
        {
          "data": {
            "text/plain": [
              "247273341643499315525"
            ]
          },
          "execution_count": 13,
          "metadata": {},
          "output_type": "execute_result"
        }
      ],
      "source": [
        "mod(a-b,n)"
      ]
    },
    {
      "cell_type": "code",
      "execution_count": null,
      "metadata": {
        "id": "fC9A543Qt95B"
      },
      "outputs": [],
      "source": [
        "#computing a*b mod n"
      ]
    },
    {
      "cell_type": "code",
      "execution_count": null,
      "metadata": {
        "id": "AWAsZDI8t95B",
        "outputId": "b38a2763-77ab-4cd3-a1ce-a4d7ce909b86"
      },
      "outputs": [
        {
          "data": {
            "text/plain": [
              "729330003207885169604182942754492998850681649324404729725197378412"
            ]
          },
          "execution_count": 15,
          "metadata": {},
          "output_type": "execute_result"
        }
      ],
      "source": [
        "a*b"
      ]
    },
    {
      "cell_type": "code",
      "execution_count": null,
      "metadata": {
        "id": "ZwI9cfNqt95B",
        "outputId": "a6012709-bbfc-46a4-d854-7689b123af5d"
      },
      "outputs": [
        {
          "data": {
            "text/plain": [
              "1222525231541862685484"
            ]
          },
          "execution_count": 16,
          "metadata": {},
          "output_type": "execute_result"
        }
      ],
      "source": [
        "mod(a*b,n)"
      ]
    },
    {
      "cell_type": "code",
      "execution_count": null,
      "metadata": {
        "id": "aQU9loWot95B"
      },
      "outputs": [],
      "source": [
        "#computing a^b mod n"
      ]
    },
    {
      "cell_type": "code",
      "execution_count": null,
      "metadata": {
        "id": "CeiYmxuWt95B",
        "outputId": "6b1212e1-2c9e-4208-a2b2-44f6a5686819"
      },
      "outputs": [
        {
          "data": {
            "text/plain": [
              "1146009159249122185216"
            ]
          },
          "execution_count": 18,
          "metadata": {},
          "output_type": "execute_result"
        }
      ],
      "source": [
        "power_mod(a,b,n)"
      ]
    },
    {
      "cell_type": "code",
      "execution_count": null,
      "metadata": {
        "id": "SOa2FgStt95B"
      },
      "outputs": [],
      "source": [
        "#computing a^b and a^b mod n"
      ]
    },
    {
      "cell_type": "code",
      "execution_count": null,
      "metadata": {
        "id": "WSwSFWztt95B"
      },
      "outputs": [],
      "source": [
        "#there will be error in computing a^b and mod(a^b,n)"
      ]
    },
    {
      "cell_type": "code",
      "execution_count": null,
      "metadata": {
        "id": "yfWnEcvHt95B"
      },
      "outputs": [],
      "source": [
        "#If we use the power_mod function,the fast exponentiation and squarings and multiplications are taken into order for computation of modular power."
      ]
    },
    {
      "cell_type": "code",
      "execution_count": null,
      "metadata": {
        "id": "w5s-SzwNt95B",
        "outputId": "ba9332e6-86e2-4022-d5dd-51bcff8e2a3e"
      },
      "outputs": [
        {
          "ename": "OverflowError",
          "evalue": "exponent must be at most 9223372036854775807",
          "output_type": "error",
          "traceback": [
            "\u001b[0;31m---------------------------------------------------------------------------\u001b[0m",
            "\u001b[0;31mOverflowError\u001b[0m                             Traceback (most recent call last)",
            "\u001b[0;32m<ipython-input-22-27166ff49cce>\u001b[0m in \u001b[0;36m<module>\u001b[0;34m\u001b[0m\n\u001b[0;32m----> 1\u001b[0;31m \u001b[0ma\u001b[0m\u001b[0;34m**\u001b[0m\u001b[0mb\u001b[0m\u001b[0;34m\u001b[0m\u001b[0;34m\u001b[0m\u001b[0m\n\u001b[0m",
            "\u001b[0;32m/opt/sagemath-9.2/local/lib/python3.7/site-packages/sage/rings/integer.pyx\u001b[0m in \u001b[0;36msage.rings.integer.Integer.__pow__ (build/cythonized/sage/rings/integer.c:15157)\u001b[0;34m()\u001b[0m\n\u001b[1;32m   2202\u001b[0m \u001b[0;34m\u001b[0m\u001b[0m\n\u001b[1;32m   2203\u001b[0m         \u001b[0;32mif\u001b[0m \u001b[0mtype\u001b[0m\u001b[0;34m(\u001b[0m\u001b[0mleft\u001b[0m\u001b[0;34m)\u001b[0m \u001b[0;32mis\u001b[0m \u001b[0mtype\u001b[0m\u001b[0;34m(\u001b[0m\u001b[0mright\u001b[0m\u001b[0;34m)\u001b[0m\u001b[0;34m:\u001b[0m\u001b[0;34m\u001b[0m\u001b[0;34m\u001b[0m\u001b[0m\n\u001b[0;32m-> 2204\u001b[0;31m             \u001b[0;32mreturn\u001b[0m \u001b[0;34m(\u001b[0m\u001b[0;34m<\u001b[0m\u001b[0mInteger\u001b[0m\u001b[0;34m>\u001b[0m\u001b[0mleft\u001b[0m\u001b[0;34m)\u001b[0m\u001b[0;34m.\u001b[0m\u001b[0m_pow_\u001b[0m\u001b[0;34m(\u001b[0m\u001b[0mright\u001b[0m\u001b[0;34m)\u001b[0m\u001b[0;34m\u001b[0m\u001b[0;34m\u001b[0m\u001b[0m\n\u001b[0m\u001b[1;32m   2205\u001b[0m         \u001b[0;32melif\u001b[0m \u001b[0misinstance\u001b[0m\u001b[0;34m(\u001b[0m\u001b[0mleft\u001b[0m\u001b[0;34m,\u001b[0m \u001b[0mElement\u001b[0m\u001b[0;34m)\u001b[0m\u001b[0;34m:\u001b[0m\u001b[0;34m\u001b[0m\u001b[0;34m\u001b[0m\u001b[0m\n\u001b[1;32m   2206\u001b[0m             \u001b[0;32mreturn\u001b[0m \u001b[0mcoercion_model\u001b[0m\u001b[0;34m.\u001b[0m\u001b[0mbin_op\u001b[0m\u001b[0;34m(\u001b[0m\u001b[0mleft\u001b[0m\u001b[0;34m,\u001b[0m \u001b[0mright\u001b[0m\u001b[0;34m,\u001b[0m \u001b[0moperator\u001b[0m\u001b[0;34m.\u001b[0m\u001b[0mpow\u001b[0m\u001b[0;34m)\u001b[0m\u001b[0;34m\u001b[0m\u001b[0;34m\u001b[0m\u001b[0m\n",
            "\u001b[0;32m/opt/sagemath-9.2/local/lib/python3.7/site-packages/sage/rings/integer.pyx\u001b[0m in \u001b[0;36msage.rings.integer.Integer._pow_ (build/cythonized/sage/rings/integer.c:15510)\u001b[0;34m()\u001b[0m\n\u001b[1;32m   2282\u001b[0m                 \u001b[0mr\u001b[0m \u001b[0;34m=\u001b[0m \u001b[0msmallInteger\u001b[0m\u001b[0;34m(\u001b[0m\u001b[0;36m1\u001b[0m\u001b[0;34m)\u001b[0m\u001b[0;34m\u001b[0m\u001b[0;34m\u001b[0m\u001b[0m\n\u001b[1;32m   2283\u001b[0m         \u001b[0;32melse\u001b[0m\u001b[0;34m:\u001b[0m\u001b[0;34m\u001b[0m\u001b[0;34m\u001b[0m\u001b[0m\n\u001b[0;32m-> 2284\u001b[0;31m             \u001b[0;32mraise\u001b[0m \u001b[0mOverflowError\u001b[0m\u001b[0;34m(\u001b[0m\u001b[0;34mf\"exponent must be at most {LONG_MAX}\"\u001b[0m\u001b[0;34m)\u001b[0m\u001b[0;34m\u001b[0m\u001b[0;34m\u001b[0m\u001b[0m\n\u001b[0m\u001b[1;32m   2285\u001b[0m         \u001b[0;32mif\u001b[0m \u001b[0mmpz_sgn\u001b[0m\u001b[0;34m(\u001b[0m\u001b[0mexp\u001b[0m\u001b[0;34m)\u001b[0m \u001b[0;34m>=\u001b[0m \u001b[0;36m0\u001b[0m\u001b[0;34m:\u001b[0m\u001b[0;34m\u001b[0m\u001b[0;34m\u001b[0m\u001b[0m\n\u001b[1;32m   2286\u001b[0m             \u001b[0;32mreturn\u001b[0m \u001b[0mr\u001b[0m\u001b[0;34m\u001b[0m\u001b[0;34m\u001b[0m\u001b[0m\n",
            "\u001b[0;31mOverflowError\u001b[0m: exponent must be at most 9223372036854775807"
          ]
        }
      ],
      "source": [
        "a^b"
      ]
    },
    {
      "cell_type": "code",
      "execution_count": null,
      "metadata": {
        "id": "Nrses3Idt95B",
        "outputId": "70d9f20b-c7b7-4994-dc02-e476a8f9cb55"
      },
      "outputs": [
        {
          "ename": "OverflowError",
          "evalue": "exponent must be at most 9223372036854775807",
          "output_type": "error",
          "traceback": [
            "\u001b[0;31m---------------------------------------------------------------------------\u001b[0m",
            "\u001b[0;31mOverflowError\u001b[0m                             Traceback (most recent call last)",
            "\u001b[0;32m<ipython-input-23-94adff9dd273>\u001b[0m in \u001b[0;36m<module>\u001b[0;34m\u001b[0m\n\u001b[0;32m----> 1\u001b[0;31m \u001b[0mmod\u001b[0m\u001b[0;34m(\u001b[0m\u001b[0ma\u001b[0m\u001b[0;34m**\u001b[0m\u001b[0mb\u001b[0m\u001b[0;34m,\u001b[0m\u001b[0mn\u001b[0m\u001b[0;34m)\u001b[0m\u001b[0;34m\u001b[0m\u001b[0;34m\u001b[0m\u001b[0m\n\u001b[0m",
            "\u001b[0;32m/opt/sagemath-9.2/local/lib/python3.7/site-packages/sage/rings/integer.pyx\u001b[0m in \u001b[0;36msage.rings.integer.Integer.__pow__ (build/cythonized/sage/rings/integer.c:15157)\u001b[0;34m()\u001b[0m\n\u001b[1;32m   2202\u001b[0m \u001b[0;34m\u001b[0m\u001b[0m\n\u001b[1;32m   2203\u001b[0m         \u001b[0;32mif\u001b[0m \u001b[0mtype\u001b[0m\u001b[0;34m(\u001b[0m\u001b[0mleft\u001b[0m\u001b[0;34m)\u001b[0m \u001b[0;32mis\u001b[0m \u001b[0mtype\u001b[0m\u001b[0;34m(\u001b[0m\u001b[0mright\u001b[0m\u001b[0;34m)\u001b[0m\u001b[0;34m:\u001b[0m\u001b[0;34m\u001b[0m\u001b[0;34m\u001b[0m\u001b[0m\n\u001b[0;32m-> 2204\u001b[0;31m             \u001b[0;32mreturn\u001b[0m \u001b[0;34m(\u001b[0m\u001b[0;34m<\u001b[0m\u001b[0mInteger\u001b[0m\u001b[0;34m>\u001b[0m\u001b[0mleft\u001b[0m\u001b[0;34m)\u001b[0m\u001b[0;34m.\u001b[0m\u001b[0m_pow_\u001b[0m\u001b[0;34m(\u001b[0m\u001b[0mright\u001b[0m\u001b[0;34m)\u001b[0m\u001b[0;34m\u001b[0m\u001b[0;34m\u001b[0m\u001b[0m\n\u001b[0m\u001b[1;32m   2205\u001b[0m         \u001b[0;32melif\u001b[0m \u001b[0misinstance\u001b[0m\u001b[0;34m(\u001b[0m\u001b[0mleft\u001b[0m\u001b[0;34m,\u001b[0m \u001b[0mElement\u001b[0m\u001b[0;34m)\u001b[0m\u001b[0;34m:\u001b[0m\u001b[0;34m\u001b[0m\u001b[0;34m\u001b[0m\u001b[0m\n\u001b[1;32m   2206\u001b[0m             \u001b[0;32mreturn\u001b[0m \u001b[0mcoercion_model\u001b[0m\u001b[0;34m.\u001b[0m\u001b[0mbin_op\u001b[0m\u001b[0;34m(\u001b[0m\u001b[0mleft\u001b[0m\u001b[0;34m,\u001b[0m \u001b[0mright\u001b[0m\u001b[0;34m,\u001b[0m \u001b[0moperator\u001b[0m\u001b[0;34m.\u001b[0m\u001b[0mpow\u001b[0m\u001b[0;34m)\u001b[0m\u001b[0;34m\u001b[0m\u001b[0;34m\u001b[0m\u001b[0m\n",
            "\u001b[0;32m/opt/sagemath-9.2/local/lib/python3.7/site-packages/sage/rings/integer.pyx\u001b[0m in \u001b[0;36msage.rings.integer.Integer._pow_ (build/cythonized/sage/rings/integer.c:15510)\u001b[0;34m()\u001b[0m\n\u001b[1;32m   2282\u001b[0m                 \u001b[0mr\u001b[0m \u001b[0;34m=\u001b[0m \u001b[0msmallInteger\u001b[0m\u001b[0;34m(\u001b[0m\u001b[0;36m1\u001b[0m\u001b[0;34m)\u001b[0m\u001b[0;34m\u001b[0m\u001b[0;34m\u001b[0m\u001b[0m\n\u001b[1;32m   2283\u001b[0m         \u001b[0;32melse\u001b[0m\u001b[0;34m:\u001b[0m\u001b[0;34m\u001b[0m\u001b[0;34m\u001b[0m\u001b[0m\n\u001b[0;32m-> 2284\u001b[0;31m             \u001b[0;32mraise\u001b[0m \u001b[0mOverflowError\u001b[0m\u001b[0;34m(\u001b[0m\u001b[0;34mf\"exponent must be at most {LONG_MAX}\"\u001b[0m\u001b[0;34m)\u001b[0m\u001b[0;34m\u001b[0m\u001b[0;34m\u001b[0m\u001b[0m\n\u001b[0m\u001b[1;32m   2285\u001b[0m         \u001b[0;32mif\u001b[0m \u001b[0mmpz_sgn\u001b[0m\u001b[0;34m(\u001b[0m\u001b[0mexp\u001b[0m\u001b[0;34m)\u001b[0m \u001b[0;34m>=\u001b[0m \u001b[0;36m0\u001b[0m\u001b[0;34m:\u001b[0m\u001b[0;34m\u001b[0m\u001b[0;34m\u001b[0m\u001b[0m\n\u001b[1;32m   2286\u001b[0m             \u001b[0;32mreturn\u001b[0m \u001b[0mr\u001b[0m\u001b[0;34m\u001b[0m\u001b[0;34m\u001b[0m\u001b[0m\n",
            "\u001b[0;31mOverflowError\u001b[0m: exponent must be at most 9223372036854775807"
          ]
        }
      ],
      "source": [
        "mod(a^b,n)"
      ]
    },
    {
      "cell_type": "code",
      "execution_count": null,
      "metadata": {
        "id": "nr1Jzcvbt95C"
      },
      "outputs": [],
      "source": [
        "####################################################"
      ]
    },
    {
      "cell_type": "code",
      "execution_count": null,
      "metadata": {
        "id": "vyZuH6HTt95C"
      },
      "outputs": [],
      "source": [
        "#1.c ----are a or b invertible modulo n?"
      ]
    },
    {
      "cell_type": "code",
      "execution_count": null,
      "metadata": {
        "id": "NBxIg2Mvt95C"
      },
      "outputs": [],
      "source": [
        "#if we get gcd(a,n)=1 and gcd(b,n)=1, then invertible a and b modulo n is possible."
      ]
    },
    {
      "cell_type": "code",
      "execution_count": null,
      "metadata": {
        "id": "SRa0sE1ct95C",
        "outputId": "fcbcd899-f142-4ad4-e9bf-d32ad1c31629"
      },
      "outputs": [
        {
          "data": {
            "text/plain": [
              "4"
            ]
          },
          "execution_count": 27,
          "metadata": {},
          "output_type": "execute_result"
        }
      ],
      "source": [
        "gcd(a,n)"
      ]
    },
    {
      "cell_type": "code",
      "execution_count": null,
      "metadata": {
        "id": "Dh-BRmNIt95C",
        "outputId": "e02f52b7-bd4e-4516-e969-6730abf786fa"
      },
      "outputs": [
        {
          "data": {
            "text/plain": [
              "1"
            ]
          },
          "execution_count": 28,
          "metadata": {},
          "output_type": "execute_result"
        }
      ],
      "source": [
        "gcd(b,n)"
      ]
    },
    {
      "cell_type": "code",
      "execution_count": null,
      "metadata": {
        "id": "3X9ULJOCt95C"
      },
      "outputs": [],
      "source": [
        "#It is seen that gcd(b,n)=1, so b invertible modulo n exists. And a invertible modulo n doesn't exist."
      ]
    },
    {
      "cell_type": "code",
      "execution_count": null,
      "metadata": {
        "id": "n5Dl3Gast95C"
      },
      "outputs": [],
      "source": [
        "#computing a^-1 or b^-1 mod n"
      ]
    },
    {
      "cell_type": "code",
      "execution_count": null,
      "metadata": {
        "id": "Mwtvu6JEt95C",
        "outputId": "06037406-09a1-43f0-b379-2f07a39422fc"
      },
      "outputs": [
        {
          "data": {
            "text/plain": [
              "626636452211697259183"
            ]
          },
          "execution_count": 31,
          "metadata": {},
          "output_type": "execute_result"
        }
      ],
      "source": [
        "mod((1/b),n)"
      ]
    },
    {
      "cell_type": "code",
      "execution_count": null,
      "metadata": {
        "id": "W-IN0Eurt95C"
      },
      "outputs": [],
      "source": [
        "#####error#####    as seen, the a^-1 mod n can not be possible as gcd(a,n) not equals to 1"
      ]
    },
    {
      "cell_type": "code",
      "execution_count": null,
      "metadata": {
        "id": "cCnhrWont95C",
        "outputId": "d942235b-a3b0-4168-87af-0146062bb02a"
      },
      "outputs": [
        {
          "ename": "ZeroDivisionError",
          "evalue": "inverse of Mod(885290234726339747156, 1384840207347521476544) does not exist",
          "output_type": "error",
          "traceback": [
            "\u001b[0;31m---------------------------------------------------------------------------\u001b[0m",
            "\u001b[0;31mZeroDivisionError\u001b[0m                         Traceback (most recent call last)",
            "\u001b[0;32m<ipython-input-33-2d85b699ee04>\u001b[0m in \u001b[0;36m<module>\u001b[0;34m\u001b[0m\n\u001b[0;32m----> 1\u001b[0;31m \u001b[0mmod\u001b[0m\u001b[0;34m(\u001b[0m\u001b[0;34m(\u001b[0m\u001b[0mInteger\u001b[0m\u001b[0;34m(\u001b[0m\u001b[0;36m1\u001b[0m\u001b[0;34m)\u001b[0m\u001b[0;34m/\u001b[0m\u001b[0ma\u001b[0m\u001b[0;34m)\u001b[0m\u001b[0;34m,\u001b[0m\u001b[0mn\u001b[0m\u001b[0;34m)\u001b[0m\u001b[0;34m\u001b[0m\u001b[0;34m\u001b[0m\u001b[0m\n\u001b[0m",
            "\u001b[0;32m/opt/sagemath-9.2/local/lib/python3.7/site-packages/sage/rings/finite_rings/integer_mod.pyx\u001b[0m in \u001b[0;36msage.rings.finite_rings.integer_mod.Mod (build/cythonized/sage/rings/finite_rings/integer_mod.c:4408)\u001b[0;34m()\u001b[0m\n\u001b[1;32m    152\u001b[0m         \u001b[0;32mfrom\u001b[0m \u001b[0;34m.\u001b[0m\u001b[0minteger_mod_ring\u001b[0m \u001b[0;32mimport\u001b[0m \u001b[0mIntegerModRing\u001b[0m\u001b[0;34m\u001b[0m\u001b[0;34m\u001b[0m\u001b[0m\n\u001b[1;32m    153\u001b[0m         \u001b[0mparent\u001b[0m \u001b[0;34m=\u001b[0m \u001b[0mIntegerModRing\u001b[0m\u001b[0;34m(\u001b[0m\u001b[0mm\u001b[0m\u001b[0;34m)\u001b[0m\u001b[0;34m\u001b[0m\u001b[0;34m\u001b[0m\u001b[0m\n\u001b[0;32m--> 154\u001b[0;31m     \u001b[0;32mreturn\u001b[0m \u001b[0mIntegerMod\u001b[0m\u001b[0;34m(\u001b[0m\u001b[0mparent\u001b[0m\u001b[0;34m,\u001b[0m \u001b[0mn\u001b[0m\u001b[0;34m)\u001b[0m\u001b[0;34m\u001b[0m\u001b[0;34m\u001b[0m\u001b[0m\n\u001b[0m\u001b[1;32m    155\u001b[0m \u001b[0;34m\u001b[0m\u001b[0m\n\u001b[1;32m    156\u001b[0m \u001b[0;34m\u001b[0m\u001b[0m\n",
            "\u001b[0;32m/opt/sagemath-9.2/local/lib/python3.7/site-packages/sage/rings/finite_rings/integer_mod.pyx\u001b[0m in \u001b[0;36msage.rings.finite_rings.integer_mod.IntegerMod (build/cythonized/sage/rings/finite_rings/integer_mod.c:4715)\u001b[0;34m()\u001b[0m\n\u001b[1;32m    197\u001b[0m             \u001b[0;32mreturn\u001b[0m \u001b[0ma\u001b[0m\u001b[0;34m\u001b[0m\u001b[0;34m\u001b[0m\u001b[0m\n\u001b[1;32m    198\u001b[0m     \u001b[0mt\u001b[0m \u001b[0;34m=\u001b[0m \u001b[0mmodulus\u001b[0m\u001b[0;34m.\u001b[0m\u001b[0melement_class\u001b[0m\u001b[0;34m(\u001b[0m\u001b[0;34m)\u001b[0m\u001b[0;34m\u001b[0m\u001b[0;34m\u001b[0m\u001b[0m\n\u001b[0;32m--> 199\u001b[0;31m     \u001b[0;32mreturn\u001b[0m \u001b[0mt\u001b[0m\u001b[0;34m(\u001b[0m\u001b[0mparent\u001b[0m\u001b[0;34m,\u001b[0m \u001b[0mvalue\u001b[0m\u001b[0;34m)\u001b[0m\u001b[0;34m\u001b[0m\u001b[0;34m\u001b[0m\u001b[0m\n\u001b[0m\u001b[1;32m    200\u001b[0m \u001b[0;34m\u001b[0m\u001b[0m\n\u001b[1;32m    201\u001b[0m \u001b[0;34m\u001b[0m\u001b[0m\n",
            "\u001b[0;32m/opt/sagemath-9.2/local/lib/python3.7/site-packages/sage/rings/finite_rings/integer_mod.pyx\u001b[0m in \u001b[0;36msage.rings.finite_rings.integer_mod.IntegerMod_abstract.__init__ (build/cythonized/sage/rings/finite_rings/integer_mod.c:5933)\u001b[0;34m()\u001b[0m\n\u001b[1;32m    370\u001b[0m             \u001b[0mz\u001b[0m \u001b[0;34m=\u001b[0m \u001b[0;34m<\u001b[0m\u001b[0mInteger\u001b[0m\u001b[0;34m>\u001b[0m\u001b[0mvalue\u001b[0m\u001b[0;34m\u001b[0m\u001b[0;34m\u001b[0m\u001b[0m\n\u001b[1;32m    371\u001b[0m         \u001b[0;32melif\u001b[0m \u001b[0misinstance\u001b[0m\u001b[0;34m(\u001b[0m\u001b[0mvalue\u001b[0m\u001b[0;34m,\u001b[0m \u001b[0mrational\u001b[0m\u001b[0;34m.\u001b[0m\u001b[0mRational\u001b[0m\u001b[0;34m)\u001b[0m\u001b[0;34m:\u001b[0m\u001b[0;34m\u001b[0m\u001b[0;34m\u001b[0m\u001b[0m\n\u001b[0;32m--> 372\u001b[0;31m             \u001b[0mz\u001b[0m \u001b[0;34m=\u001b[0m \u001b[0mvalue\u001b[0m \u001b[0;34m%\u001b[0m \u001b[0mself\u001b[0m\u001b[0;34m.\u001b[0m\u001b[0m__modulus\u001b[0m\u001b[0;34m.\u001b[0m\u001b[0msageInteger\u001b[0m\u001b[0;34m\u001b[0m\u001b[0;34m\u001b[0m\u001b[0m\n\u001b[0m\u001b[1;32m    373\u001b[0m         \u001b[0;32melif\u001b[0m \u001b[0minteger_check_long_py\u001b[0m\u001b[0;34m(\u001b[0m\u001b[0mvalue\u001b[0m\u001b[0;34m,\u001b[0m \u001b[0;34m&\u001b[0m\u001b[0mlongval\u001b[0m\u001b[0;34m,\u001b[0m \u001b[0;34m&\u001b[0m\u001b[0merr\u001b[0m\u001b[0;34m)\u001b[0m \u001b[0;32mand\u001b[0m \u001b[0;32mnot\u001b[0m \u001b[0merr\u001b[0m\u001b[0;34m:\u001b[0m\u001b[0;34m\u001b[0m\u001b[0;34m\u001b[0m\u001b[0m\n\u001b[1;32m    374\u001b[0m             \u001b[0mself\u001b[0m\u001b[0;34m.\u001b[0m\u001b[0mset_from_long\u001b[0m\u001b[0;34m(\u001b[0m\u001b[0mlongval\u001b[0m\u001b[0;34m)\u001b[0m\u001b[0;34m\u001b[0m\u001b[0;34m\u001b[0m\u001b[0m\n",
            "\u001b[0;32m/opt/sagemath-9.2/local/lib/python3.7/site-packages/sage/rings/rational.pyx\u001b[0m in \u001b[0;36msage.rings.rational.Rational.__mod__ (build/cythonized/sage/rings/rational.c:23497)\u001b[0;34m()\u001b[0m\n\u001b[1;32m   2810\u001b[0m         \u001b[0mn\u001b[0m \u001b[0;34m=\u001b[0m \u001b[0mrat\u001b[0m\u001b[0;34m.\u001b[0m\u001b[0mnumer\u001b[0m\u001b[0;34m(\u001b[0m\u001b[0;34m)\u001b[0m \u001b[0;34m%\u001b[0m \u001b[0mother\u001b[0m\u001b[0;34m\u001b[0m\u001b[0;34m\u001b[0m\u001b[0m\n\u001b[1;32m   2811\u001b[0m         \u001b[0md\u001b[0m \u001b[0;34m=\u001b[0m \u001b[0mrat\u001b[0m\u001b[0;34m.\u001b[0m\u001b[0mdenom\u001b[0m\u001b[0;34m(\u001b[0m\u001b[0;34m)\u001b[0m \u001b[0;34m%\u001b[0m \u001b[0mother\u001b[0m\u001b[0;34m\u001b[0m\u001b[0;34m\u001b[0m\u001b[0m\n\u001b[0;32m-> 2812\u001b[0;31m         \u001b[0md\u001b[0m \u001b[0;34m=\u001b[0m \u001b[0md\u001b[0m\u001b[0;34m.\u001b[0m\u001b[0minverse_mod\u001b[0m\u001b[0;34m(\u001b[0m\u001b[0mother\u001b[0m\u001b[0;34m)\u001b[0m\u001b[0;34m\u001b[0m\u001b[0;34m\u001b[0m\u001b[0m\n\u001b[0m\u001b[1;32m   2813\u001b[0m         \u001b[0;32mreturn\u001b[0m \u001b[0;34m(\u001b[0m\u001b[0mn\u001b[0m \u001b[0;34m*\u001b[0m \u001b[0md\u001b[0m\u001b[0;34m)\u001b[0m \u001b[0;34m%\u001b[0m \u001b[0mother\u001b[0m\u001b[0;34m\u001b[0m\u001b[0;34m\u001b[0m\u001b[0m\n\u001b[1;32m   2814\u001b[0m \u001b[0;34m\u001b[0m\u001b[0m\n",
            "\u001b[0;32m/opt/sagemath-9.2/local/lib/python3.7/site-packages/sage/rings/integer.pyx\u001b[0m in \u001b[0;36msage.rings.integer.Integer.inverse_mod (build/cythonized/sage/rings/integer.c:41635)\u001b[0;34m()\u001b[0m\n\u001b[1;32m   6734\u001b[0m         \u001b[0msig_off\u001b[0m\u001b[0;34m(\u001b[0m\u001b[0;34m)\u001b[0m\u001b[0;34m\u001b[0m\u001b[0;34m\u001b[0m\u001b[0m\n\u001b[1;32m   6735\u001b[0m         \u001b[0;32mif\u001b[0m \u001b[0mr\u001b[0m \u001b[0;34m==\u001b[0m \u001b[0;36m0\u001b[0m\u001b[0;34m:\u001b[0m\u001b[0;34m\u001b[0m\u001b[0;34m\u001b[0m\u001b[0m\n\u001b[0;32m-> 6736\u001b[0;31m             \u001b[0;32mraise\u001b[0m \u001b[0mZeroDivisionError\u001b[0m\u001b[0;34m(\u001b[0m\u001b[0;34mf\"inverse of Mod({self}, {m}) does not exist\"\u001b[0m\u001b[0;34m)\u001b[0m\u001b[0;34m\u001b[0m\u001b[0;34m\u001b[0m\u001b[0m\n\u001b[0m\u001b[1;32m   6737\u001b[0m         \u001b[0;32mreturn\u001b[0m \u001b[0mans\u001b[0m\u001b[0;34m\u001b[0m\u001b[0;34m\u001b[0m\u001b[0m\n\u001b[1;32m   6738\u001b[0m \u001b[0;34m\u001b[0m\u001b[0m\n",
            "\u001b[0;31mZeroDivisionError\u001b[0m: inverse of Mod(885290234726339747156, 1384840207347521476544) does not exist"
          ]
        }
      ],
      "source": [
        "mod((1/a),n)"
      ]
    },
    {
      "cell_type": "code",
      "execution_count": null,
      "metadata": {
        "id": "PXUNPGvIt95C"
      },
      "outputs": [],
      "source": [
        "#b^-1 mod n is possible as gcd(b,n)=1"
      ]
    },
    {
      "cell_type": "code",
      "execution_count": null,
      "metadata": {
        "id": "uFOXYm-Bt95C",
        "outputId": "e13f59e3-2e2a-4163-f56a-507677fd865f"
      },
      "outputs": [
        {
          "data": {
            "text/plain": [
              "626636452211697259183"
            ]
          },
          "execution_count": 35,
          "metadata": {},
          "output_type": "execute_result"
        }
      ],
      "source": [
        "mod((1/b),n)"
      ]
    },
    {
      "cell_type": "code",
      "execution_count": null,
      "metadata": {
        "id": "HJPphWInt95C"
      },
      "outputs": [],
      "source": [
        "####or in terms of power_mod"
      ]
    },
    {
      "cell_type": "code",
      "execution_count": null,
      "metadata": {
        "id": "ZHW3XMKdt95C",
        "outputId": "8d3d8f48-d694-4f9a-8ca5-3db7f5312a10"
      },
      "outputs": [
        {
          "data": {
            "text/plain": [
              "626636452211697259183"
            ]
          },
          "execution_count": 37,
          "metadata": {},
          "output_type": "execute_result"
        }
      ],
      "source": [
        "power_mod(b,-1,n)"
      ]
    },
    {
      "cell_type": "code",
      "execution_count": null,
      "metadata": {
        "id": "XMdEDExht95C"
      },
      "outputs": [],
      "source": [
        "############################################################"
      ]
    },
    {
      "cell_type": "code",
      "execution_count": null,
      "metadata": {
        "id": "sKDiAN4Mt95C"
      },
      "outputs": [],
      "source": [
        "#Problem-2"
      ]
    },
    {
      "cell_type": "code",
      "execution_count": null,
      "metadata": {
        "id": "kB5xH-fft95G",
        "outputId": "45287964-c370-4a38-bd56-3510e6c74547"
      },
      "outputs": [
        {
          "name": "stdout",
          "output_type": "stream",
          "text": [
            "(4, -25765893094442506435, 207385680180932025424988622246, 41)\n",
            "(1, 626636452211697259183, -29607847907092447839174891711372293, 46)\n"
          ]
        }
      ],
      "source": [
        "def EEA(a,b):\n",
        "    x0=1;x1=0;y0=0;y1=1;sign=1;m=0;\n",
        "    while b!=0:\n",
        "        #x0=1;x1=0;y0=0;y1=1;sign=1;m=0;\n",
        "        m=m+1\n",
        "        r=a%b\n",
        "        q=a//b\n",
        "        a=b\n",
        "        b=r\n",
        "        xx=x1\n",
        "        yy=y1\n",
        "        x1=q*x1+x0\n",
        "        y1=q*y1+y0\n",
        "        x0=xx\n",
        "        y0=yy\n",
        "        sign=-sign\n",
        "\n",
        "    x=sign*x0\n",
        "    y=-sign*y0\n",
        "    gcd=a\n",
        "    return(gcd,x,y,m)\n",
        "\n",
        "print (EEA(a,n))\n",
        "print(EEA(b,n))"
      ]
    },
    {
      "cell_type": "code",
      "execution_count": null,
      "metadata": {
        "id": "OTx-9N7nt95G"
      },
      "outputs": [],
      "source": [
        "#m=41 and m=46 times divisions were happened"
      ]
    },
    {
      "cell_type": "code",
      "execution_count": null,
      "metadata": {
        "id": "i0z9PNait95G"
      },
      "outputs": [],
      "source": [
        "#taking values of a,b from task 1\n",
        "a=11146364198981114636465432098772\n",
        "b=65432098771234567891433336543209871"
      ]
    },
    {
      "cell_type": "code",
      "execution_count": null,
      "metadata": {
        "id": "zxcZqsI3t95G",
        "outputId": "5656155e-1d9e-4277-86b4-9c42850e6dee"
      },
      "outputs": [
        {
          "data": {
            "text/plain": [
              "(4, -25765893094442506435, 207385680180932025424988622246, 41)"
            ]
          },
          "execution_count": 43,
          "metadata": {},
          "output_type": "execute_result"
        }
      ],
      "source": [
        "EEA(a,n)"
      ]
    },
    {
      "cell_type": "code",
      "execution_count": null,
      "metadata": {
        "id": "aku5JdmHt95G",
        "outputId": "4a056407-ba9c-48fb-88c0-6cc75475bc29"
      },
      "outputs": [
        {
          "data": {
            "text/plain": [
              "(1, 626636452211697259183, -29607847907092447839174891711372293, 46)"
            ]
          },
          "execution_count": 44,
          "metadata": {},
          "output_type": "execute_result"
        }
      ],
      "source": [
        "EEA(b,n)"
      ]
    },
    {
      "cell_type": "code",
      "execution_count": null,
      "metadata": {
        "id": "9ctWn57ot95G"
      },
      "outputs": [],
      "source": [
        "#setting [g,x,y,m]=EEA(a,n)"
      ]
    },
    {
      "cell_type": "code",
      "execution_count": null,
      "metadata": {
        "id": "mF4xS6NYt95G"
      },
      "outputs": [],
      "source": [
        "[g,x,y,m]=EEA(a,n)"
      ]
    },
    {
      "cell_type": "code",
      "execution_count": null,
      "metadata": {
        "id": "Tjh7_m7ht95G",
        "outputId": "83688360-a729-40e5-e6c8-9cb2b7df889e"
      },
      "outputs": [
        {
          "data": {
            "text/plain": [
              "[4, -25765893094442506435, 207385680180932025424988622246, 41]"
            ]
          },
          "execution_count": 47,
          "metadata": {},
          "output_type": "execute_result"
        }
      ],
      "source": [
        "[g,x,y,m]"
      ]
    },
    {
      "cell_type": "code",
      "execution_count": null,
      "metadata": {
        "id": "gJt80AKjt95G",
        "outputId": "3ea9c23e-d3fa-4b07-90c5-9a671c782f5e"
      },
      "outputs": [
        {
          "data": {
            "text/plain": [
              "4"
            ]
          },
          "execution_count": 48,
          "metadata": {},
          "output_type": "execute_result"
        }
      ],
      "source": [
        "g"
      ]
    },
    {
      "cell_type": "code",
      "execution_count": null,
      "metadata": {
        "id": "wCKoD2vmt95G"
      },
      "outputs": [],
      "source": [
        "#have to verify that g=ax+ny=4"
      ]
    },
    {
      "cell_type": "code",
      "execution_count": null,
      "metadata": {
        "id": "F_tz4qGDt95G",
        "outputId": "08c66900-1e94-4297-bf5a-2e320dffa6b9"
      },
      "outputs": [
        {
          "data": {
            "text/plain": [
              "4"
            ]
          },
          "execution_count": 50,
          "metadata": {},
          "output_type": "execute_result"
        }
      ],
      "source": [
        "a*x+n*y"
      ]
    },
    {
      "cell_type": "code",
      "execution_count": null,
      "metadata": {
        "id": "8poHaxHFt95G"
      },
      "outputs": [],
      "source": [
        "#thus above it is verified that g=ax+ny=4 as g==4"
      ]
    },
    {
      "cell_type": "code",
      "execution_count": null,
      "metadata": {
        "id": "aclQmvN2t95G"
      },
      "outputs": [],
      "source": [
        "g=a*x+n*y"
      ]
    },
    {
      "cell_type": "code",
      "execution_count": null,
      "metadata": {
        "id": "5EuchyCot95H"
      },
      "outputs": [],
      "source": [
        "#verifying that g=ax mod n"
      ]
    },
    {
      "cell_type": "code",
      "execution_count": null,
      "metadata": {
        "id": "YDIGIRTKt95H",
        "outputId": "3da865e4-2cf3-478e-c9eb-1d4b6164ba17"
      },
      "outputs": [
        {
          "data": {
            "text/plain": [
              "4"
            ]
          },
          "execution_count": 54,
          "metadata": {},
          "output_type": "execute_result"
        }
      ],
      "source": [
        "mod((a*x),n)"
      ]
    },
    {
      "cell_type": "code",
      "execution_count": null,
      "metadata": {
        "id": "WwGrpGqNt95H"
      },
      "outputs": [],
      "source": [
        "g=mod((a*x),n)"
      ]
    },
    {
      "cell_type": "code",
      "execution_count": null,
      "metadata": {
        "id": "TONEDL-jt95H"
      },
      "outputs": [],
      "source": [
        "# so it is verified that ax mod n also equals to 4 as g==4"
      ]
    },
    {
      "cell_type": "code",
      "execution_count": null,
      "metadata": {
        "id": "Ow6B40Swt95H"
      },
      "outputs": [],
      "source": [
        "######################################################################"
      ]
    },
    {
      "cell_type": "code",
      "execution_count": null,
      "metadata": {
        "id": "jl5ySnu7t95H"
      },
      "outputs": [],
      "source": [
        "#Problem-3"
      ]
    },
    {
      "cell_type": "code",
      "execution_count": null,
      "metadata": {
        "id": "gYmcbJqvt95H"
      },
      "outputs": [],
      "source": [
        "#a function numberofunits which counts the number of the invertible integers mod n and prints out the result\n"
      ]
    },
    {
      "cell_type": "code",
      "execution_count": null,
      "metadata": {
        "id": "UIhxfHFat95H",
        "outputId": "fb6262f5-b625-47f8-c319-d6da715cdfaf"
      },
      "outputs": [
        {
          "name": "stdout",
          "output_type": "stream",
          "text": [
            "573180\n"
          ]
        }
      ],
      "source": [
        "def numberofunits(n):\n",
        "    h=0\n",
        "    x=11146364\n",
        "    n=x-10000000\n",
        "\n",
        "    for i in range (1,n):\n",
        "        if EEA(i,n)[0]==1:\n",
        "            h=h+1\n",
        "    return mod(h,n)\n",
        "\n",
        "print(numberofunits(n))"
      ]
    },
    {
      "cell_type": "code",
      "execution_count": null,
      "metadata": {
        "id": "1D2_P6Sut95H",
        "outputId": "d61e8baf-673d-4a01-9415-f710577357c3"
      },
      "outputs": [
        {
          "data": {
            "text/plain": [
              "573180"
            ]
          },
          "execution_count": 63,
          "metadata": {},
          "output_type": "execute_result"
        }
      ],
      "source": [
        "euler_phi(n)"
      ]
    },
    {
      "cell_type": "code",
      "execution_count": null,
      "metadata": {
        "id": "97OIQttat95H"
      },
      "outputs": [],
      "source": [
        "#from above calculation, numberofunits(n)==euler_phi(n)"
      ]
    },
    {
      "cell_type": "code",
      "execution_count": null,
      "metadata": {
        "id": "3JS07-bCt95H"
      },
      "outputs": [],
      "source": [
        "#############################################################################"
      ]
    },
    {
      "cell_type": "code",
      "execution_count": null,
      "metadata": {
        "id": "SLFplN5Ct95H"
      },
      "outputs": [],
      "source": [
        "#Problem-4"
      ]
    },
    {
      "cell_type": "code",
      "execution_count": null,
      "metadata": {
        "id": "g2qG8MDWt95H"
      },
      "outputs": [],
      "source": [
        "#Setting up an RSA cryptosystem and encrypt a message. First, I will generate two 1280-bit random primes.\n",
        "#and\n",
        "#setting n=pq and phi=(p-1)*(q-1)"
      ]
    },
    {
      "cell_type": "code",
      "execution_count": null,
      "metadata": {
        "id": "KiRms1F5t95H"
      },
      "outputs": [],
      "source": [
        "p=random_prime(2^1280)\n",
        "q=random_prime(2^1280)"
      ]
    },
    {
      "cell_type": "code",
      "execution_count": null,
      "metadata": {
        "id": "BdPhpmLwt95I",
        "outputId": "98b919b7-3d1a-4b5e-ceee-cfeaa75370c7"
      },
      "outputs": [
        {
          "data": {
            "text/plain": [
              "6528268223688757953845041355127038918914911180795974549054084259781850392138824906402715397644992072326395451613871909020887081650317152169956662405882337605055065412952849808575989347354504742492343463316641370001675958363560234818630706266558086990290863088494303338718808925151847860759395195256793618699355891574993188715171482885799997316711217846493286400824555538443525753006879"
            ]
          },
          "execution_count": 69,
          "metadata": {},
          "output_type": "execute_result"
        }
      ],
      "source": [
        "p"
      ]
    },
    {
      "cell_type": "code",
      "execution_count": null,
      "metadata": {
        "id": "nlDv-KDrt95I",
        "outputId": "2ed42b91-4611-41da-ee3d-90fc4984b06e"
      },
      "outputs": [
        {
          "data": {
            "text/plain": [
              "10660324715389613877067548340499481948847318837888062663208656059247464146724499392618403808207537956334478455574020813125783692073438367738464280133264739826694072537362394838599527807031980371500551536247953903829625244989846251525983278951065962500948099252705171342153933267230320882503502788148749540585224502987660384269963261615722123721889357815890810556565889163606073900302907"
            ]
          },
          "execution_count": 70,
          "metadata": {},
          "output_type": "execute_result"
        }
      ],
      "source": [
        "q"
      ]
    },
    {
      "cell_type": "code",
      "execution_count": null,
      "metadata": {
        "id": "flq43DZLt95I"
      },
      "outputs": [],
      "source": [
        "n=p*q"
      ]
    },
    {
      "cell_type": "code",
      "execution_count": null,
      "metadata": {
        "id": "KPN6PEUWt95I",
        "outputId": "ae3d206a-704c-4702-ba85-a25e8290dc89"
      },
      "outputs": [
        {
          "data": {
            "text/plain": [
              "69593459093681918776195377550815694983082002477372210854636272846659414659216023061506842918762127983602088053549719395448255539130688598423747128664986966526712833716348362408411894938883599123775571096258978202282977163223055076569931474433865489313123978739862982599935104213981237672280075796237783400578526549996003984511306268157496119454508792017008394644989245385591513994489835928033238094972413730899355329824861809414001816643344642021595147394156820181157212127422313880979635154375137578554711860914641543850768853124514932528983442124715388935044787303875374354495574924688221036449898950838109049616115833943870236861831995086560690707036174752408845887808312873721627914786377259635045406474758097852754231989665658535026159718362717910905937624154697253"
            ]
          },
          "execution_count": 72,
          "metadata": {},
          "output_type": "execute_result"
        }
      ],
      "source": [
        "n"
      ]
    },
    {
      "cell_type": "code",
      "execution_count": null,
      "metadata": {
        "id": "iwCCpSb7t95I"
      },
      "outputs": [],
      "source": [
        "#setting phi=(p-1)*(q-1)"
      ]
    },
    {
      "cell_type": "code",
      "execution_count": null,
      "metadata": {
        "id": "chdUJ51qt95I",
        "outputId": "9a30be85-5393-450e-a26b-f339fdb4dedf"
      },
      "outputs": [
        {
          "data": {
            "text/plain": [
              "69593459093681918776195377550815694983082002477372210854636272846659414659216023061506842918762127983602088053549719395448255539130688598423747128664986966526712833716348362408411894938883599123775571096258978202282977163223055076569931474433865489313123978739862982599935104213981237672280075796237783400578526549996003984511306268157496119454508792017008394644989245385591513994489818739440299016600582818309659703303994047183983132606132379281276118079617956856858191008216461350950974280467949685832565190140917788330860432181975785451551692986765073690397611786720987869381582029688656441176067649634755643129771219958652612812340756124219491232355302010216463719065049975738222371627092679240482752901772963108252709868627057959363775621405327466203888024501387468"
            ]
          },
          "execution_count": 74,
          "metadata": {},
          "output_type": "execute_result"
        }
      ],
      "source": [
        "(p-1) * (q-1)"
      ]
    },
    {
      "cell_type": "code",
      "execution_count": null,
      "metadata": {
        "id": "np2Vc00Ut95I"
      },
      "outputs": [],
      "source": [
        "phi = (p-1) * (q-1)"
      ]
    },
    {
      "cell_type": "code",
      "execution_count": null,
      "metadata": {
        "id": "oOqWUe4Pt95I",
        "outputId": "6d5ef503-b2b1-4bf0-ca4b-424bccbc9790"
      },
      "outputs": [
        {
          "data": {
            "text/plain": [
              "69593459093681918776195377550815694983082002477372210854636272846659414659216023061506842918762127983602088053549719395448255539130688598423747128664986966526712833716348362408411894938883599123775571096258978202282977163223055076569931474433865489313123978739862982599935104213981237672280075796237783400578526549996003984511306268157496119454508792017008394644989245385591513994489818739440299016600582818309659703303994047183983132606132379281276118079617956856858191008216461350950974280467949685832565190140917788330860432181975785451551692986765073690397611786720987869381582029688656441176067649634755643129771219958652612812340756124219491232355302010216463719065049975738222371627092679240482752901772963108252709868627057959363775621405327466203888024501387468"
            ]
          },
          "execution_count": 76,
          "metadata": {},
          "output_type": "execute_result"
        }
      ],
      "source": [
        "phi"
      ]
    },
    {
      "cell_type": "code",
      "execution_count": null,
      "metadata": {
        "id": "s12oxyzit95I"
      },
      "outputs": [],
      "source": [
        "#have to choose e>2^16 as small as possible so that gcd(e,phi)=1"
      ]
    },
    {
      "cell_type": "code",
      "execution_count": null,
      "metadata": {
        "id": "AapHK5hvt95I"
      },
      "outputs": [],
      "source": [
        "e=random_prime(2^16)"
      ]
    },
    {
      "cell_type": "code",
      "execution_count": null,
      "metadata": {
        "id": "n51QMuLCt95I",
        "outputId": "3c005621-3755-45e2-fb13-2c8938a1a7ac"
      },
      "outputs": [
        {
          "data": {
            "text/plain": [
              "26591"
            ]
          },
          "execution_count": 79,
          "metadata": {},
          "output_type": "execute_result"
        }
      ],
      "source": [
        "e"
      ]
    },
    {
      "cell_type": "code",
      "execution_count": null,
      "metadata": {
        "id": "3l2EXEMlt95I",
        "outputId": "ad33b3ff-11b1-4f24-99dc-d56d2d04945c"
      },
      "outputs": [
        {
          "data": {
            "text/plain": [
              "1"
            ]
          },
          "execution_count": 80,
          "metadata": {},
          "output_type": "execute_result"
        }
      ],
      "source": [
        "gcd(e,phi)"
      ]
    },
    {
      "cell_type": "code",
      "execution_count": null,
      "metadata": {
        "id": "bgpVr9m4t95I"
      },
      "outputs": [],
      "source": [
        "#setting (e,n) as public  RSA key"
      ]
    },
    {
      "cell_type": "code",
      "execution_count": null,
      "metadata": {
        "id": "LhiTdJkJt95I",
        "outputId": "de40e975-2b33-4b9c-a521-2239a4098cbf"
      },
      "outputs": [
        {
          "data": {
            "text/plain": [
              "(26591,\n",
              " 69593459093681918776195377550815694983082002477372210854636272846659414659216023061506842918762127983602088053549719395448255539130688598423747128664986966526712833716348362408411894938883599123775571096258978202282977163223055076569931474433865489313123978739862982599935104213981237672280075796237783400578526549996003984511306268157496119454508792017008394644989245385591513994489835928033238094972413730899355329824861809414001816643344642021595147394156820181157212127422313880979635154375137578554711860914641543850768853124514932528983442124715388935044787303875374354495574924688221036449898950838109049616115833943870236861831995086560690707036174752408845887808312873721627914786377259635045406474758097852754231989665658535026159718362717910905937624154697253)"
            ]
          },
          "execution_count": 82,
          "metadata": {},
          "output_type": "execute_result"
        }
      ],
      "source": [
        "(e,n)"
      ]
    },
    {
      "cell_type": "code",
      "execution_count": null,
      "metadata": {
        "id": "LkFF1yXQt95I"
      },
      "outputs": [],
      "source": [
        "#will compute my private RSA key as d== (e mod phi)^-1"
      ]
    },
    {
      "cell_type": "code",
      "execution_count": null,
      "metadata": {
        "id": "AI7ZKxPct95I",
        "outputId": "fec3611f-5f41-416e-9d4a-063399eea07c"
      },
      "outputs": [
        {
          "data": {
            "text/plain": [
              "35041435967256109604545895604823862965984164987008255843432930583427584629094179713832316191166414635495030534728938098817520718040720155101182742495412376173372875432597052547336574831210278239563428280538959014341949578368375932465676827166899516242842200419240550337728220462599931976764993224618392762601853709070606496507159551139886260139762258520391312696091196512642803236893091012085523806297815176350947078618223319835521423130514325380655332442104652865874706457410785642807062338429746092422707507457288115075096473486686239382152819277191439646524524245511914052993494106859517170881364738481431435668628741454868182202415493352907930055658122620991622456265727280852884785593439279543861591463346177392967377399535469858896679019028841692490085245385622083"
            ]
          },
          "execution_count": 84,
          "metadata": {},
          "output_type": "execute_result"
        }
      ],
      "source": [
        "power_mod(e,-1,phi)"
      ]
    },
    {
      "cell_type": "code",
      "execution_count": null,
      "metadata": {
        "id": "O6IRT9kSt95I"
      },
      "outputs": [],
      "source": [
        "####or"
      ]
    },
    {
      "cell_type": "code",
      "execution_count": null,
      "metadata": {
        "id": "rL02vqMQt95J",
        "outputId": "3de63313-d1da-4820-9fbf-52c1f6d63a85"
      },
      "outputs": [
        {
          "data": {
            "text/plain": [
              "35041435967256109604545895604823862965984164987008255843432930583427584629094179713832316191166414635495030534728938098817520718040720155101182742495412376173372875432597052547336574831210278239563428280538959014341949578368375932465676827166899516242842200419240550337728220462599931976764993224618392762601853709070606496507159551139886260139762258520391312696091196512642803236893091012085523806297815176350947078618223319835521423130514325380655332442104652865874706457410785642807062338429746092422707507457288115075096473486686239382152819277191439646524524245511914052993494106859517170881364738481431435668628741454868182202415493352907930055658122620991622456265727280852884785593439279543861591463346177392967377399535469858896679019028841692490085245385622083"
            ]
          },
          "execution_count": 86,
          "metadata": {},
          "output_type": "execute_result"
        }
      ],
      "source": [
        "mod(1/e,phi)"
      ]
    },
    {
      "cell_type": "code",
      "execution_count": null,
      "metadata": {
        "id": "nBo1IpiNt95J"
      },
      "outputs": [],
      "source": [
        "d=power_mod(e,-1,phi)"
      ]
    },
    {
      "cell_type": "code",
      "execution_count": null,
      "metadata": {
        "id": "SsTUF2wrt95J",
        "outputId": "7a55a1d3-5cd4-497f-d6d4-fe88cd5eb52f"
      },
      "outputs": [
        {
          "data": {
            "text/plain": [
              "35041435967256109604545895604823862965984164987008255843432930583427584629094179713832316191166414635495030534728938098817520718040720155101182742495412376173372875432597052547336574831210278239563428280538959014341949578368375932465676827166899516242842200419240550337728220462599931976764993224618392762601853709070606496507159551139886260139762258520391312696091196512642803236893091012085523806297815176350947078618223319835521423130514325380655332442104652865874706457410785642807062338429746092422707507457288115075096473486686239382152819277191439646524524245511914052993494106859517170881364738481431435668628741454868182202415493352907930055658122620991622456265727280852884785593439279543861591463346177392967377399535469858896679019028841692490085245385622083"
            ]
          },
          "execution_count": 88,
          "metadata": {},
          "output_type": "execute_result"
        }
      ],
      "source": [
        "d"
      ]
    },
    {
      "cell_type": "code",
      "execution_count": null,
      "metadata": {
        "id": "VEmw9ruit95J",
        "outputId": "25be96cb-01c7-4f5b-cfbe-265dad3de102"
      },
      "outputs": [
        {
          "data": {
            "text/plain": [
              "931786823805307210494479910027871340128484931169536531132725057143922902872243332770515119839306131572448356948977192985656693413420789644295550305695510494826158130628188224286226861336712508668231121407811459150366781238393484420194812511195025036413416951348025474030531110320994791194157934835827681950345891977896497348621879624360715543376418216315725395901761006467684780872224183102366163533265203354348033767537176297746350162463506426197005944968004824356474319409010201027882594641185378343612215330796748267961890326484473791410825617399797571640733624212407306583150001795501421090906369760959743305864506864026399832944430383747174768110005138614788232734561954125159059333715143882350823578601838203056395532431047679017921591794995929445003856760049076809053"
            ]
          },
          "execution_count": 89,
          "metadata": {},
          "output_type": "execute_result"
        }
      ],
      "source": [
        "e*d"
      ]
    },
    {
      "cell_type": "code",
      "execution_count": null,
      "metadata": {
        "id": "Y3js5T39t95J",
        "outputId": "267cea2a-6e1d-443b-a0a5-6756da98baf1"
      },
      "outputs": [
        {
          "data": {
            "text/plain": [
              "1"
            ]
          },
          "execution_count": 90,
          "metadata": {},
          "output_type": "execute_result"
        }
      ],
      "source": [
        "mod((e*d),phi)"
      ]
    },
    {
      "cell_type": "code",
      "execution_count": null,
      "metadata": {
        "id": "YzPoFqict95J"
      },
      "outputs": [],
      "source": [
        "#it is verified that e*d mod phi==1"
      ]
    },
    {
      "cell_type": "code",
      "execution_count": null,
      "metadata": {
        "id": "qChYVUYqt95J"
      },
      "outputs": [],
      "source": [
        "#let m= x x x x\n",
        "m=11146364111463641114636411146364"
      ]
    },
    {
      "cell_type": "code",
      "execution_count": null,
      "metadata": {
        "id": "JzOqBVp8t95J"
      },
      "outputs": [],
      "source": [
        "#computing RSA ciphertest c=m^e mod n"
      ]
    },
    {
      "cell_type": "code",
      "execution_count": null,
      "metadata": {
        "id": "UcXpUuGpt95J"
      },
      "outputs": [],
      "source": [
        "m=11146364111463641114636411146364"
      ]
    },
    {
      "cell_type": "code",
      "execution_count": null,
      "metadata": {
        "id": "O_DWsRsJt95J"
      },
      "outputs": [],
      "source": [
        "c=power_mod(m,e,n)"
      ]
    },
    {
      "cell_type": "code",
      "execution_count": null,
      "metadata": {
        "id": "gRYC8Eint95J",
        "outputId": "82621381-4132-4e99-b690-43a51c511066"
      },
      "outputs": [
        {
          "data": {
            "text/plain": [
              "59919198781303581090187014556623141388901383917438772896770543994547333980222929743508027675129808523196472222880910487229008862213214156077604906179896277083869757079292488167605644223475399931043163999252620191563361808191027730400186150197257016511849144828253007682098287206284260460243116540685492464196767562638194296218902891028661092299409602051325968650235413816792817453098501439855036658546611040656818833372113803252882719885345662336525295156571481891145550211654516146637876781313598133418665060458985263952307686446039107269689410814056310666497379176025175167733281116415037686962443859880505126747689878685521132796612235366800301168356490256581911877090653547972268248223836099337864066713405158905308268577764035238011883711929492297494200220388935481"
            ]
          },
          "execution_count": 96,
          "metadata": {},
          "output_type": "execute_result"
        }
      ],
      "source": [
        "c"
      ]
    },
    {
      "cell_type": "code",
      "execution_count": null,
      "metadata": {
        "id": "qMTjDabAt95J"
      },
      "outputs": [],
      "source": [
        "# decrypting ciphertext by computing c^d mod n"
      ]
    },
    {
      "cell_type": "code",
      "execution_count": null,
      "metadata": {
        "id": "DvMkVaHjt95J"
      },
      "outputs": [],
      "source": [
        "dycrpt=power_mod(c,d,n)"
      ]
    },
    {
      "cell_type": "code",
      "execution_count": null,
      "metadata": {
        "id": "rd2Ls82Qt95J",
        "outputId": "de5cf0d0-741e-4927-e588-4c4bb3d2da60"
      },
      "outputs": [
        {
          "data": {
            "text/plain": [
              "11146364111463641114636411146364"
            ]
          },
          "execution_count": 99,
          "metadata": {},
          "output_type": "execute_result"
        }
      ],
      "source": [
        "dycrpt"
      ]
    },
    {
      "cell_type": "code",
      "execution_count": null,
      "metadata": {
        "id": "gyGNVhC7t95J",
        "outputId": "ec031264-61b2-4115-9ef0-046f5a6c8249"
      },
      "outputs": [
        {
          "data": {
            "text/plain": [
              "11146364111463641114636411146364"
            ]
          },
          "execution_count": 100,
          "metadata": {},
          "output_type": "execute_result"
        }
      ],
      "source": [
        "m"
      ]
    },
    {
      "cell_type": "code",
      "execution_count": null,
      "metadata": {
        "id": "5TQVOEM2t95K"
      },
      "outputs": [],
      "source": [
        "#so by comparing with plaintext ,it is evaluated that dycrpt=c^d mod n eqauls m"
      ]
    },
    {
      "cell_type": "code",
      "execution_count": null,
      "metadata": {
        "id": "6UnVXXJpt95K"
      },
      "outputs": [],
      "source": [
        "#again using ZZ(d) to transform the residue class d into an integer"
      ]
    },
    {
      "cell_type": "code",
      "execution_count": null,
      "metadata": {
        "id": "-CtjuN32t95K"
      },
      "outputs": [],
      "source": [
        "d1=ZZ(d)"
      ]
    },
    {
      "cell_type": "code",
      "execution_count": null,
      "metadata": {
        "id": "sDoDNfWot95K",
        "outputId": "79570484-cf3c-4252-e258-e52eeef0533e"
      },
      "outputs": [
        {
          "data": {
            "text/plain": [
              "35041435967256109604545895604823862965984164987008255843432930583427584629094179713832316191166414635495030534728938098817520718040720155101182742495412376173372875432597052547336574831210278239563428280538959014341949578368375932465676827166899516242842200419240550337728220462599931976764993224618392762601853709070606496507159551139886260139762258520391312696091196512642803236893091012085523806297815176350947078618223319835521423130514325380655332442104652865874706457410785642807062338429746092422707507457288115075096473486686239382152819277191439646524524245511914052993494106859517170881364738481431435668628741454868182202415493352907930055658122620991622456265727280852884785593439279543861591463346177392967377399535469858896679019028841692490085245385622083"
            ]
          },
          "execution_count": 104,
          "metadata": {},
          "output_type": "execute_result"
        }
      ],
      "source": [
        "d1"
      ]
    },
    {
      "cell_type": "code",
      "execution_count": null,
      "metadata": {
        "id": "P18J2KYMt95K"
      },
      "outputs": [],
      "source": [
        "dycrpt=power_mod(c,d1,n)"
      ]
    },
    {
      "cell_type": "code",
      "execution_count": null,
      "metadata": {
        "id": "U1DnI1Xvt95K",
        "outputId": "24572bc2-6e4b-4094-9985-9a24c67e21ad"
      },
      "outputs": [
        {
          "data": {
            "text/plain": [
              "11146364111463641114636411146364"
            ]
          },
          "execution_count": 106,
          "metadata": {},
          "output_type": "execute_result"
        }
      ],
      "source": [
        "dycrpt"
      ]
    },
    {
      "cell_type": "code",
      "execution_count": null,
      "metadata": {
        "id": "AgX4bWI4t95K",
        "outputId": "b96020a8-05df-4e00-f53c-f7606cce9c5c"
      },
      "outputs": [
        {
          "data": {
            "text/plain": [
              "11146364111463641114636411146364"
            ]
          },
          "execution_count": 107,
          "metadata": {},
          "output_type": "execute_result"
        }
      ],
      "source": [
        "m"
      ]
    },
    {
      "cell_type": "code",
      "execution_count": null,
      "metadata": {
        "id": "rZWUzO4mt95K"
      },
      "outputs": [],
      "source": [
        "#same result as before"
      ]
    },
    {
      "cell_type": "code",
      "execution_count": null,
      "metadata": {
        "id": "CytHu4Zrt95K"
      },
      "outputs": [],
      "source": [
        "##########################################################"
      ]
    },
    {
      "cell_type": "code",
      "execution_count": null,
      "metadata": {
        "id": "IOMwcDkSt95K"
      },
      "outputs": [],
      "source": [
        "#Problem-5"
      ]
    },
    {
      "cell_type": "code",
      "execution_count": null,
      "metadata": {
        "id": "bIshcstPt95K"
      },
      "outputs": [],
      "source": [
        "#Conducting a Diffie-Hellman key exchange between Alice and Bob. They use the Diffie-Hellman group ffdhe2048 from https://tools.ietf.org/html/rfc7919."
      ]
    },
    {
      "cell_type": "code",
      "execution_count": null,
      "metadata": {
        "id": "85df1tIBt95K"
      },
      "outputs": [],
      "source": [
        "#setting p = 2^2048 − 2^1984 + ([2^1918 · e] + 560316) · 2^64 − 1"
      ]
    },
    {
      "cell_type": "code",
      "execution_count": null,
      "metadata": {
        "id": "h9KPdV7Bt95K"
      },
      "outputs": [],
      "source": [
        "e=exp(1)"
      ]
    },
    {
      "cell_type": "code",
      "execution_count": null,
      "metadata": {
        "id": "SA4i0fZ2t95K",
        "outputId": "8f1edb4a-74bf-47f5-a582-89060bef6af8"
      },
      "outputs": [
        {
          "data": {
            "text/plain": [
              "e"
            ]
          },
          "execution_count": 114,
          "metadata": {},
          "output_type": "execute_result"
        }
      ],
      "source": [
        "e"
      ]
    },
    {
      "cell_type": "code",
      "execution_count": null,
      "metadata": {
        "id": "chlWyG6qt95L"
      },
      "outputs": [],
      "source": [
        "e=2.71828183"
      ]
    },
    {
      "cell_type": "code",
      "execution_count": null,
      "metadata": {
        "id": "WkNHw4MSt95L"
      },
      "outputs": [],
      "source": [
        "e=floor(e)"
      ]
    },
    {
      "cell_type": "code",
      "execution_count": null,
      "metadata": {
        "id": "Av9fDBlst95L",
        "outputId": "d36942ae-f96e-4f4c-c571-a6395ef78b49"
      },
      "outputs": [
        {
          "data": {
            "text/plain": [
              "2"
            ]
          },
          "execution_count": 117,
          "metadata": {},
          "output_type": "execute_result"
        }
      ],
      "source": [
        "e"
      ]
    },
    {
      "cell_type": "code",
      "execution_count": null,
      "metadata": {
        "id": "wjjV5rQ3t95L",
        "outputId": "ef88d835-09e0-4863-f2a1-a61b89fefd7d"
      },
      "outputs": [
        {
          "name": "stdout",
          "output_type": "stream",
          "text": [
            "0xffffffffffffffff800000000000000000000000000000000000000000000000000000000000000000000000000000000000000000000000000000000000000000000000000000000000000000000000000000000000000000000000000000000000000000000000000000000000000000000000000000000000000000000000000000000000000000000000000000000000000000000000000000000000000000000000000000000000000000000000000000000000000000000000000000000000000000000000000000000000000000000000000000000000000000000000000000000000000000000000000000000000000000088cbbffffffffffffffff\n"
          ]
        }
      ],
      "source": [
        "#from above formula\n",
        "f=2^2048\n",
        "j=2^1984\n",
        "s=2^1918\n",
        "u=s*2\n",
        "y=u+560316\n",
        "o=y*2^64\n",
        "p=f-j+o-1\n",
        "p=floor(p)\n",
        "print(hex(p))"
      ]
    },
    {
      "cell_type": "code",
      "execution_count": null,
      "metadata": {
        "id": "ysjO1Fsot95L"
      },
      "outputs": [],
      "source": [
        "#the registry value of RFC 7919 is 256 and also calculated from above Deffie Hellman formula"
      ]
    },
    {
      "cell_type": "code",
      "execution_count": null,
      "metadata": {
        "id": "PtfJcKLkt95L"
      },
      "outputs": [],
      "source": [
        "#Setting g=2"
      ]
    },
    {
      "cell_type": "code",
      "execution_count": null,
      "metadata": {
        "id": "wYTzPX1nt95L"
      },
      "outputs": [],
      "source": [
        "g=2"
      ]
    },
    {
      "cell_type": "code",
      "execution_count": null,
      "metadata": {
        "id": "XlkZudept95L",
        "outputId": "081eafc5-5735-4769-8ce1-88d436a896cd"
      },
      "outputs": [
        {
          "data": {
            "text/plain": [
              "2"
            ]
          },
          "execution_count": 125,
          "metadata": {},
          "output_type": "execute_result"
        }
      ],
      "source": [
        "g"
      ]
    },
    {
      "cell_type": "code",
      "execution_count": null,
      "metadata": {
        "id": "yRZjJOi7t95L",
        "outputId": "f0980957-5db1-41cd-9660-21eedc274e4c"
      },
      "outputs": [
        {
          "data": {
            "text/plain": [
              "32317006071311007299838922483901386191833847847039640233285193372098099352370665904774223001647142655387433562792239305261906756538958738192983111675340605408056161671983420114126220172071534736185333920517245936872457753691573871115591638469591981902868350670453157200702326589186921530585208728426731047375428705475465975161894623613282262780970834506945630080379023489985712146102727390028233994687325605405743500848915298222196461975917507569302348414626008916624915529728046681278540297347737658620129577452966340095420597292891221786345188355938448150142332025998089947239957083335002491393804523293516081659902"
            ]
          },
          "execution_count": 126,
          "metadata": {},
          "output_type": "execute_result"
        }
      ],
      "source": [
        "p-1"
      ]
    },
    {
      "cell_type": "code",
      "execution_count": null,
      "metadata": {
        "id": "a_KNX1-kt95L"
      },
      "outputs": [],
      "source": [
        "a=ZZ.random_element(p-1)"
      ]
    },
    {
      "cell_type": "code",
      "execution_count": null,
      "metadata": {
        "id": "G59Ucy0it95L",
        "outputId": "8bd79fbc-d6fb-4915-a8a1-0139b384587e"
      },
      "outputs": [
        {
          "data": {
            "text/plain": [
              "7943110374024162066368445124363669154319507711509983163961239790789617121880723325910257458354679032449039777765788214381607192955706115880254077333845169424573877608440676736019933905728486642119819159129615204933522743060101681933163895415922141564203471565897229841503446909401354896227352496092074469431528231529751306429447855639263410374075812457148457163522606744169200760127421749135134732751440010731746435476658142931302062481694432455058163021323349441490465717147714222708765847178659473080292210683451883717159650295896596082878548903180062987337268451836851839864560388402246473903755456144353949815081"
            ]
          },
          "execution_count": 128,
          "metadata": {},
          "output_type": "execute_result"
        }
      ],
      "source": [
        "a"
      ]
    },
    {
      "cell_type": "code",
      "execution_count": null,
      "metadata": {
        "id": "wTHU1c1Yt95L"
      },
      "outputs": [],
      "source": [
        "b=ZZ.random_element(p-1)"
      ]
    },
    {
      "cell_type": "code",
      "execution_count": null,
      "metadata": {
        "id": "drTxW_pUt95L",
        "outputId": "333ab7f2-737e-441a-830a-ac31c0ef383f"
      },
      "outputs": [
        {
          "data": {
            "text/plain": [
              "18351183936003964402075556451459199931937428896169519122747997919897314351225396585378042140574739602250530137608748258826949888067043681405199470170567572335544504556746794202409822894484780436054798779330370814225718868609051982108096299974497388930628933355046436477937205978039379802758133812333742164567957080572963338225296353468597032634202623069049422080491934607669482667572801849008133292962095926772070340181348873333545302803465167761452481333112004906321877893835648140980923134448738687455517400776318980570214754992656967867907189835585442108557673831928643707827005659359242953330517478362934138359527"
            ]
          },
          "execution_count": 130,
          "metadata": {},
          "output_type": "execute_result"
        }
      ],
      "source": [
        "b"
      ]
    },
    {
      "cell_type": "code",
      "execution_count": null,
      "metadata": {
        "id": "VoOLxQumt95L"
      },
      "outputs": [],
      "source": [
        "#COMPUTING THEIR PUBLIC KEYS A=g^a mod p and B=g^b mod p"
      ]
    },
    {
      "cell_type": "code",
      "execution_count": null,
      "metadata": {
        "id": "rlrMBR-Gt95L"
      },
      "outputs": [],
      "source": [
        "A=power_mod(g,a,p)"
      ]
    },
    {
      "cell_type": "code",
      "execution_count": null,
      "metadata": {
        "id": "L8xqVYy5t95L",
        "outputId": "b68b9e7b-3851-4645-892c-d822f3517a63"
      },
      "outputs": [
        {
          "data": {
            "text/plain": [
              "31766186609833019085380898095096607531850369699136629502683597450276033846648128111525895874963569511307838759424509772066399251139660034343991992607529390053346154882781319029103165052797371582921571086453892260836564044610592362923028153216176060253215286318440974901737565906542398792144241994145593817462411891143045346088196901493506025110632325094082337642055818447587551221917701030214221377022028479755422714051215093256733883936740551603235602128774922298041940978024250153665572360952094598945376398345054723850846141788371522385803387734148596055969299777428756059999030971028674522188875041601452757958762"
            ]
          },
          "execution_count": 133,
          "metadata": {},
          "output_type": "execute_result"
        }
      ],
      "source": [
        "A"
      ]
    },
    {
      "cell_type": "code",
      "execution_count": null,
      "metadata": {
        "id": "VDbIMG7Tt95M"
      },
      "outputs": [],
      "source": [
        "B=power_mod(g,b,p)"
      ]
    },
    {
      "cell_type": "code",
      "execution_count": null,
      "metadata": {
        "id": "vhHmM4hnt95M",
        "outputId": "912ec8b6-5e04-4107-bdbb-280fd6f5e885"
      },
      "outputs": [
        {
          "data": {
            "text/plain": [
              "14046195538147369160267144285648646708376331848057683875933632022035401485119593584018504254313460278559762013513122038596606703313247951147105217310900650065534846736511954284406926380031569726154675171215461897894238222617192074782695657387525664183880264527559474505398955017688265353140522265833126257341243754559081490988409310096181615464817111103448229070469306955056614086098514712648436602433028568543961036972198992982378224726697532284886046404775771251026264685449706137117922752203166130097937371912893162644885663148022665021811890271974466333719855030504607558052817997934297818007492772589119683524232"
            ]
          },
          "execution_count": 135,
          "metadata": {},
          "output_type": "execute_result"
        }
      ],
      "source": [
        "B"
      ]
    },
    {
      "cell_type": "code",
      "execution_count": null,
      "metadata": {
        "id": "xbxUM4hqt95M"
      },
      "outputs": [],
      "source": [
        "#Bob computes A^b mod p and Alice computes B^a mod p"
      ]
    },
    {
      "cell_type": "code",
      "execution_count": null,
      "metadata": {
        "id": "n_FisNczt95M"
      },
      "outputs": [],
      "source": [
        "Bob=power_mod(A,b,p)"
      ]
    },
    {
      "cell_type": "code",
      "execution_count": null,
      "metadata": {
        "id": "7kGfBv_Ct95M",
        "outputId": "c75d6eea-9d1c-4461-be88-a9488824a2d5"
      },
      "outputs": [
        {
          "data": {
            "text/plain": [
              "25522117332491832462318661862695311292091842548517241609319384366788432479295376093633819761778849196803843918362442000981399287827315548442438321808599202911616858015405827545337127619383268890276869076692676357906680440784084448114328521130800465788596351938705178766415808250840017870677997319335928551727337354191197209770938623435794432748501320683595381114299451690500649118966514650467015718887917262619342672429122809596512459700683198582388905484682591177782231737402720654219843184760731045907835205437699313774612919684845216313382838511642516941587603778900184284951381708083476628418560060688533076748787"
            ]
          },
          "execution_count": 138,
          "metadata": {},
          "output_type": "execute_result"
        }
      ],
      "source": [
        "Bob"
      ]
    },
    {
      "cell_type": "code",
      "execution_count": null,
      "metadata": {
        "id": "SG8QEfOAt95M"
      },
      "outputs": [],
      "source": [
        "Alice=power_mod(B,a,p)"
      ]
    },
    {
      "cell_type": "code",
      "execution_count": null,
      "metadata": {
        "id": "dhru5dh3t95M",
        "outputId": "4e7e330d-280c-4544-bc56-a3b307383a31"
      },
      "outputs": [
        {
          "data": {
            "text/plain": [
              "25522117332491832462318661862695311292091842548517241609319384366788432479295376093633819761778849196803843918362442000981399287827315548442438321808599202911616858015405827545337127619383268890276869076692676357906680440784084448114328521130800465788596351938705178766415808250840017870677997319335928551727337354191197209770938623435794432748501320683595381114299451690500649118966514650467015718887917262619342672429122809596512459700683198582388905484682591177782231737402720654219843184760731045907835205437699313774612919684845216313382838511642516941587603778900184284951381708083476628418560060688533076748787"
            ]
          },
          "execution_count": 140,
          "metadata": {},
          "output_type": "execute_result"
        }
      ],
      "source": [
        "Alice"
      ]
    },
    {
      "cell_type": "code",
      "execution_count": null,
      "metadata": {
        "id": "77GbZH0kt95M"
      },
      "outputs": [],
      "source": [
        "#the above same computed result of Bob and Alice is their shared secret\n",
        "#here Alice sends Bob A and Bob sends Alice B\n",
        "#BOTH the transmissions are insecure with public knowledge\n",
        "#but a and b are not transmitted and remains secret\n",
        "#so that is why Alice and Bob computes A^b mod p== B^a mod p as shared secret"
      ]
    },
    {
      "cell_type": "code",
      "execution_count": null,
      "metadata": {
        "id": "BDCkMKZzt95M"
      },
      "outputs": [],
      "source": [
        "##############################################################################################"
      ]
    },
    {
      "cell_type": "code",
      "execution_count": null,
      "metadata": {
        "id": "ZpDdyjXot95M"
      },
      "outputs": [],
      "source": [
        "#Problem-6"
      ]
    },
    {
      "cell_type": "code",
      "execution_count": null,
      "metadata": {
        "id": "j8u9X2u5t95M"
      },
      "outputs": [],
      "source": [
        "#Writing a SageMath function which generates , X/128, random integers less than 2^1024,\n",
        "#checks their primality and counts the number of primes.\n",
        "#What happens if you run it several times?\n",
        "#Then compute the approximate prime density and the expected number of primes using the Prime Number Theorem.\n",
        "#Compare the number of primes with your experimental result."
      ]
    },
    {
      "cell_type": "code",
      "execution_count": null,
      "metadata": {
        "id": "LmPhs5DHt95M",
        "outputId": "14c16d04-a971-4e5b-d684-88f2dc1ac669"
      },
      "outputs": [
        {
          "data": {
            "text/plain": [
              "2786591/32"
            ]
          },
          "execution_count": 145,
          "metadata": {},
          "output_type": "execute_result"
        }
      ],
      "source": [
        "t=ZZ.random_element(2^1024)\n",
        "i=11146364/128\n",
        "i"
      ]
    },
    {
      "cell_type": "code",
      "execution_count": null,
      "metadata": {
        "id": "qzyfx_Jwt95M",
        "outputId": "a9ea151a-bc8e-4f14-a2dc-76420c193786"
      },
      "outputs": [
        {
          "name": "stdout",
          "output_type": "stream",
          "text": [
            "166850486725730927799753225093494999776370054055613072181198682629509441690072750665111420170416994151875712108694034005754855173718003868620055048296470119709686836365372516343822062582408381885899338582089363219033816024739524787988433086348455936984505723411952709371406317293166078434691916822261703360796 denotes not a prime number\n"
          ]
        }
      ],
      "source": [
        "# let set the value of flag initially as false\n",
        "flag = False\n",
        "\n",
        "if 1 < t:\n",
        "    #taking prime numbers greater than 1\n",
        "    for i in range(2, t):\n",
        "        if (t % i) == 0:\n",
        "            flag = True\n",
        "            #divisible means it is not a prime number\n",
        "            break\n",
        "if flag:\n",
        "    print(t, \"denotes not a prime number\")\n",
        "else:\n",
        "    print(t, \"denotes prime number\")"
      ]
    },
    {
      "cell_type": "code",
      "execution_count": null,
      "metadata": {
        "id": "rb0IMpn0t95M",
        "outputId": "5c481f2b-578d-4e3c-eaa5-86f2e7560eed"
      },
      "outputs": [
        {
          "data": {
            "text/plain": [
              "False"
            ]
          },
          "execution_count": 154,
          "metadata": {},
          "output_type": "execute_result"
        }
      ],
      "source": [
        "is_pseudoprime(t)"
      ]
    },
    {
      "cell_type": "code",
      "execution_count": null,
      "metadata": {
        "id": "ovVM6JEbt95M"
      },
      "outputs": [],
      "source": [
        "#What happens if you run it several times?"
      ]
    },
    {
      "cell_type": "code",
      "execution_count": null,
      "metadata": {
        "id": "qoeU18UFt95M",
        "outputId": "8153cb64-3819-4b4e-ee9d-ba5afbb6c4e9"
      },
      "outputs": [
        {
          "name": "stdout",
          "output_type": "stream",
          "text": [
            "134786609982383561854768922378126183062926084256792387452578532616774180424924694633277688462202452581542871809746171590926892708856384472750427254918812585121546635095522263342085932644428769067728786657946630792226328396780982395044300855961112666829638332863088936852242775507507234773609940563981909984122 denotes not a prime number\n"
          ]
        }
      ],
      "source": [
        "t=ZZ.random_element(2^1024)\n",
        "i=11146364/128\n",
        "i\n",
        "\n",
        "# let set the value of flag initially as false\n",
        "flag = False\n",
        "\n",
        "if 1 < t:\n",
        "    #taking prime numbers greater than 1\n",
        "    for i in range(2, t):\n",
        "        if (t % i) == 0:\n",
        "            flag = True\n",
        "            #divisible means it is not a prime number\n",
        "            break\n",
        "if flag:\n",
        "    print(t, \"denotes not a prime number\")\n",
        "else:\n",
        "    print(t, \"denotes prime number\")"
      ]
    },
    {
      "cell_type": "code",
      "execution_count": null,
      "metadata": {
        "id": "hK5RzQpDt95N",
        "outputId": "3baf202c-b803-4c9e-915e-8668313714de"
      },
      "outputs": [
        {
          "name": "stdout",
          "output_type": "stream",
          "text": [
            "153165160717608877341175668723021002041377326728065381462424638515791375191566029811413690312719923081883343972884924944298666894949456490912679610016543383177223828893438902533412905959566523577240028334668516863170536273553430522851030204909314708347147229554670840510405110330885959027288507146955603127719 denotes not a prime number\n",
            "15\n"
          ]
        }
      ],
      "source": [
        "t=ZZ.random_element(2^1024)\n",
        "i=11146364/128\n",
        "i\n",
        "\n",
        "# let set the value of flag initially as false\n",
        "flag = False\n",
        "prime=0\n",
        "\n",
        "if 1 < t:\n",
        "    #taking prime numbers greater than 1\n",
        "    for i in range(2, t):\n",
        "        if (t % i) == 0:\n",
        "            flag = True\n",
        "            #divisible means it is not a prime number\n",
        "            break\n",
        "        prime=prime+1\n",
        "if flag:\n",
        "    print(t, \"denotes not a prime number\")\n",
        "else:\n",
        "    print(t, \"denotes prime number\")\n",
        "\n",
        "print(prime)"
      ]
    },
    {
      "cell_type": "code",
      "execution_count": null,
      "metadata": {
        "id": "zgu97rTut95N"
      },
      "outputs": [],
      "source": [
        "#it is seen that different values are observed for further running the same code"
      ]
    },
    {
      "cell_type": "code",
      "execution_count": null,
      "metadata": {
        "id": "ItiCCMBHt95N"
      },
      "outputs": [],
      "source": [
        "#it is also seen that from random 161 cell that prime numbers are found as 15.\n",
        "#or prime_density=15\n"
      ]
    },
    {
      "cell_type": "code",
      "execution_count": null,
      "metadata": {
        "id": "YJ_5U4wgt95N"
      },
      "outputs": [],
      "source": [
        "#now will compute expected number of primes using prime number theory"
      ]
    },
    {
      "cell_type": "code",
      "execution_count": null,
      "metadata": {
        "id": "aWTtbW3Wt95N",
        "outputId": "8a588253-74b9-4c83-ad4d-4162248a9d15"
      },
      "outputs": [
        {
          "name": "stdout",
          "output_type": "stream",
          "text": [
            "Enter range of numbers:  15\n",
            "chosen numbers:  [7387869389345041085, 5688551157771003804, 3633293089237404719, 4983750923134946939, 2587468955880500640, 1757410590996784056, 8950943551129341418, 1823891404323142464, 734054749492477053, 6389751773311048403, 6065074612615783864, 6615231078871821919, 2339353485578682980, 6219609578101241878, 1462452828070043324]\n",
            "The number of the prime numbers:  0\n"
          ]
        }
      ],
      "source": [
        "i=11146364/128\n",
        "\n",
        "\n",
        "import random\n",
        "import sys\n",
        "from math       import sqrt\n",
        "from itertools  import count, islice\n",
        "\n",
        "\n",
        "def is_prime(t):\n",
        "    return t > 1 and all(t % i for i in islice(count(2), int(sqrt(t)-1)))\n",
        "\n",
        "#islice is an argument\n",
        "#islice(count(2),sqrt(t)-1) means numbers starting from 2\n",
        "#when checking for prime numbers, it  measures from 2 to its square root with having a less value than sqrt(t)\n",
        "#that is why int(sqrt(t)) is used for additional number\n",
        "#all() will return false remainder of division is 0\n",
        "\n",
        "def main():\n",
        "    N = input('Enter range of numbers:  ')\n",
        "    num = random.sample(range(2, sys.maxsize), int(N))\n",
        "    print('chosen numbers: ',num)\n",
        "\n",
        "    num_prime = 0\n",
        "    for i in num:\n",
        "        if is_prime(i):\n",
        "            num_prime = num_prime+1\n",
        "\n",
        "    print('The number of the prime numbers: ',num_prime)\n",
        "main()"
      ]
    },
    {
      "cell_type": "code",
      "execution_count": null,
      "metadata": {
        "id": "dfb-nVY3t95N"
      },
      "outputs": [],
      "source": [
        "#beforehand t has a big range and in cell 161 i got 15 prime numbers from a huge range\n",
        "#now in last cell the range is smaller than before and the expected prime numbers is found as 0"
      ]
    },
    {
      "cell_type": "code",
      "execution_count": null,
      "metadata": {
        "id": "afN7FvYwt95N"
      },
      "outputs": [],
      "source": []
    }
  ],
  "metadata": {
    "kernelspec": {
      "display_name": "SageMath 9.2",
      "language": "sage",
      "name": "sagemath"
    },
    "language_info": {
      "codemirror_mode": {
        "name": "ipython",
        "version": 3
      },
      "file_extension": ".py",
      "mimetype": "text/x-python",
      "name": "python",
      "nbconvert_exporter": "python",
      "pygments_lexer": "ipython3",
      "version": "3.7.7"
    },
    "colab": {
      "provenance": []
    }
  },
  "nbformat": 4,
  "nbformat_minor": 0
}