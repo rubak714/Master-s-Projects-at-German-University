{
  "cells": [
    {
      "cell_type": "code",
      "execution_count": null,
      "id": "d0759ac7",
      "metadata": {
        "id": "d0759ac7",
        "outputId": "7a768638-2713-4728-ebae-8164a77f4d1a"
      },
      "outputs": [
        {
          "name": "stdout",
          "output_type": "stream",
          "text": [
            "Requirement already satisfied: pycryptodome in c:\\users\\kabir\\anaconda3\\lib\\site-packages (3.10.1)\n"
          ]
        }
      ],
      "source": [
        "!pip install pycryptodome"
      ]
    },
    {
      "cell_type": "code",
      "execution_count": null,
      "id": "0216b0f9",
      "metadata": {
        "id": "0216b0f9"
      },
      "outputs": [],
      "source": [
        "#importing several modules\n",
        "\n",
        "import hashlib\n",
        "import hmac\n",
        "import secrets\n",
        "import random\n",
        "import binascii\n",
        "from Crypto.Util import Counter\n",
        "from Crypto.Cipher import AES\n",
        "from os import urandom\n",
        "from Crypto.Util.Padding import pad,unpad"
      ]
    },
    {
      "cell_type": "code",
      "execution_count": null,
      "id": "d5244816",
      "metadata": {
        "id": "d5244816"
      },
      "outputs": [],
      "source": [
        "#Name: Rubaiya Kabir Pranti\n",
        "#Matriculation Number: 111*****\n",
        "#X=111*****"
      ]
    },
    {
      "cell_type": "code",
      "execution_count": null,
      "id": "c931d815",
      "metadata": {
        "id": "c931d815"
      },
      "outputs": [],
      "source": [
        "X=111*****"
      ]
    },
    {
      "cell_type": "code",
      "execution_count": null,
      "id": "bf73d611",
      "metadata": {
        "id": "bf73d611"
      },
      "outputs": [],
      "source": [
        "#setting number of bytes to 16 bytes\n",
        "N=16"
      ]
    },
    {
      "cell_type": "code",
      "execution_count": null,
      "id": "491a1aee",
      "metadata": {
        "id": "491a1aee"
      },
      "outputs": [],
      "source": [
        "#For Implemention a function AES_ctr_enc(key, data), which encrypts 'data' using a 'key' and returns\n",
        "#the 'counter' and the 'ciphertext'.\n",
        "#key will be evaluated by following given construction"
      ]
    },
    {
      "cell_type": "code",
      "execution_count": null,
      "id": "17e4dc13",
      "metadata": {
        "id": "17e4dc13"
      },
      "outputs": [],
      "source": [
        "key=secrets.token_bytes(N)"
      ]
    },
    {
      "cell_type": "code",
      "execution_count": null,
      "id": "6c081525",
      "metadata": {
        "id": "6c081525",
        "outputId": "ad3aa2ea-2775-43dc-bac5-c3d7cb36bded"
      },
      "outputs": [
        {
          "data": {
            "text/plain": [
              "b'\\xd1c\\xe6<\\x1bD\\xcc\\xde\\xbc\\x06\\xc0\\x1e\\x86-\\xeb\\x9e'"
            ]
          },
          "execution_count": 8,
          "metadata": {},
          "output_type": "execute_result"
        }
      ],
      "source": [
        "key"
      ]
    },
    {
      "cell_type": "code",
      "execution_count": null,
      "id": "ea95a004",
      "metadata": {
        "id": "ea95a004"
      },
      "outputs": [],
      "source": [
        "#Data will be evaluated by following structure:\n",
        "#data='XXXXX'.encode(\"ascii\")"
      ]
    },
    {
      "cell_type": "code",
      "execution_count": null,
      "id": "1ba7553b",
      "metadata": {
        "id": "1ba7553b"
      },
      "outputs": [],
      "source": [
        "data=\"1114636411146364111463641114636411146364\".encode(\"ascii\")"
      ]
    },
    {
      "cell_type": "code",
      "execution_count": null,
      "id": "49fbf40f",
      "metadata": {
        "id": "49fbf40f",
        "outputId": "9a4a2766-2e04-4d08-a069-e7c6aca5af3c"
      },
      "outputs": [
        {
          "data": {
            "text/plain": [
              "b'1114636411146364111463641114636411146364'"
            ]
          },
          "execution_count": 11,
          "metadata": {},
          "output_type": "execute_result"
        }
      ],
      "source": [
        "#data in bytes\n",
        "data"
      ]
    },
    {
      "cell_type": "code",
      "execution_count": null,
      "id": "5be5678f",
      "metadata": {
        "id": "5be5678f",
        "outputId": "bc90225f-24d2-4eea-cc22-d4d26d1b8055"
      },
      "outputs": [
        {
          "data": {
            "text/plain": [
              "'1114636411146364111463641114636411146364'"
            ]
          },
          "execution_count": 12,
          "metadata": {},
          "output_type": "execute_result"
        }
      ],
      "source": [
        "data.decode()"
      ]
    },
    {
      "cell_type": "code",
      "execution_count": null,
      "id": "4990a9a7",
      "metadata": {
        "id": "4990a9a7"
      },
      "outputs": [],
      "source": [
        "#Generation of random integer counter value 'ctr'\n",
        "\n",
        "ctr=random.getrandbits(128)"
      ]
    },
    {
      "cell_type": "code",
      "execution_count": null,
      "id": "6e3ecd2f",
      "metadata": {
        "id": "6e3ecd2f",
        "outputId": "b9890e8e-917b-418e-c230-6d298f43d7ab"
      },
      "outputs": [
        {
          "data": {
            "text/plain": [
              "313978802755063680383977522362792309206"
            ]
          },
          "execution_count": 14,
          "metadata": {},
          "output_type": "execute_result"
        }
      ],
      "source": [
        "ctr"
      ]
    },
    {
      "cell_type": "code",
      "execution_count": null,
      "id": "8baef73c",
      "metadata": {
        "id": "8baef73c"
      },
      "outputs": [],
      "source": [
        "#Initialization of Counter Object 'mycounter'\n",
        "\n",
        "mycounter=Counter.new(128,initial_value=ctr)"
      ]
    },
    {
      "cell_type": "code",
      "execution_count": null,
      "id": "fd80839b",
      "metadata": {
        "id": "fd80839b",
        "outputId": "26e81cef-34cc-4c01-9624-1b1c6e42ccdb"
      },
      "outputs": [
        {
          "data": {
            "text/plain": [
              "{'counter_len': 16,\n",
              " 'prefix': b'',\n",
              " 'suffix': b'',\n",
              " 'initial_value': 313978802755063680383977522362792309206,\n",
              " 'little_endian': False}"
            ]
          },
          "execution_count": 16,
          "metadata": {},
          "output_type": "execute_result"
        }
      ],
      "source": [
        "mycounter"
      ]
    },
    {
      "cell_type": "code",
      "execution_count": null,
      "id": "38931d14",
      "metadata": {
        "id": "38931d14",
        "outputId": "46060585-0d51-465e-e782-91551b83ca2d"
      },
      "outputs": [
        {
          "name": "stdout",
          "output_type": "stream",
          "text": [
            "<Crypto.Cipher._mode_ctr.CtrMode object at 0x000001E30132AA30>\n"
          ]
        }
      ],
      "source": [
        "#Construction of new AES Ciphering object\n",
        "\n",
        "prg = AES.new(key, AES.MODE_CTR, counter=mycounter)\n",
        "print(prg)"
      ]
    },
    {
      "cell_type": "code",
      "execution_count": null,
      "id": "7a58e345",
      "metadata": {
        "id": "7a58e345"
      },
      "outputs": [],
      "source": [
        "# Encrypting the above data with structure: encrypted_data = prg.encrypt(data)\n",
        "encrypted_data = prg.encrypt(data)"
      ]
    },
    {
      "cell_type": "code",
      "execution_count": null,
      "id": "912e5274",
      "metadata": {
        "id": "912e5274",
        "outputId": "21adda9e-12b6-4c65-b52b-9d4ff457a499"
      },
      "outputs": [
        {
          "data": {
            "text/plain": [
              "b'\\x8f(\\x86\\x7f2g\\xd3\\x89\\xb3_\\x00K\\xfd\\xb3\\xb5WY\\x13m\\xe0y\\x1b\\xf77\\x8dcQ\\xf9\\xf8\\xe6)UaW\\x9c@\\xed)\\xf0?'"
            ]
          },
          "execution_count": 19,
          "metadata": {},
          "output_type": "execute_result"
        }
      ],
      "source": [
        "encrypted_data"
      ]
    },
    {
      "cell_type": "code",
      "execution_count": null,
      "id": "7250febb",
      "metadata": {
        "id": "7250febb",
        "outputId": "bd67be44-9db8-4868-91c4-a40dbb13b0cd"
      },
      "outputs": [
        {
          "name": "stdout",
          "output_type": "stream",
          "text": [
            "The encrypted data:  b'\\x8f(\\x86\\x7f2g\\xd3\\x89\\xb3_\\x00K\\xfd\\xb3\\xb5WY\\x13m\\xe0y\\x1b\\xf77\\x8dcQ\\xf9\\xf8\\xe6)UaW\\x9c@\\xed)\\xf0?'\n"
          ]
        }
      ],
      "source": [
        "#or\n",
        "print('The encrypted data: ', encrypted_data)"
      ]
    },
    {
      "cell_type": "code",
      "execution_count": null,
      "id": "40c6ab13",
      "metadata": {
        "id": "40c6ab13"
      },
      "outputs": [],
      "source": [
        "# Decrypting the data without function"
      ]
    },
    {
      "cell_type": "code",
      "execution_count": null,
      "id": "fb87dc93",
      "metadata": {
        "id": "fb87dc93"
      },
      "outputs": [],
      "source": [
        "#creating AES ciphering object as previous"
      ]
    },
    {
      "cell_type": "code",
      "execution_count": null,
      "id": "c6be18e2",
      "metadata": {
        "id": "c6be18e2",
        "outputId": "65a9ffd4-e70d-4494-d4cc-9d385e3b9bd8"
      },
      "outputs": [
        {
          "name": "stdout",
          "output_type": "stream",
          "text": [
            "<Crypto.Cipher._mode_ctr.CtrMode object at 0x000001E301053BE0>\n"
          ]
        }
      ],
      "source": [
        "dec_prg = AES.new(key, AES.MODE_CTR, counter=mycounter)\n",
        "print(dec_prg)"
      ]
    },
    {
      "cell_type": "code",
      "execution_count": null,
      "id": "53fe2598",
      "metadata": {
        "id": "53fe2598"
      },
      "outputs": [],
      "source": [
        "#decrypted data means original plaintext or data\n",
        "decrypted_data = dec_prg.decrypt(encrypted_data)"
      ]
    },
    {
      "cell_type": "code",
      "execution_count": null,
      "id": "edecd64c",
      "metadata": {
        "id": "edecd64c",
        "outputId": "e50ecab3-7d77-4ed1-b7ca-576c348bac62"
      },
      "outputs": [
        {
          "data": {
            "text/plain": [
              "b'1114636411146364111463641114636411146364'"
            ]
          },
          "execution_count": 25,
          "metadata": {},
          "output_type": "execute_result"
        }
      ],
      "source": [
        "decrypted_data"
      ]
    },
    {
      "cell_type": "code",
      "execution_count": null,
      "id": "95a0ec2e",
      "metadata": {
        "id": "95a0ec2e",
        "outputId": "5e5ec162-312a-440d-a337-b1e59f8339f9"
      },
      "outputs": [
        {
          "name": "stdout",
          "output_type": "stream",
          "text": [
            "The decrypted data: 1114636411146364111463641114636411146364\n"
          ]
        }
      ],
      "source": [
        "#so after encryption, using decryption method i get original data in AES CTR mode\n",
        "\n",
        "#or also\n",
        "\n",
        "print('The decrypted data:', decrypted_data.decode('utf-8'))"
      ]
    },
    {
      "cell_type": "code",
      "execution_count": null,
      "id": "a5f80143",
      "metadata": {
        "id": "a5f80143"
      },
      "outputs": [],
      "source": [
        "#as per instruction\n",
        "\n",
        "###Encryption and decryption with 'functions' are as following........"
      ]
    },
    {
      "cell_type": "code",
      "execution_count": null,
      "id": "56b5cde6",
      "metadata": {
        "id": "56b5cde6"
      },
      "outputs": [],
      "source": [
        "#1.a\n",
        "\n",
        "\n",
        "#Implementing the encryption function \"AES_ctr_enc\" by mentioning previous values again as a new starting\n",
        "#the inputs of this function are data and key\n",
        "#the returning outputs will be \"counter\" object and data_enc as encrypted data/ciphertext....\n",
        "\n",
        "###Encryption\n",
        "\n",
        "def AES_ctr_enc(key,data):\n",
        "    return (data_enc,key)\n",
        "\n",
        "N=16  #setting number of bytes to 16 bytes\n",
        "key=secrets.token_bytes(N)   #key and data\n",
        "data=\"1114636411146364111463641114636411146364\".encode(\"ascii\")\n",
        "\n",
        "ctr=random.getrandbits(128)   #Generation of random integer counter value 'ctr'\n",
        "mycounter=Counter.new(128,initial_value=ctr)   #Initialization of Counter Object 'mycounter'\n",
        "\n",
        "prg1 = AES.new(key,AES.MODE_CTR, counter=mycounter)   #creating AES ciphering object prg1 as previous\n",
        "data_enc=prg1.encrypt(data)   #Encrypting the data using prg1 object and 'encrypt' function"
      ]
    },
    {
      "cell_type": "code",
      "execution_count": null,
      "id": "e94626f8",
      "metadata": {
        "id": "e94626f8",
        "outputId": "98987172-1806-4ee8-a767-df410bad8872"
      },
      "outputs": [
        {
          "name": "stdout",
          "output_type": "stream",
          "text": [
            "(b'H\\x17\\xaf\\xc2[\\xbb`T I\\xddwB^\\xb8\\xa3=\\x99\\xfbY\\xa8H\\x9f\\xa6\\xd8\\xea\\x87u\\xad\\x7f\\x85\\x08\\\\\\xbd|.\\x80\\xec\\xe6\\xd6', b'\\xd7M\\x9d\\x18\\xa8\\xc0\\xfe*F\\xc07t\\xf8\\x94\\x86\\xb8')\n",
            "The encrypted data is :  b'H\\x17\\xaf\\xc2[\\xbb`T I\\xddwB^\\xb8\\xa3=\\x99\\xfbY\\xa8H\\x9f\\xa6\\xd8\\xea\\x87u\\xad\\x7f\\x85\\x08\\\\\\xbd|.\\x80\\xec\\xe6\\xd6'\n"
          ]
        }
      ],
      "source": [
        "print (AES_ctr_enc(key,data_enc))\n",
        "print('The encrypted data is : ', data_enc)"
      ]
    },
    {
      "cell_type": "code",
      "execution_count": null,
      "id": "31a24d1b",
      "metadata": {
        "id": "31a24d1b"
      },
      "outputs": [],
      "source": [
        "###1.b\n",
        "###Decryption using function AES_ctr_dec\n",
        "#the \"AES_ctr_dec\" function is having ....data_enc=ciphertext/encrypted data and counter object....\n",
        "\n",
        "\n",
        "def AES_ctr_dec(data_enc,counter):\n",
        "    return (data_dec,counter)\n",
        "prg2 = AES.new(key,AES.MODE_CTR, counter=mycounter)   #creating AES ciphering object prg2 as previous\n",
        "data_dec=prg2.decrypt(data_enc)   # Decrypting the data using prg2 object and decrypt function"
      ]
    },
    {
      "cell_type": "code",
      "execution_count": null,
      "id": "6b0aedb2",
      "metadata": {
        "id": "6b0aedb2",
        "outputId": "be31be4a-709d-49f9-a324-41d58c6330fb"
      },
      "outputs": [
        {
          "name": "stdout",
          "output_type": "stream",
          "text": [
            "(b'1114636411146364111463641114636411146364', b'\\xd7M\\x9d\\x18\\xa8\\xc0\\xfe*F\\xc07t\\xf8\\x94\\x86\\xb8')\n",
            "The decrypted data is in bytes: b'1114636411146364111463641114636411146364'\n",
            "The decrypted data is: 1114636411146364111463641114636411146364\n"
          ]
        }
      ],
      "source": [
        "print (AES_ctr_dec(data_dec,key))\n",
        "print('The decrypted data is in bytes:', data_dec)\n",
        "print('The decrypted data is:', data_dec.decode())"
      ]
    },
    {
      "cell_type": "code",
      "execution_count": null,
      "id": "f56f5bb4",
      "metadata": {
        "id": "f56f5bb4"
      },
      "outputs": [],
      "source": [
        "############################################################################################################"
      ]
    },
    {
      "cell_type": "code",
      "execution_count": null,
      "id": "5834e68d",
      "metadata": {
        "id": "5834e68d"
      },
      "outputs": [],
      "source": [
        "#1.c\n",
        "\n",
        "#I have created ...key=secrets.token_bytes(N) where N=16 bytes or 128 bits\n",
        "\n",
        "#AES supports byte length of 16 bytes,24 bytes and 32 bytes\n",
        "\n",
        "#plaintext or data is made of my matriculation number as : data= \"1114636411146364111463641114636411146364\".encode(\"ascii\")\n",
        "\n",
        "#encryption is finished in 1.a"
      ]
    },
    {
      "cell_type": "code",
      "execution_count": null,
      "id": "6c13e469",
      "metadata": {
        "id": "6c13e469"
      },
      "outputs": [],
      "source": [
        "#decryption is done in 1.b\n",
        "\n",
        "#Decryption result: the decryption input was the ciphertext=data_enc and after decryption I will get the plaintext=data again\n",
        "#so the decryption was of no error"
      ]
    },
    {
      "cell_type": "code",
      "execution_count": null,
      "id": "6d651c56",
      "metadata": {
        "id": "6d651c56",
        "outputId": "bffa2241-0a85-464c-dbe8-31d5b749e1f3"
      },
      "outputs": [
        {
          "data": {
            "text/plain": [
              "40"
            ]
          },
          "execution_count": 38,
          "metadata": {},
          "output_type": "execute_result"
        }
      ],
      "source": [
        "#length of plaintext\n",
        "len(data)"
      ]
    },
    {
      "cell_type": "code",
      "execution_count": null,
      "id": "b6a9ed79",
      "metadata": {
        "id": "b6a9ed79",
        "outputId": "57f18d2c-ab39-4951-c45f-0bf7bf737c41"
      },
      "outputs": [
        {
          "data": {
            "text/plain": [
              "40"
            ]
          },
          "execution_count": 39,
          "metadata": {},
          "output_type": "execute_result"
        }
      ],
      "source": [
        "#length of ciphertext\n",
        "len(data_enc)"
      ]
    },
    {
      "cell_type": "code",
      "execution_count": null,
      "id": "855b6694",
      "metadata": {
        "id": "855b6694"
      },
      "outputs": [],
      "source": [
        "#"
      ]
    },
    {
      "cell_type": "code",
      "execution_count": null,
      "id": "8703b825",
      "metadata": {
        "id": "8703b825"
      },
      "outputs": [],
      "source": [
        "########################################################################################################"
      ]
    },
    {
      "cell_type": "code",
      "execution_count": null,
      "id": "b0ea609a",
      "metadata": {
        "id": "b0ea609a"
      },
      "outputs": [],
      "source": [
        "#Problem:2"
      ]
    },
    {
      "cell_type": "code",
      "execution_count": null,
      "id": "a5afb7fe",
      "metadata": {
        "id": "a5afb7fe"
      },
      "outputs": [],
      "source": [
        "#writing a function AES_keystream(key,N) which derives a key called keystream and encrypts N\n",
        "#zero bytes using keystream. SHA-256 HMAC is used as key derivation function. It takes key and the\n",
        "#fixed string ’broadcast key’ as input and outputs keystream.\n",
        "#assuming that the BROADCAST_KEY structure is used as a demo\n",
        "#N1=all zero plaintext: is used instead of BROADCAST_KEY as per question\n",
        "\n",
        "#importing several modules again for opening file again\n",
        "import hashlib\n",
        "import hmac\n",
        "import secrets\n",
        "import random\n",
        "import binascii\n",
        "from Crypto.Util import Counter\n",
        "from Crypto.Cipher import AES\n",
        "from os import urandom\n",
        "from Crypto.Util.Padding import pad,unpad\n",
        "\n",
        "def AES_keystream(key,N1):\n",
        "    return (keystream,encrypted)\n",
        "\n",
        "N=1536   #Data=input=plaintext is N\n",
        "N1=bytes(N)    #Making N1 bytes of input data to all zero bytes by using 'bytes' function\n",
        "key=urandom(16)    #Generating random key using urandom function\n",
        "keystream=hmac.new(key, N1, hashlib.sha256).digest()  #keystream structure:hmac.new(key, BROADCAST_KEY, hashlib.sha256).digest()\n",
        "\n",
        "ctr=0     #setting initial counter=0\n",
        "mycounter=Counter.new(128,initial_value=ctr)  #creating mycounter object\n",
        "prg3 = AES.new(keystream,AES.MODE_CTR, counter=mycounter)    #creating AES ciphering object prg\n",
        "encrypted=prg3.encrypt(N1)  #encrypting N1 zero bytes by using encryption formula as encrypted=prg3.encrypt(BROADCAST_KEY)"
      ]
    },
    {
      "cell_type": "code",
      "execution_count": null,
      "id": "c2759f4e",
      "metadata": {
        "id": "c2759f4e",
        "outputId": "4f709cda-9484-415c-f55e-8f41ea7e3558"
      },
      "outputs": [
        {
          "name": "stdout",
          "output_type": "stream",
          "text": [
            "The encrypted data or ciphertext b'(!\\xa9\\x83O\\x8cw\\xe2\\xec\\x93\\xd5\\xaer\\xe7\\xa3v\\x85L\\xf8\\x95\\xff\\xe5$\\x19\\x8a\\x1b\\xbeh&6\\xbc\\xe2\\xe6\\xc1\\xe5\\xd0C\\xaa\\x9c8\\x80\\xf1\\x1a\\xf5|\\x95\\xa1\\x01G\\xb5b\"\\xfcL\\x85\\xab\\xd6\\xf0\\x0e\\x07\\xcdY(\\x13D~\\x0c\\xc6\\xf4p\\x94F]\\xf5\\t\\x8dL{\\xb6@\\xdd\\x8f\\xc0\\x13\\x85~,#\\x91\\xd7,\\x9cO|\\xd2\\x8ahX9M\\x98v\\x9b!b\\xac\\x1d\\xba\\xf3\\xcf\\x1eHQRXO\\xbdEJ\\xd7\\xd1\\xf3N:\\x10\\xe48\\x1bo\\\\\\x90\\xd6M\\x06-\\xce/\\xd5\\xc8\\x13\\x00\\x16\\x8b\\xea\\xadN\\x8eV\\xa61\\x98\\xcb\\x05+ \\xefh\\xed\\xac\\xe5\\x0edW\\x92\\xad\\xde\\xfb\\xc4\\x11\\xf7\\x85>D\\x18\\xa1\\xf1V.IU\\xea)\\x94\\x88\\xbb\\x8aL\\x11S*k\\x97)O\\xf2pF+a\\\\\\xees\\xe0$\\x17\\x02\\x83\\x88\\x10\\xc0\\x90a%n}\\x82<\"\\x1f\\xba\\xea\\xc9c\\xbd\"#D)\\xaa\\x18F\\xec\\xda\\xa9D\\xd2v2c*<\\x91\\x1c\\xb02e\\xf3g\\x1c\\xa7e\\x9d\\xc2+r`X\\xc4\\xd4 C?W\\xd4\\x9f\\x90\\xd6\\xc0|l\\xcf0\\xedg\\xb0\\xa3\\x16\\x8e\\x1d\\xb5{\\xb6\\x9eAV\\x0b\\xc3\\xbf\\x8e\\xdf\\xb2\\x8c_\\xeb\\r\\xbc\\xb8\\x80\\xf4\\xc4V\\xce|\\xaf&v\\x98\\x8b\\x13\"\\x1d\\xc1\\x83J`\\x1af\\x9e\\x16\\xdd\\x8c\\x89\\xfb\\x94*w\\x9c\\x8a\\xb9\"\\xe2\\xc2R\\x9e\\xad\\xd4\\xe9\\xe5\\xe7\\xbe\\x858\\x8c$\\xcc\\xcd1I%G\\x9eX>bbk\\x04\\xffo\\xac\\xc6\\x01\\x9f\\xce\\xd7\\xe2\\xd7\\xb6-\\xd9\\x7f&K1\\xe4\\xb7\\x8bp\\xf4\\xf6\\x97\\xd2\\x92\\x88\\xd7\\xb3\\x18 z\\x9a\\xae*\\\\I\\x08\\xbd\\xd2N5\\x1fQ\\x8d)T\\xc0\\x15\\x02{\\x90\\xa5O\\ti`\\x7fn\\x9b\\xb4\\xc7N1c\\xc86\\x97{1\\xd0j\\xa9\\xbb\\xac\\xaapL^\\xe9\\xf8\\xf4\\xb4 \\x81\\x87\\x7fqm\\x18p\\xa32\\xe7\\xe9/\\x03\\xb4\\xec\\x01\\x1aV\\xe6\\xc3\\xc1z\\x9d\\x86\\x1b|\\xc9\\x9f\\xdf\\x82l\\x087\\xd4s\"P\\x1a|\\xb8\\xc36\\x9f096\\x02\\x95l\\xb6 H\\xd6k\\xb8^RO\\xc6\\x99\\xbe\\x9b\\x91\\xbf\\x92\\xae\\xe9|`\\xdd\\xbd^\\x1dc\\xd8x>\\x80u\\xeb\\xd3\\x95\\xf8\\xaf\\x81\\xbd\\x88!\\xd6{\\'\\xf0\\xa2\\x9e\\xb4\\x9awHn\\x8b8\\xd4\\xd5\\x15\\x821\\xe3\\xe8\\xbef\\xd9\\n\\xbb\\x86h\\xc909\\xd6\\x96od>\\xc6B`\\xd5\\n\\r\\xd2^\\xce\\xbd\\xaa\\xdf\\x05\\xe2w\\x8a\\x9c\\x06\\xae}\\x9e\\xd3-\\xe7\\x16d\\xf3\\x19\\n\\xf8\\xdb\\xb5\\xd9\\x15\\x87\\x84\\xfb\\x9aBy\\xb8d\\xb5N\\xd3\\xb9\\xd5Bn#\\xf5\\x89\\xb7\\x08\\xad\\x9eTM\\xd7\\xe4rh\\xc6\\xbd\\xe8f\\xdd\\xe2\\xa0\\xcc*e\\xa7\\xb7\\xdb\\x9a\\x94\\xf8\\xe9qm\\xcbY<\\xe8\\x1a\\xcfO\\xcc* \\xe1\\x8eh\\xb1{\\x9fMO\\x03\\x8e\\xe3\\x1c\\xd5\\x13\\x1c1\\xd3\\xffU\\xa7\\xbb\\x08U\\xb99\\x96\\r\\xf1\\x97\\xfba\\xe7\\x04\\xd7;\\x18]\\xe81\\x84\\xf5\\x87(\\xc6H\\x19% \\x01\\xe6\\xfau\\xd7\\x980\\xf7\\xab\\xd9\\x9a;\\xdb\\xacu\\xf6v:x\\xecX\\xbd,\\xc2$;\\x19\\xf5\\x92 \\xed\\x7f\\x14\\x1f\\xd0\\xe2\\x0e\\x05+\\x8c\\x1e\\xf1\\xc71\\xf5U\\xb8\\x8b\\x08y\\xa1\\xb4Iu\\xa3\\xbd\\xb9AF\\xc8?\\x0f\\xc8_v\\x03h\\xa4\\xb8\\xe7\\xb9\\xa7\\xb8\\xda\\xd4ua\\xe1\\x0c\\x05\\xda\\xf6Y\\xa2\\x19\\xc1\\xd1\\xab\\xab\\xbe\\xa2\\xe2,\\xca\\x16\\x82m\\xbc\\x11\\x9a\\x19\\x8e\\xa33\\xa7\\x88\\x8e\\xe1\\xd3\\x93*\\xf7\\x0e\\xcf\\xe8\\xdd`.\\tQ\\xf7\\xdb\\xbfBo\\xca~\\x1a\\x0b\\x87\\x80!V\\xe6\\x11\\xfb\\x16\\x14czV\\xa0\\xa5\\x9e\\xb92-.\\xb1\\x9b{\\xb0\\xb7\\xdb\\xf2CbXqr\\x8f\\x82\\xa3\\xae&\\xdc\\xd1\\xa9\\xb9>o3\\xc3\\x192 \\xee\\x9b\\xff\\x1f\\xcdk\\x11]R\\x085\\xb0\\xf5\\xbd\\xfd\\xe0\\x9f\\x1e;\\xcb\\xf4\\x19 q=\\xb3_\\xc0\\xa5\\xfb\\xd8\\xe0\\xef\\x03&\\x8a\\xbe\\x94\\xf6\\xf3\\xe7!>\\x07[\\x1b><\\x17\\xff;\\xc9w\\xdc|@\\xd7y\\xdaji\\xeb78@\\xa9\\xdfj\\xf7\\x06\\x13\\xfb7_|\\xcb\\x95Km\\xde\\x02\\x9e\\xf5\\xd9;<d:r\\xf0\\x18\\xf5\\xd5\\x17%6E!\\x8b/\\xf2\\xf0\\x02)p\\x85I\\x99d\\\\n\\xc8l\\xad\\x94:\\x0c\\xdc\\xd4h\\x14l\\xc6;\\xa2\\xf7\\xa7\\x9a\\x984UA%\\xdf\\xec\\x03\\x8eg_\\x13S\\x0f\\x81\\xb2\\xfb\\xeb\\xb4\\xda\"\\x00?:F1\\x9c\\xf5 \\x81O3O\\xf7\\xe5\\x1bB\\x80\\xbei^P\\xc3\\x0fA{td\\xd4\\xee\\x1f\\x84\\xd68\\x87<\\xf2\\xe1@\\trv\\xec\\xcb,\\xc1l\\x84`\\xb9\\xd5\\x14\\xa9k\\xd1f8i&y+\\xa2n\\x8d\\x1f6\\xcb\\xb3\\x81\\xd9\\x9b\\xbb,Rl\\x9ec\\xe6D\\x87k\\x82aw~\\xb2\\xca\\xfd\\xf5\\xb3\\'\\x84\\xce\\x1eyM\\xab\\xc3\\x1f^\\x04\\xb1C\\xc7\\xe3\\xccLOv\\xa9d\\xae$b\\xe1\\xb5\\xdd\\xc1\\x88\\x81\\xc0-\\xcc6\\x91\\x95\\x1d\\xb5W\\x0b\\x92\\xe7;\\xe7j\\xe8T\\xf0o\\x1b\\x8by\\x11\\x0cRA\\x10\\x9b\\x98uXr\\x9asDQ)\\xfc\\x8f\\x19\\'\\x07\\xa5\\x11/\\xd66\\x12\\xe11F6\\x01\\xc4\\x8a\\xc7J\\x1b\\x89+\\x01f\\xa6\\xfdA\\xf5\\x03\\x95K%\\xdc7\\xf2\\x13\\x93\\xe0m\\x154\\xbc\\xc2\\xaf\\xaa\\xeb\\'k\\x9e\\x89\\xf7E\\xd7\\x07O\\xe19\\x0b&\\xa6\\xc0\\xfb\\x04\\x9d\\x1e>\\x08\\xefj\\xab\\xc1\\x8ah\\xb1\\xa9\\x9c\\xf3$\\xea\\x1f\\xb8\\xe7$h\\xd3VP\\x02J\\x15\\xebAl\\x9b\\x1e\\xb1\\xe7\\x17\\xc0-\\x13\\x82\\xb1\\xe8r\\xf7\\x04\\x1e\\xb2\\xd2\\x8a\\x13\\x83\\xb2)*\\x06O\\xc6YlQ\\xd9C\\xd5v\\xa2x\\xbe\\xfe\\x84\\x84\\xd6\\xb8\\x9b1\\xf8\\xbb\\x87OHg\\xb3\\xf8\\xdd\\xa0)\\xd3m\\xda\\x05\\x87\\x9e\\xb7^wX\\xc3\\xd6/\\xca\\xc9\\xd5F\\xbd\\xa6\\xd31\\n\\xc3bYkpAU\\xd3J\\x93\\xda\\xd3-}\\xf7\\xf3\\x11\\xd2 \\x8b\\x96\\xeb\\x12\\x00h\\xa9\\xd8\\xac\\xda\\x9fQ\\xe2\\x8f|O\\x11\\xfbUB\\x9f\\x18=@\\xad\\x04\\xb1\\xf3QI]\\x01\\x854QQ\\x9e\\x02=\\xa0\\xc0\\xfcN=\\xec\\xbe\\xf2d\\x9f2\\xa7\\x0f\\xa7\\x94\\x1d9ZpH\\x84\\xceAp\\xda\\x1b\\xb3\\x96\\xfa\\x0c\\x9a\\xc2\\xf8P\\x99\\xd4\\x10\\xf1uR\\x85\\x8cO+f\\x1b\\xf2\\x91o\\xf5\\xaa\\xe0[\\xeb\\x01\\xfer\\x0c\"q\\xc2-!\\xa7;\\xd4 j\\xe9R\\xe6$~\\x1c}\\xd66\\xe4\\x83V\\x0eo\\x05\\x13W\\\\ks\\xc1\\x1e\\xc8\\xf9_S\\xc9+S.N\\x9b\\x95\\xe6]M8V%\\xdb\\xbcT\\xeesj\\x1d$\\xfe]\\xa3\\x17|\\r\\xe6I\\xe1'\n"
          ]
        }
      ],
      "source": [
        "#print (AES_keystream(keystream,encrypted))\n",
        "#print('All zero plaintext or data- N1:', N1)\n",
        "print('The encrypted data or ciphertext', encrypted)"
      ]
    },
    {
      "cell_type": "code",
      "execution_count": null,
      "id": "cdb60736",
      "metadata": {
        "id": "cdb60736"
      },
      "outputs": [],
      "source": [
        "#"
      ]
    },
    {
      "cell_type": "code",
      "execution_count": null,
      "id": "7b3bdc26",
      "metadata": {
        "id": "7b3bdc26"
      },
      "outputs": [],
      "source": [
        "#Decryption testing of ciphertext of 1536 bytes"
      ]
    },
    {
      "cell_type": "code",
      "execution_count": null,
      "id": "9bd30d55",
      "metadata": {
        "id": "9bd30d55"
      },
      "outputs": [],
      "source": [
        "#Decryption\n",
        "\n",
        "def AES_keystream(counter,encrypted):\n",
        "    return (keystream,decrypted)\n",
        "\n",
        "prg4 = AES.new(keystream,AES.MODE_CTR, counter=mycounter)\n",
        "decrypted=prg4.decrypt(encrypted)\n",
        "#print (AES_keystream(decrypted,keystream))"
      ]
    },
    {
      "cell_type": "code",
      "execution_count": null,
      "id": "2d0d363d",
      "metadata": {
        "id": "2d0d363d",
        "outputId": "ebb8b459-71fd-40f3-da35-e09f50b134bd"
      },
      "outputs": [
        {
          "name": "stdout",
          "output_type": "stream",
          "text": [
            "The Decrypted data or plaintext of all zero bytes: b'000000000000000000000000000000000000000000000000000000000000000000000000000000000000000000000000000000000000000000000000000000000000000000000000000000000000000000000000000000000000000000000000000000000000000000000000000000000000000000000000000000000000000000000000000000000000000000000000000000000000000000000000000000000000000000000000000000000000000000000000000000000000000000000000000000000000000000000000000000000000000000000000000000000000000000000000000000000000000000000000000000000000000000000000000000000000000000000000000000000000000000000000000000000000000000000000000000000000000000000000000000000000000000000000000000000000000000000000000000000000000000000000000000000000000000000000000000000000000000000000000000000000000000000000000000000000000000000000000000000000000000000000000000000000000000000000000000000000000000000000000000000000000000000000000000000000000000000000000000000000000000000000000000000000000000000000000000000000000000000000000000000000000000000000000000000000000000000000000000000000000000000000000000000000000000000000000000000000000000000000000000000000000000000000000000000000000000000000000000000000000000000000000000000000000000000000000000000000000000000000000000000000000000000000000000000000000000000000000000000000000000000000000000000000000000000000000000000000000000000000000000000000000000000000000000000000000000000000000000000000000000000000000000000000000000000000000000000000000000000000000000000000000000000000000000000000000000000000000000000000000000000000000000000000000000000000000000000000000000000000000000000000000000000000000000000000000000000000000000000000000000000000000000000000000000000000000000000000000000000000000000000000000000000000000000000000000000000000000000000000000000000000000000000000000000000000000000000000000000000000000000000000000000000000000000000000000000000000000000000000000000000000000000000000000000000000000000000000000000000000000000000000000000000000000000000000000000000000000000000000000000000000000000000000000000000000000000000000000000000000000000000000000000000000000000000000000000000000000000000000000000000000000000000000000000000000000000000000000000000000000000000000000000000000000000000000000000000000000000000000000000000000000000000000000000000000000000000000000000000000000000000000000000000000000000000000000000000000000000000000000000000000000000000000000000000000000000000000000000000000000000000000000000000000000000000000000000000000000000000000000000000000000000000000000000000000000000000000000000000000000000000000000000000000000000000000000000000000000000000000000000000000000000000000000000000000000000000000000000000000000000000000000000000000000000000000000000000000000000000000000000000000000000000000000000000000000000000000000000000000000000000000000000000000000000000000000000000000000000000000000000000000000000000000000000000000000000000000000000000000000000000000000000000000000000000000000000000000000000000000000000000000000000000000000000000000000000000000000000000000000000000000000000000000000000000000000000000000000000000000000000000000'\n"
          ]
        }
      ],
      "source": [
        "#print('The Decrypted data or plaintext of all zero bytes:', decrypted)\n",
        "print('The Decrypted data or plaintext of all zero bytes:', binascii.hexlify(decrypted))"
      ]
    },
    {
      "cell_type": "code",
      "execution_count": null,
      "id": "30ac6fd6",
      "metadata": {
        "id": "30ac6fd6",
        "outputId": "7fc0fa0c-d07a-4011-ba10-3bc8a80e24df"
      },
      "outputs": [
        {
          "name": "stdout",
          "output_type": "stream",
          "text": [
            "The input data is: b'broadcast key'\n",
            "The encrypted data is: b'i\\xcd\\xe8\\x13\\xa6\\xc6\\x1bdOq\\xf0JK'\n",
            "The decrypted data is: b'broadcast key'\n"
          ]
        }
      ],
      "source": [
        "#for simplification doing Problem:2 again using data='broadcast key'\n",
        "\n",
        "#Encryption part\n",
        "\n",
        "def AES_keystream(key,BROADCAST_KEY):\n",
        "    return (keystream,encrypted)\n",
        "\n",
        "\n",
        "BROADCAST_KEY=\"broadcast key\".encode(\"ascii\")  #data=input\n",
        "key=urandom(16)\n",
        "keystream=hmac.new(key, BROADCAST_KEY, hashlib.sha256).digest()\n",
        "ctr=0\n",
        "mycounter=Counter.new(128,initial_value=ctr)\n",
        "counter=mycounter\n",
        "prgg = AES.new(keystream,AES.MODE_CTR, counter=mycounter)\n",
        "encrypted=prgg.encrypt(BROADCAST_KEY)\n",
        "\n",
        "#print (AES_keystream(keystream,encrypted))\n",
        "print('The input data is:', BROADCAST_KEY)\n",
        "print('The encrypted data is:', encrypted)\n",
        "\n",
        "\n",
        "\n",
        "#Decryption part\n",
        "\n",
        "def AES_keystream_dec(counter,encrypted):\n",
        "    return (keystream,decrypted)\n",
        "\n",
        "prggg = AES.new(keystream,AES.MODE_CTR, counter=mycounter)\n",
        "decrypted=prggg.decrypt(encrypted)\n",
        "\n",
        "\n",
        "#print (AES_keystream(keystream,decrypted))\n",
        "print('The decrypted data is:', decrypted)"
      ]
    },
    {
      "cell_type": "code",
      "execution_count": null,
      "id": "21e8d406",
      "metadata": {
        "id": "21e8d406"
      },
      "outputs": [],
      "source": [
        "#####################################################################################################"
      ]
    },
    {
      "cell_type": "code",
      "execution_count": null,
      "id": "da702ff2",
      "metadata": {
        "id": "da702ff2"
      },
      "outputs": [],
      "source": [
        "#Problem:3"
      ]
    },
    {
      "cell_type": "code",
      "execution_count": null,
      "id": "9e4cc7af",
      "metadata": {
        "id": "9e4cc7af"
      },
      "outputs": [],
      "source": [
        "# As loading 10^7 bytes for question 3 was not happening. That's why ran this command to increase the data rate limit in notebook\n",
        "\n",
        "!jupyter notebook --NotebookApp.iopub_data_rate_limit=1.0e10"
      ]
    },
    {
      "cell_type": "code",
      "execution_count": null,
      "id": "a76e58f1",
      "metadata": {
        "id": "a76e58f1"
      },
      "outputs": [],
      "source": [
        "#"
      ]
    },
    {
      "cell_type": "code",
      "execution_count": null,
      "id": "cf518c2d",
      "metadata": {
        "id": "cf518c2d"
      },
      "outputs": [],
      "source": [
        "def AES_keystream(key,plaintext):\n",
        "    return (key,ciphertext)\n",
        "\n",
        "key=urandom(16)   #generating random key\n",
        "n=10000000          #10 mega-bytes of data\n",
        "plaintext=bytes(n)   # 10 mega-byte of all-zero plaintext\n",
        "keystream=hmac.new(key, plaintext, hashlib.sha256).digest()   #key called keystream is derived here\n",
        "\n",
        "ctr=0  # counter is set to 0 as per instruction\n",
        "mycounter=Counter.new(128,initial_value=ctr)  # mycounter object is created\n",
        "counter=mycounter\n",
        "\n",
        "cipher_object = AES.new(keystream,AES.MODE_CTR, counter=mycounter) #AES ciphering object is created so that encryption can be performed later\n",
        "ciphertext=cipher_object.encrypt(plaintext) #ciphertext will be obtained from ciphering object and encrypt function\n",
        "\n",
        "#commeneted several outputs because several crashes and freezings were continuously happening\n",
        "#print (AES_keystream(key,ciphertext))\n",
        "#print('The plaintext is 10 mega-byte of all-zero plaintext:', plaintext)\n",
        "#print('The encrypted data is:', ciphertext)"
      ]
    },
    {
      "cell_type": "code",
      "execution_count": null,
      "id": "a4808f1a",
      "metadata": {
        "id": "a4808f1a"
      },
      "outputs": [],
      "source": [
        "#by using list function, have the list in a cell from ciphertext as bytes value from 0 to 255 range\n",
        "ciphertext_list=list(ciphertext)\n",
        "#print ('The ciphertext list of AES CTR mode is:',ciphertext_list)"
      ]
    },
    {
      "cell_type": "code",
      "execution_count": null,
      "id": "5c8a50a3",
      "metadata": {
        "id": "5c8a50a3",
        "outputId": "62247c8a-7a30-4c4a-d617-b13f162601b7"
      },
      "outputs": [
        {
          "name": "stdout",
          "output_type": "stream",
          "text": [
            "The frequency of bytes under AES CTR Mode is: {177: 38918, 29: 38958, 176: 38987, 222: 39170, 138: 39015, 1: 38791, 26: 39095, 42: 39139, 92: 39013, 208: 39055, 40: 39426, 43: 38743, 179: 38897, 80: 39138, 135: 39228, 149: 39073, 87: 38939, 60: 39401, 93: 39052, 156: 39359, 239: 39003, 254: 39034, 18: 38887, 114: 38741, 112: 39498, 207: 38948, 216: 39080, 130: 38925, 39: 39402, 16: 39082, 46: 39248, 219: 38784, 190: 38757, 213: 39286, 224: 38860, 248: 39082, 45: 39123, 47: 39135, 217: 39088, 227: 39058, 105: 38502, 90: 39125, 141: 38882, 173: 38969, 244: 39386, 9: 39278, 196: 38939, 159: 39133, 69: 39022, 203: 39322, 129: 39077, 101: 39387, 146: 39035, 34: 38918, 6: 39178, 14: 38983, 241: 39134, 164: 38549, 10: 39021, 236: 39438, 155: 39115, 5: 39029, 88: 39085, 229: 39133, 74: 39106, 25: 39356, 128: 38957, 52: 39284, 221: 39172, 44: 39284, 124: 39074, 238: 39099, 194: 39116, 36: 39176, 132: 39374, 103: 39102, 86: 38715, 104: 39205, 68: 38909, 127: 39053, 78: 39331, 210: 39068, 245: 38863, 33: 38884, 200: 39340, 58: 39323, 4: 39081, 185: 39309, 55: 39045, 148: 39303, 161: 39110, 64: 39431, 223: 39142, 12: 38847, 253: 39058, 37: 38915, 63: 39000, 167: 38919, 106: 39208, 193: 39095, 243: 39130, 73: 39356, 178: 39090, 195: 39050, 204: 39272, 113: 39007, 145: 39029, 168: 39054, 32: 38997, 7: 38871, 142: 39001, 122: 39310, 139: 39065, 109: 38853, 166: 39286, 226: 39018, 189: 39180, 95: 39170, 81: 38910, 17: 38890, 65: 39282, 84: 38977, 99: 39017, 97: 39004, 134: 38975, 41: 39194, 181: 38954, 110: 39179, 98: 38686, 143: 39309, 154: 39262, 247: 39172, 83: 39069, 206: 39014, 201: 39273, 235: 39184, 211: 39097, 51: 39275, 228: 38704, 198: 39178, 152: 39248, 24: 38961, 133: 39339, 15: 38715, 246: 38997, 91: 39234, 13: 38855, 116: 38852, 180: 38859, 82: 39136, 56: 39340, 62: 39090, 35: 38864, 102: 39298, 22: 38912, 191: 39330, 183: 38997, 230: 39315, 49: 39100, 85: 38995, 251: 38923, 157: 39092, 170: 38996, 115: 38924, 212: 38981, 3: 39039, 54: 39122, 162: 38869, 59: 38787, 174: 39122, 48: 38887, 234: 39241, 250: 39404, 184: 39014, 205: 38871, 75: 39165, 160: 39122, 150: 39051, 151: 39002, 21: 39345, 237: 38826, 140: 39162, 232: 38907, 192: 39143, 171: 38990, 31: 38943, 233: 39129, 199: 38935, 255: 38834, 119: 38840, 158: 39075, 71: 39166, 137: 39134, 67: 39208, 163: 39105, 175: 39397, 27: 39409, 30: 39174, 108: 38969, 76: 38730, 126: 39080, 61: 39333, 118: 38824, 117: 38907, 23: 39056, 121: 39043, 57: 38958, 225: 39206, 125: 39248, 19: 39217, 50: 38895, 188: 39027, 182: 39020, 53: 38830, 107: 39142, 11: 38838, 214: 38954, 77: 38935, 20: 38934, 220: 39246, 38: 38910, 209: 38870, 72: 39048, 70: 38621, 144: 39357, 120: 39065, 252: 38889, 172: 39176, 136: 39243, 153: 39089, 111: 38830, 8: 39461, 66: 39282, 202: 38975, 28: 38913, 147: 38961, 79: 38806, 249: 38635, 186: 38817, 187: 39021, 123: 38872, 240: 39237, 96: 38976, 242: 39105, 197: 39063, 165: 38908, 215: 39129, 0: 38742, 131: 39001, 89: 38946, 218: 39316, 2: 39180, 231: 38959, 100: 39019, 169: 39180, 94: 38579}\n"
          ]
        }
      ],
      "source": [
        "#have to find the frequency of byte values(between 0 t0 255 range) as how many times they occured each\n",
        "\n",
        "freq={}\n",
        "for item in ciphertext_list:\n",
        "    if item in freq:\n",
        "        freq[item]+=1\n",
        "    else:\n",
        "        freq[item]=1\n",
        "print('The frequency of bytes under AES CTR Mode is:', freq)"
      ]
    },
    {
      "cell_type": "code",
      "execution_count": null,
      "id": "19c9ce98",
      "metadata": {
        "id": "19c9ce98",
        "outputId": "3eb5092f-6ad2-4544-906a-cd5b55d10b1c"
      },
      "outputs": [
        {
          "name": "stdout",
          "output_type": "stream",
          "text": [
            "The probability density function value under AES CTR Mode is: 222.05280640000024\n"
          ]
        }
      ],
      "source": [
        "#expected value is here written as E as per instruction\n",
        "#observed value is written as 'chi'\n",
        "\n",
        "E=10000000/256\n",
        "\n",
        "chi=0\n",
        "for d in range(0,255):\n",
        "        chi=chi+(((freq[d]-E)**2)/E)\n",
        "print('The probability density function value under AES CTR Mode is:', chi)"
      ]
    },
    {
      "cell_type": "code",
      "execution_count": null,
      "id": "6062e5d5",
      "metadata": {
        "id": "6062e5d5"
      },
      "outputs": [],
      "source": [
        "#The observed probability density function or the chi-square value is of 222.05280640000024.\n",
        "#From given visualization, it's seen that the peak value of PDF/chi-sqaure value is between 200 and 300\n",
        "#so it's determined that there is no significant differences between observed frequencies and expected frequencies\n",
        "#or observed frequencies are almost same as expected frequencies"
      ]
    },
    {
      "cell_type": "code",
      "execution_count": null,
      "id": "5e569b99",
      "metadata": {
        "id": "5e569b99"
      },
      "outputs": [],
      "source": [
        "#Problem.3b"
      ]
    },
    {
      "cell_type": "code",
      "execution_count": null,
      "id": "43da05be",
      "metadata": {
        "id": "43da05be"
      },
      "outputs": [],
      "source": [
        "#AES ECB MODE\n",
        "#implementing previous AES_keystream function under ECB mode"
      ]
    },
    {
      "cell_type": "code",
      "execution_count": null,
      "id": "9df6fc58",
      "metadata": {
        "id": "9df6fc58"
      },
      "outputs": [],
      "source": [
        "#forgetfully have not used 'AES_keystream_ECB'. INSTEAD I used only AES_keystream\n",
        "\n",
        "def AES_keystream(key,plaintext):\n",
        "    return (key,ciphertext)\n",
        "\n",
        "key=urandom(16)  #generates random key\n",
        "n=10000000  #10 mega-bytes of data\n",
        "plaintext=bytes(n)  #creates all zero plaintext by 'bytes' function\n",
        "\n",
        "padded_plaintext=pad(plaintext,AES.block_size) #the default AES BLOCK Size is of 128 bits and padding function is used as per ECB requirement\n",
        "cipher_obj = AES.new(key,AES.MODE_ECB)\n",
        "ciphertext=cipher_obj.encrypt(padded_plaintext) # will get ciphertext with padding/extra characters at end\n",
        "\n",
        "#print(AES_keystream(key,ciphertext))\n",
        "#print('The plaintext:', plaintext)\n",
        "#print('The ciphertext value under AES ECB Mode is:', ciphertext)"
      ]
    },
    {
      "cell_type": "code",
      "execution_count": null,
      "id": "69ad8124",
      "metadata": {
        "id": "69ad8124"
      },
      "outputs": [],
      "source": [
        "#Decryption under ECB Mode is done randomly to check"
      ]
    },
    {
      "cell_type": "code",
      "execution_count": null,
      "id": "b51a4f29",
      "metadata": {
        "id": "b51a4f29"
      },
      "outputs": [],
      "source": [
        "#decryption_ECB\n",
        "\n",
        "from Crypto.Cipher import AES\n",
        "from Crypto.Util.Padding import pad,unpad\n",
        "\n",
        "def AES_keystream_dec(ciphertext):\n",
        "    return (unpadded_decrypted)\n",
        "\n",
        "decipher_obj = AES.new(key,AES.MODE_ECB)\n",
        "decrypted=decipher_obj.decrypt(ciphertext)\n",
        "unpadded_decrypted=unpad(decrypted,AES.block_size)\n",
        "\n",
        "original=AES_keystream_dec(ciphertext)\n",
        "#print('The decrypted or original data is:', original)\n",
        "\n",
        "#have done the problems in separate cells but after multiple crashes ,files got damaged and in last did mostly in one cell"
      ]
    },
    {
      "cell_type": "code",
      "execution_count": null,
      "id": "33fafb1a",
      "metadata": {
        "id": "33fafb1a"
      },
      "outputs": [],
      "source": [
        "#creating ciphertext_list2 from ciphertext to get a list of its bytes values\n",
        "\n",
        "ciphertext_list2=list(ciphertext)\n",
        "#print ('The ciphertext list of AES ECB mode is:',ciphertext_list2)"
      ]
    },
    {
      "cell_type": "code",
      "execution_count": null,
      "id": "d8b76767",
      "metadata": {
        "id": "d8b76767",
        "outputId": "66db87a2-3035-4ec5-f749-9f56463340a4"
      },
      "outputs": [
        {
          "name": "stdout",
          "output_type": "stream",
          "text": [
            "The frequency of bytes under AES ECB mode is: Counter({19: 1250000, 33: 625001, 31: 625000, 41: 625000, 197: 625000, 165: 625000, 82: 625000, 231: 625000, 240: 625000, 87: 625000, 200: 625000, 113: 625000, 186: 625000, 53: 625000, 203: 625000, 108: 1, 22: 1, 76: 1, 248: 1, 236: 1, 100: 1, 60: 1, 253: 1, 167: 1, 202: 1, 243: 1, 96: 1, 128: 1, 215: 1, 25: 1})\n"
          ]
        }
      ],
      "source": [
        "#previously used for loops to get frequency of 'bytes values' ranged from 0 to 255\n",
        "#here instead of for loops tried collections module to get frequency under ecb mode\n",
        "\n",
        "import collections\n",
        "freq_ecb=collections.Counter(ciphertext_list2)\n",
        "\n",
        "print('The frequency of bytes under AES ECB mode is:', freq_ecb)"
      ]
    },
    {
      "cell_type": "code",
      "execution_count": null,
      "id": "0da04964",
      "metadata": {
        "id": "0da04964",
        "outputId": "55426cf6-6512-47af-f5b2-322b884214a4"
      },
      "outputs": [
        {
          "name": "stdout",
          "output_type": "stream",
          "text": [
            "The probability density function value under AES ECB Mode is: 169960937.5004096\n"
          ]
        }
      ],
      "source": [
        "#expected value is E\n",
        "#observed chi-square value is chi_ecb\n",
        "\n",
        "E=10000000/256\n",
        "\n",
        "chi_ecb=0  # setting initial value of chi_ecb=0\n",
        "\n",
        "for d in range(0,255):\n",
        "    chi_ecb=chi_ecb+(((freq_ecb[d]-E)**2)/E)\n",
        "\n",
        "print('The probability density function value under AES ECB Mode is:', chi_ecb)"
      ]
    },
    {
      "cell_type": "code",
      "execution_count": null,
      "id": "0f979992",
      "metadata": {
        "id": "0f979992"
      },
      "outputs": [],
      "source": [
        "#It is observed that there is eminent difference between results of CTR and ECB modes.\n",
        "#The ultimate value from Probability density function under ECB is huge\n",
        "#It signifies that there is difference between observed frequencies and expected frequencies\n",
        "#so the distribution of data is not similar with that of theoratical expected one under ECB mode"
      ]
    },
    {
      "cell_type": "code",
      "execution_count": null,
      "id": "eb511d73",
      "metadata": {
        "id": "eb511d73"
      },
      "outputs": [],
      "source": [
        "#####################################################################################################"
      ]
    },
    {
      "cell_type": "code",
      "execution_count": null,
      "id": "5b28757d",
      "metadata": {
        "id": "5b28757d",
        "outputId": "18c2f1a5-5bf3-472a-a524-8066cb80680c"
      },
      "outputs": [
        {
          "name": "stdout",
          "output_type": "stream",
          "text": [
            "The encrypted EphID is: b'\\x1d\\xd8\\x17/\\x11\\x94n\\x19\\xf3\\x18\\x0bwI\\x03h\\xed'\n"
          ]
        }
      ],
      "source": [
        "#Problem:4\n",
        "\n",
        "#EphID is generated as of 16 bytes as per instruction\n",
        "#his generated EphID will be encrypted by using given key from question\n",
        "#after encryption of EphID, it will be compared with that given EphID to acknowledge whether alice was in contact with that\n",
        "#infected person\n",
        "\n",
        "\n",
        "def AES_keystream(key,N):\n",
        "    return (keystream,encrypted)\n",
        "\n",
        "N=16\n",
        "data=bytes(16) #generating all-zero EphID of 16 bytes\n",
        "key=\"6754327d0611065ec922adc7ec7820787bf7627741c37128215dec6f426aa641\"  #given\n",
        "newkey=binascii.unhexlify(key) #converting hexadecimal to bytes value\n",
        "\n",
        "keystream=hmac.new(newkey, data, hashlib.sha256).digest()\n",
        "ctr=0\n",
        "mycounter=Counter.new(128,initial_value=ctr)\n",
        "counter=mycounter\n",
        "\n",
        "prg3 = AES.new(keystream,AES.MODE_CTR, counter=mycounter)\n",
        "encrypted=prg3.encrypt(data)\n",
        "\n",
        "\n",
        "#print (AES_keystream(keystream,encrypted))\n",
        "#print('data:', data)\n",
        "print('The encrypted EphID is:', encrypted)"
      ]
    },
    {
      "cell_type": "code",
      "execution_count": null,
      "id": "646e55ef",
      "metadata": {
        "id": "646e55ef"
      },
      "outputs": [],
      "source": [
        "#converting from bytes to hexadecimal value to compare later\n",
        "Observed_EphID=binascii.hexlify(encrypted)"
      ]
    },
    {
      "cell_type": "code",
      "execution_count": null,
      "id": "ef61d7d2",
      "metadata": {
        "id": "ef61d7d2",
        "outputId": "0fb357ad-e894-4251-bab4-51c106550c3d"
      },
      "outputs": [
        {
          "data": {
            "text/plain": [
              "b'1dd8172f11946e19f3180b77490368ed'"
            ]
          },
          "execution_count": 30,
          "metadata": {},
          "output_type": "execute_result"
        }
      ],
      "source": [
        "Observed_EphID"
      ]
    },
    {
      "cell_type": "code",
      "execution_count": null,
      "id": "6077bcaf",
      "metadata": {
        "id": "6077bcaf",
        "outputId": "eef445dd-4c00-4a79-edbb-e6359bf8b28c"
      },
      "outputs": [
        {
          "data": {
            "text/plain": [
              "32"
            ]
          },
          "execution_count": 31,
          "metadata": {},
          "output_type": "execute_result"
        }
      ],
      "source": [
        "len(Observed_EphID)"
      ]
    },
    {
      "cell_type": "code",
      "execution_count": null,
      "id": "58224532",
      "metadata": {
        "id": "58224532",
        "outputId": "43058126-efb6-4831-a76e-cfaf90ca5bf9"
      },
      "outputs": [
        {
          "data": {
            "text/plain": [
              "32"
            ]
          },
          "execution_count": 32,
          "metadata": {},
          "output_type": "execute_result"
        }
      ],
      "source": [
        "Given_EphID=\"e329906b5e01fd928f2dec7baddd1bd4\"\n",
        "len(Given_EphID)"
      ]
    },
    {
      "cell_type": "code",
      "execution_count": null,
      "id": "50d97f95",
      "metadata": {
        "id": "50d97f95"
      },
      "outputs": [],
      "source": [
        "#it is seen that the Observed_EphID is b'1dd8172f11946e19f3180b77490368ed'\n",
        "#but the Given_EphID =\"e329906b5e01fd928f2dec7baddd1bd4\""
      ]
    },
    {
      "cell_type": "code",
      "execution_count": null,
      "id": "fae975a3",
      "metadata": {
        "id": "fae975a3"
      },
      "outputs": [],
      "source": [
        "# so as the IDs don't get matched.Alice is at no risk\n",
        "#earlier she was not in contact with that infected person"
      ]
    },
    {
      "cell_type": "code",
      "execution_count": null,
      "id": "017f4d84",
      "metadata": {
        "id": "017f4d84"
      },
      "outputs": [],
      "source": [
        "#the privacy of DP_3T system is secure as I think\n",
        "#the Id of one person is kept encrypted\n",
        "#the generated key from one person is also encrypted\n",
        "#so the privacy is maintained here"
      ]
    },
    {
      "cell_type": "code",
      "execution_count": null,
      "id": "d9f9ed54",
      "metadata": {
        "id": "d9f9ed54"
      },
      "outputs": [],
      "source": []
    }
  ],
  "metadata": {
    "kernelspec": {
      "display_name": "Python 3",
      "language": "python",
      "name": "python3"
    },
    "language_info": {
      "codemirror_mode": {
        "name": "ipython",
        "version": 3
      },
      "file_extension": ".py",
      "mimetype": "text/x-python",
      "name": "python",
      "nbconvert_exporter": "python",
      "pygments_lexer": "ipython3",
      "version": "3.8.8"
    },
    "colab": {
      "provenance": []
    }
  },
  "nbformat": 4,
  "nbformat_minor": 5
}