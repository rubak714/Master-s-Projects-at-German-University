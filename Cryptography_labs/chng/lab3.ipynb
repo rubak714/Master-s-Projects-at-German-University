{
  "cells": [
    {
      "cell_type": "code",
      "execution_count": null,
      "metadata": {
        "id": "w5qMeq1Js-0e"
      },
      "outputs": [],
      "source": []
    },
    {
      "cell_type": "code",
      "execution_count": null,
      "metadata": {
        "id": "asIs2gMGs-0f"
      },
      "outputs": [],
      "source": [
        "X=roll"
      ]
    },
    {
      "cell_type": "code",
      "execution_count": null,
      "metadata": {
        "id": "Hmvhf3Fms-0g"
      },
      "outputs": [],
      "source": [
        "#importing several modules\n",
        "\n",
        "import hashlib\n",
        "import hmac\n",
        "import secrets\n",
        "import random\n",
        "import binascii\n",
        "from Crypto.Util import Counter\n",
        "from Crypto.Cipher import AES\n",
        "from Crypto.Util import number\n",
        "from Crypto.PublicKey import RSA\n",
        "from Crypto.Cipher import PKCS1_OAEP\n",
        "from Crypto.Hash import SHA256"
      ]
    },
    {
      "cell_type": "code",
      "execution_count": null,
      "metadata": {
        "id": "Z-IaAJvps-0h"
      },
      "outputs": [],
      "source": [
        "#Problem:1\n",
        "#-------------------------------------------------------------------------------------------------------------------------\n",
        "#Writing a function RSAKeyGen()which generates a 2048-bit RSA key,\n",
        "#and will write the public and private key to the disk, that will return the RSA key objects"
      ]
    },
    {
      "cell_type": "code",
      "execution_count": null,
      "metadata": {
        "id": "m3SroKVOs-0h"
      },
      "outputs": [],
      "source": [
        "def RSAKeyGen():\n",
        "\n",
        "    p=number.getPrime(1024)  # generating random prime of 1024 bits\n",
        "    q=number.getPrime(1024)  # generating random prime of 1024 bits\n",
        "    N=p*q                    #N=pq\n",
        "    phi=(p-1)*(q-1)          #as phi=(p-1)*(q-1)\n",
        "\n",
        "    X=roll+3 #As my matriculation number X does not give gcd=1,i have to increase it by 3: roll+3=roll+3\n",
        "    e=X   #As now X is admissible as public exponent: e\n",
        "    gcd=number.GCD(e,phi) #this gcd calculation gives 1\n",
        "\n",
        "    d=number.inverse(e,phi) #calculating private exponent d\n",
        "    myRSAkey = RSA.construct([N,e,d])  # constructing private RSA key by RSA.construct([N,e,d])\n",
        "\n",
        "    #for private key\n",
        "    f=open(\"mykey.pem\", \"wb\")  #opening a file with open(\"mykey.pem\", \"wb\") and the file name is mykey\n",
        "    f.write(myRSAkey.export_key('PEM'))  #exporting the private RSA key in PEM format\n",
        "    f.close()  #closing the file\n",
        "\n",
        "    #for public key\n",
        "    mypublicRSAkey = myRSAkey.publickey()\n",
        "\n",
        "    f=open(\"mypubkey.pem\", \"wb\") #opening a file with open(\"mypubkey.pem\", \"wb\") and the file name is mypubkey\n",
        "    f.write(mypublicRSAkey.export_key('PEM')) #exporting the private RSA key in PEM format\n",
        "    f.close()  #closing the file\n",
        "\n",
        "    return(myRSAkey,mypublicRSAkey)  #returning myRSAkey(private) and mypublicRSAkey(public)"
      ]
    },
    {
      "cell_type": "code",
      "execution_count": null,
      "metadata": {
        "id": "dJuvYdYTs-0h",
        "outputId": "bae1ff3f-394b-4817-a5c3-949d8248ac0c"
      },
      "outputs": [
        {
          "data": {
            "text/plain": [
              "RsaKey(n=23490799173157854573224874377786685848156021966832615106078386368030782801005334541268068470806793012717783345483757890404094883203976424394038995218601468911128927757504260400930527279369562386318183957691135490596357375244296219395877784659805049400670581506992358017870318907939058506563099072951967086125955062109518783517737884373261753788699902074934448662245118016022465765726532075292707258606596164022514317282817387079609608971948921851041938589168408175168455851916354566732835835657707821401838141524250507368036875978371217463989314771428743507428519610063343308015899912234298637842661341837368648429813, e=11146367, d=16528659868709852159677431587391425195069786492252373043226595132520528033097086695390097448018438302945210917597078876184785616829485773110222515654048596159677109715379140228385874408778119413906302108676887455586404403137708495372358360083420136285339165797659042105809004703773349809892121463792945870690280128555559717006827474591579496299835008494403314606117390781706561749022517667518714565666235904689149709659953134959984591781754175303939198897757150673468465713282810800689412704395530110711249197151917288059263462686615727133158978769740651669690096788191371098605006293649798702180828822255891126174723, p=172777035360641637306268618934486453339001393275226550043733822351193423368225349934593526594764631055081568112568771808349031622682445976989103629863479121933073515134793020494462918741105402025800319001476229046042798821157246878962146720842540764812326956710636749647816643299559928451695154683241966418483, q=135960193576217740705068143951050740128455569420272021023296119761509387605215058892576845657892913276333267973166125215108884493146178879477675919228400842745137318662864960290195361058296072637196433888709226816618113740426794898722856649910937104744514959846863137391134725144981787166110765953618446995511, u=111554090297827374009096973222922710771728994281978938418871888737249255790978574750582703434653636014073215163371573502207169295373349620750456108408074857822182978703112347092158517805912307377148586407831402024694386151996473196410117304617188549871588158065455011016453943683606732114041117068892676073543)"
            ]
          },
          "execution_count": 9,
          "metadata": {},
          "output_type": "execute_result"
        }
      ],
      "source": [
        "#calling the RSAKeyGen() function\n",
        "myRSAkey,mypublicRSAkey=RSAKeyGen()\n",
        "\n",
        "#printing private key\n",
        "myRSAkey"
      ]
    },
    {
      "cell_type": "code",
      "execution_count": null,
      "metadata": {
        "id": "7DcEqWQRs-0i",
        "outputId": "cad30bb5-68e5-4fa7-ef05-117a980fd490"
      },
      "outputs": [
        {
          "data": {
            "text/plain": [
              "RsaKey(n=23490799173157854573224874377786685848156021966832615106078386368030782801005334541268068470806793012717783345483757890404094883203976424394038995218601468911128927757504260400930527279369562386318183957691135490596357375244296219395877784659805049400670581506992358017870318907939058506563099072951967086125955062109518783517737884373261753788699902074934448662245118016022465765726532075292707258606596164022514317282817387079609608971948921851041938589168408175168455851916354566732835835657707821401838141524250507368036875978371217463989314771428743507428519610063343308015899912234298637842661341837368648429813, e=11146367)"
            ]
          },
          "execution_count": 10,
          "metadata": {},
          "output_type": "execute_result"
        }
      ],
      "source": [
        "#printing public key\n",
        "mypublicRSAkey"
      ]
    },
    {
      "cell_type": "code",
      "execution_count": null,
      "metadata": {
        "id": "jSl4fLYts-0i"
      },
      "outputs": [],
      "source": [
        "#after testing the function,it is checked that the key files are written to the specific folder"
      ]
    },
    {
      "cell_type": "code",
      "execution_count": null,
      "metadata": {
        "id": "kwhop3Izs-0i"
      },
      "outputs": [],
      "source": [
        "########################################################################################################################"
      ]
    },
    {
      "cell_type": "code",
      "execution_count": null,
      "metadata": {
        "id": "6CTnqG3ys-0i"
      },
      "outputs": [],
      "source": []
    },
    {
      "cell_type": "code",
      "execution_count": null,
      "metadata": {
        "id": "qAkMuJrbs-0j"
      },
      "outputs": [],
      "source": [
        "#Problem:2\n",
        "#------------------------------------------------------------------------------------------------------------------------"
      ]
    },
    {
      "cell_type": "code",
      "execution_count": null,
      "metadata": {
        "id": "QXTdJgZos-0j"
      },
      "outputs": [],
      "source": [
        "#Writing a function \"RSAEnc(mypublicRSAkey, m)\"\n",
        "#which encrypts the bytes object 'm' with RSA-OAEP and returns the ciphertext 'c'"
      ]
    },
    {
      "cell_type": "code",
      "execution_count": null,
      "metadata": {
        "id": "Yfui7hQjs-0j"
      },
      "outputs": [],
      "source": [
        "#Problem:2_a\n",
        "from Crypto.Random import get_random_bytes\n",
        "\n",
        "def RSAEnc(mypublicRSAkey,m):\n",
        "\n",
        "    #encrypting\n",
        "    cipher=PKCS1_OAEP.new(mypublicRSAkey)\n",
        "    c=cipher.encrypt(m) #encrypted\n",
        "    return (c)"
      ]
    },
    {
      "cell_type": "code",
      "execution_count": null,
      "metadata": {
        "id": "uqIHHjLts-0j"
      },
      "outputs": [],
      "source": [
        "#random bytes object m\n",
        "m=get_random_bytes(16)"
      ]
    },
    {
      "cell_type": "code",
      "execution_count": null,
      "metadata": {
        "id": "PvF0BJQfs-0j",
        "outputId": "4e8d5f69-605f-4c9b-f1fb-7c208ca8121d"
      },
      "outputs": [
        {
          "data": {
            "text/plain": [
              "b'T\\xea%J\\x89\\x93F\\x03jXb\\x1a]\\x1a+\\xb4'"
            ]
          },
          "execution_count": 17,
          "metadata": {},
          "output_type": "execute_result"
        }
      ],
      "source": [
        "m"
      ]
    },
    {
      "cell_type": "code",
      "execution_count": null,
      "metadata": {
        "id": "tkw3S0y7s-0j",
        "outputId": "e784e24e-73c5-4274-94ca-d2839c5dd5ac"
      },
      "outputs": [
        {
          "name": "stdout",
          "output_type": "stream",
          "text": [
            "b'}\\xd6I\\xbb\\xbc\\x93\\xd8$ [\\xe2\\r\\xba2\\x04!\\x97\\xcck\\x06h\\x15\\nY\\xce\\xfb\\xdbT\\x98\\x11D\\x9cE\\xe3\\xb2\\xeb\\x8a\\x7f\\x13\\xdd\\xccG\\xc8\\x9a\\xae^T\\xca\\xed9\\x93S\\xf3\\xfa%f8\\xd6\\xf6<\\xc3@\\xff\\x90\\x04\\xf6jll\\xcck\\x0f6\\xbc2\\xa8.\\x1dqOY\\xf7\\xdd\\x9c\\xb8\\xed\\xee\\xc1\\xe5\\xbc\\x0b\\xe0i\\xc9d\\xefsn\\xac\\x9d\\x008\\xcc\\xc2\\xa8\\xfelut(q\\x84\\x0b\\x01\\x08\\xd8\\xeeA\\xdb\\xfd6\\x9e\\r\\xc5H\\xd6\\xbc\\x8c\\x1ef)\\x86\\xa1\\r\\x95\\xe3\\xdf6\\x83\\x95\\xf5#\\x93\\xfe\\x05\\xdb\\x87\\x0b\\xc7\\xf3t\\x08\\xa0Q\\xd8\\x88\\xde\\x9er\\xd4\\xad\\x8fRl\\xf0\\x9e\\x93O\\xecW\\xcf\\x9bk\\xfe\\x12\\x91\\xabq\\xde\\xead\\xfd\\x02\\xa8\\xea;\\x19\\x13>\\x9a\\x01\\x1dy#\\x01Bi\\xd4Oz\\xc1\\x00\\x15\\x92\\xc0\\xf9\\xb4\\xd9\\xb6XR1\\xf0\\xc7\\x9cp\\xfd\\x14&\\xd1Ms\\xf9\\xcb\\xf3\\x94\\xd5\\x1f\\xb5\\xb7<\\xf0\\xda\\x16T\\xd9\\xfc\\x7f\\xa1\\xa5=\\xfa\\xbd\\xa6\\xc8\\xa2DL\\x03e\\xd6]\\xb7Y\\xee\\x0f'\n"
          ]
        }
      ],
      "source": [
        "#calling RSAEnc function\n",
        "c=RSAEnc(mypublicRSAkey,m)\n",
        "print(c)"
      ]
    },
    {
      "cell_type": "code",
      "execution_count": null,
      "metadata": {
        "id": "eHJlO2Bjs-0j"
      },
      "outputs": [],
      "source": [
        "#which is the maximum byte length that can be encrypted?\n",
        "\n",
        "#Ans: the maximum byte length that can be encrypted here is 214 bytes."
      ]
    },
    {
      "cell_type": "code",
      "execution_count": null,
      "metadata": {
        "id": "Idv19bJWs-0j"
      },
      "outputs": [],
      "source": [
        "#How do you explain that number?\n",
        "\n",
        "#Ans: RSA is there for encryption of data of a maximum 214 bytes which further increases with size of \"key size\" upto 256 bytes"
      ]
    },
    {
      "cell_type": "code",
      "execution_count": null,
      "metadata": {
        "id": "XmUyG_H3s-0j",
        "outputId": "9ee79231-0f72-42fd-b350-cce54c7eeb9f"
      },
      "outputs": [
        {
          "name": "stdout",
          "output_type": "stream",
          "text": [
            "256\n"
          ]
        }
      ],
      "source": [
        "#What is the ciphertext length?\n",
        "#Ans: 256 bytes\n",
        "print(len(c))"
      ]
    },
    {
      "cell_type": "code",
      "execution_count": null,
      "metadata": {
        "id": "waPsqJeXs-0j"
      },
      "outputs": [],
      "source": [
        "#Problem:2_b\n",
        "#creating RSA Decryption function: RSADec() where input parameters are privatekey=myRSAkey and the ciphertext=c\n",
        "\n",
        "def RSADec(myRSAkey,c):\n",
        "\n",
        "    #decrypting\n",
        "    cipher=PKCS1_OAEP.new(myRSAkey)\n",
        "    dec=cipher.decrypt(c) #decrypted\n",
        "\n",
        "    return (dec)  #returning decrypted data"
      ]
    },
    {
      "cell_type": "code",
      "execution_count": null,
      "metadata": {
        "id": "xxgwvsBNs-0j",
        "outputId": "183ea466-7fdf-419d-f609-38b6c6046f1b"
      },
      "outputs": [
        {
          "name": "stdout",
          "output_type": "stream",
          "text": [
            "plaintext:  b'T\\xea%J\\x89\\x93F\\x03jXb\\x1a]\\x1a+\\xb4'\n",
            "Decrypted data:  b'T\\xea%J\\x89\\x93F\\x03jXb\\x1a]\\x1a+\\xb4'\n"
          ]
        }
      ],
      "source": [
        "#calling RSADec() function\n",
        "\n",
        "dec=RSADec(myRSAkey,c)\n",
        "print(\"plaintext: \", m)\n",
        "print(\"Decrypted data: \",dec)"
      ]
    },
    {
      "cell_type": "code",
      "execution_count": null,
      "metadata": {
        "id": "fE05wfB5s-0j"
      },
      "outputs": [],
      "source": [
        "#yes,the decryption gives same plaintext as before"
      ]
    },
    {
      "cell_type": "code",
      "execution_count": null,
      "metadata": {
        "id": "uczPLtk_s-0k"
      },
      "outputs": [],
      "source": [
        "#Problem:2_c"
      ]
    },
    {
      "cell_type": "code",
      "execution_count": null,
      "metadata": {
        "id": "gKr7TueXs-0k"
      },
      "outputs": [],
      "source": [
        "#Generating multiple random bytes objects\n",
        "#with the same length as the ciphertext and will decrypt them."
      ]
    },
    {
      "cell_type": "code",
      "execution_count": null,
      "metadata": {
        "id": "JoGK9qhgs-0k"
      },
      "outputs": [],
      "source": [
        "#Generating multiple random bytes objects\n",
        "#with the same length as the ciphertext and will decrypt them.\n",
        "\n",
        "#-------------------------------------------------------------\n",
        "#for m=32 bytes\n",
        "#-------------------------------------------------------------\n",
        "\n",
        "#encryption\n",
        "def RSAEnc(mypublicRSAkey,m1):\n",
        "\n",
        "    #encrypting\n",
        "    cipher=PKCS1_OAEP.new(mypublicRSAkey)\n",
        "    c1=cipher.encrypt(m1) #encrypted\n",
        "    return c1"
      ]
    },
    {
      "cell_type": "code",
      "execution_count": null,
      "metadata": {
        "id": "1rGLCP8ss-0k"
      },
      "outputs": [],
      "source": [
        "m1=get_random_bytes(32)"
      ]
    },
    {
      "cell_type": "code",
      "execution_count": null,
      "metadata": {
        "id": "869PQVsHs-0k",
        "outputId": "48951e85-e31e-499c-c94f-f22846e5378e"
      },
      "outputs": [
        {
          "name": "stdout",
          "output_type": "stream",
          "text": [
            "b'xC\\xe1\\x06\\xe1\\xe3k\\x83\\xa8\\x145\\x95\\x8a>#\\xc6t\\xdd\\x93[.N\\xe2\\x89\\xa5)\\x98\\x86\\xf9\\x83\\x0f.\\x11:\\xad!t\\x15\\x8c\\x0bd\\x91\\x96\\x97\\xfe\\xae8(\\xd4;\\xdd\\\\\\x18]~\\x1e\\xcc\\x02\\xeaP\\xa0\\xd420q]\\x90\\xe4\\xf0\\xb3\\xa4\\x0c\\x11Q\\x1b\\xbbpl\\xca\\x9b\\x1e\\xac8\\xa3\\x93\\x0e~\\xee\\x14\\xea\\xee\\xc2!6\\x81\\xc8@\\x8f\\x08\\xd4\\x10\\x94a\\x8c@\\xd4\\x88\\xe0*,\\\\\\x98\\xaaF//\\xdb[\\xc5\\x8e\\x82\\xa3toB\"\\xdc4\\xe0<B\\x88\\xdf\\x15\\x01?\\xde\\xe4\\xf6L\\xe4\\x0b\\xa4V\\x1aU\\xd6Dw-%\\x043D]A\\x08\\x02\\xb0Kd\\xce`;b$8\\xcfm\\x96\\xbb\\x96\\x8e\\xca\\xd2\\xc1P>\\xb5BN\\xd4J\\x05\\x99ut\\x17\\xf3~vR\\x90\\xcc\\xe4\\x91\\xfa\\xf3\\xf9\\x813\\xe7-e\\xa9N\\xbb\\x1e9@\\xa0y]Mb\\xd4\\xb5uu]\\x92\\x89V\\xf31\\xc1\\xe6L\\x86e\\xb3\\x98\\xde0j\\x1d\\xad\\x9b$_W\\xbb\\xd5\\x91kl\\x11\\x86\\xdeY\\x15\\xb8I\\x13\\x1a!'\n"
          ]
        }
      ],
      "source": [
        "c1=RSAEnc(mypublicRSAkey,m1)\n",
        "print(c1) #printing ciphertext"
      ]
    },
    {
      "cell_type": "code",
      "execution_count": null,
      "metadata": {
        "id": "PBWxfuGKs-0k"
      },
      "outputs": [],
      "source": [
        "#decryption\n",
        "def RSADec(myRSAkey,c1):\n",
        "\n",
        "    #decrypting\n",
        "    cipher=PKCS1_OAEP.new(myRSAkey)\n",
        "    dec1=cipher.decrypt(c1) #decrypted\n",
        "    return (dec1)  #returning decrypted data"
      ]
    },
    {
      "cell_type": "code",
      "execution_count": null,
      "metadata": {
        "id": "YAnTJXzds-0k",
        "outputId": "a9afbe35-0c18-40e4-e6a9-a7c5d41277b8"
      },
      "outputs": [
        {
          "name": "stdout",
          "output_type": "stream",
          "text": [
            "plaintext:  b'||dOE\\xc8\\xccE\"l\\x1b-\\xc8\\x83\\x8e!\\xfe\\xfe\\xfe\\x04m\\xef\\x82v\\xe6\\xf6E%\\xe7\\xe22\\x1d'\n",
            "Decrypted data:  b'||dOE\\xc8\\xccE\"l\\x1b-\\xc8\\x83\\x8e!\\xfe\\xfe\\xfe\\x04m\\xef\\x82v\\xe6\\xf6E%\\xe7\\xe22\\x1d'\n",
            "256\n"
          ]
        }
      ],
      "source": [
        "dec1=RSADec(myRSAkey,c1)\n",
        "\n",
        "print(\"plaintext: \", m1)\n",
        "print(\"Decrypted data: \",dec1)\n",
        "print(len(c1))"
      ]
    },
    {
      "cell_type": "code",
      "execution_count": null,
      "metadata": {
        "id": "aQ7hMXlCs-0k",
        "outputId": "6edaa70c-aabf-463f-811f-5e3f9eb2c115"
      },
      "outputs": [
        {
          "name": "stdout",
          "output_type": "stream",
          "text": [
            "b'\\x1a\\x0c\\xec#\\x98\\xd4q![~\\xe8A\\xb4@> ~\\xcb\\x1c\\x02(^\\xf5\\x19\\xcf\\x1a\\xae\\xd1\\xb1\\x84\\x85\\x04x\\xc5\\x1d8\\x1dW\\x84\\xb8\\x15\\xad%\\xb45\\xd8n\\xc9jm\\x1b\"\\t\\xa6\\xda\\x9aT\\xa2,%M\"?!O\\xf0\\xe4\\xe9\\x05\\xd1\\xf5\\xfb\\xa9\\xbc}1\\xc7c:\\x90`\\x8c\\x97\\xe2\\xf6\\xdd:\\x94\\x1c{\\xeaA|\\xdc\\x87\\xa4-DI\\x8d\\xb8n\\xf9\\x9e\\xe5\\x83\\x86\\xf1U\\xa5\\x00?\\xc8 +\\x9e\\xfe\\xf8\\xb79;4h\\xa2\\xc2\\x90{\\x83\\x89d\\xc6\\r!<\\xeb\\xb2\\xa2?\\xc3[~\\xfcM\\x1dA\\xc7\\xdf\\xa8\\xaf\\xab\\xe7\\xf55u\\x13\\x07_Lle\\x06\\xc6\\x1a\\xc2\\x05\\xd1j\\xda\\xc1\\xab\\xdf\\xa8a\\\\\\xfbB\\xc4k\\xc5\\xb95\\x0c\\xd4\\xaa\\xcb\\xa9\\x80\\xdcT\\xa1o\\x92\\x86F\\xf3)\\xcf.\\x85\\xdbE \\x1c4\\xb8<\\xcbl\\x911l\\xceb\\xba\\xc4\\xb0\\xa4\\x00\\xe4Rs\\xfb\\xf8\\xe9\\xf3J\\x147\\x1a\\nu\\xe7\\xb7\\xee(\\xf1K\\xd2\\x7f&\\xcb\\x83\\xbc\\x1c\\x1d\\x19v\\x99;\\x87J\\x9e\\x05\\xe4\\xf3\\x8e'\n",
            "plaintext:  b'\\x03\\x8e\\x04\\xca\\x90\\nG\\xda!1\\x88`\\xd3\\xe10D\\xad\\x9d\\xc1\\xe2\\x13\\x96\\xaa\\xab#W]\\xe3\\xcd\\xcb_\\xc1J\\xb2\\xf16\\xdd\\x0c\\xd6\\xfc\\x19GP[\\x1bx\\xfa\\xf7k#\\xcd\\xc6|\\x9b\\xd2\\xba\\x8d\\x14>\\xd2\\xd9p\\xbc_\\x18\\xa9Gc\\xaf\\x13\\xdb\\xd2j\\x91\\\\#\\x1b\\xdd\\xa0\\x95\\x0b\\xa3G\\x06y\\x9bH\\x9brs\\x88J\\x0c\\xad\\xfb\\xe6\\x13X\\xe0P\\xd7\\xab\\xbfM\\x84\\x18\\xf4f\\xab\\xb86\\xaa\\xb3\\x06\\xbf\\xef\\xf3\\xfdX\\xec*\\xb8\\x03\\xd5\\x87yA\\xe4\\xe4N\\x89\\x14\\x80\\xc1\\xccJ0\\xaeb5\\x95\\x8c\\xa7J3\\xe4\\xces\\x9d:\\x82J\\x07\\x19\\x87:\\xab\\x83\\x17\\x84\\xcb\\x8d\\xf0!\\x19\\xbch7\\xbd~PO\\xca\\xab\\xbf\\x8a\\x9dn\\xd4\\x9e\\xaa\\xbdY\\xd4\\xeeN\\xc0\\x9eP\\xc7^|\\xcf\\xc8\\xd0\\x89\\xe8r\\xdb\\\\\\xcc\\x13\\xb1\\xdd2-) \\xf1\\x0eLDB\\xa0'\n",
            "Decrypted data:  b'\\x03\\x8e\\x04\\xca\\x90\\nG\\xda!1\\x88`\\xd3\\xe10D\\xad\\x9d\\xc1\\xe2\\x13\\x96\\xaa\\xab#W]\\xe3\\xcd\\xcb_\\xc1J\\xb2\\xf16\\xdd\\x0c\\xd6\\xfc\\x19GP[\\x1bx\\xfa\\xf7k#\\xcd\\xc6|\\x9b\\xd2\\xba\\x8d\\x14>\\xd2\\xd9p\\xbc_\\x18\\xa9Gc\\xaf\\x13\\xdb\\xd2j\\x91\\\\#\\x1b\\xdd\\xa0\\x95\\x0b\\xa3G\\x06y\\x9bH\\x9brs\\x88J\\x0c\\xad\\xfb\\xe6\\x13X\\xe0P\\xd7\\xab\\xbfM\\x84\\x18\\xf4f\\xab\\xb86\\xaa\\xb3\\x06\\xbf\\xef\\xf3\\xfdX\\xec*\\xb8\\x03\\xd5\\x87yA\\xe4\\xe4N\\x89\\x14\\x80\\xc1\\xccJ0\\xaeb5\\x95\\x8c\\xa7J3\\xe4\\xces\\x9d:\\x82J\\x07\\x19\\x87:\\xab\\x83\\x17\\x84\\xcb\\x8d\\xf0!\\x19\\xbch7\\xbd~PO\\xca\\xab\\xbf\\x8a\\x9dn\\xd4\\x9e\\xaa\\xbdY\\xd4\\xeeN\\xc0\\x9eP\\xc7^|\\xcf\\xc8\\xd0\\x89\\xe8r\\xdb\\\\\\xcc\\x13\\xb1\\xdd2-) \\xf1\\x0eLDB\\xa0'\n",
            "256\n"
          ]
        }
      ],
      "source": [
        "#-------------------------------------------------------------\n",
        "#for m=214 bytes\n",
        "#-------------------------------------------------------------\n",
        "\n",
        "#encryption\n",
        "def RSAEnc(mypublicRSAkey,m2):\n",
        "\n",
        "    #encrypting\n",
        "    cipher=PKCS1_OAEP.new(mypublicRSAkey)\n",
        "    c2=cipher.encrypt(m2) #encrypted\n",
        "    return c2\n",
        "\n",
        "m2=get_random_bytes(214)\n",
        "c2=RSAEnc(mypublicRSAkey,m2)\n",
        "print(c2) #printing ciphertext\n",
        "\n",
        "#decryption\n",
        "def RSADec(myRSAkey,c2):\n",
        "\n",
        "    #decrypting\n",
        "    cipher=PKCS1_OAEP.new(myRSAkey)\n",
        "    dec2=cipher.decrypt(c2) #decrypted\n",
        "    return (dec2)  #returning decrypted data\n",
        "\n",
        "dec2=RSADec(myRSAkey,c2)\n",
        "\n",
        "print(\"plaintext: \", m2)\n",
        "print(\"Decrypted data: \",dec2)\n",
        "print(len(c2))"
      ]
    },
    {
      "cell_type": "code",
      "execution_count": null,
      "metadata": {
        "id": "DdZC2lNis-0k"
      },
      "outputs": [],
      "source": [
        "#What happens and how do you explain that?"
      ]
    },
    {
      "cell_type": "code",
      "execution_count": null,
      "metadata": {
        "id": "Mbn5WbkOs-0k"
      },
      "outputs": [],
      "source": [
        "#Ans:\n",
        "#Through RSA, the input messages are divided into 32 or 214-byte chunks and these are encrypted separately.\n",
        "#every part when is encrypted, increases (for example: with a 2048-bit key,the 32 or 214 bytes of data become 256 bytes)"
      ]
    },
    {
      "cell_type": "code",
      "execution_count": null,
      "metadata": {
        "id": "uH4rZkB6s-0k"
      },
      "outputs": [],
      "source": [
        "###################################################################################################################"
      ]
    },
    {
      "cell_type": "code",
      "execution_count": null,
      "metadata": {
        "id": "BvtWRYA_s-0k"
      },
      "outputs": [],
      "source": []
    },
    {
      "cell_type": "code",
      "execution_count": null,
      "metadata": {
        "id": "Nt556UiKs-0k"
      },
      "outputs": [],
      "source": [
        "#Problem:3_a"
      ]
    },
    {
      "cell_type": "code",
      "execution_count": null,
      "metadata": {
        "id": "cO5uiuNls-0k"
      },
      "outputs": [],
      "source": [
        "#writing a function called \"HybridEnc(mypublicRSAkey, m)\" for hybrid RSA and AES-GCM\n",
        "#encryption of data of arbitrary length."
      ]
    },
    {
      "cell_type": "code",
      "execution_count": null,
      "metadata": {
        "id": "NMb1oaQCs-0k"
      },
      "outputs": [],
      "source": [
        "def HybridEnc(mypublicRSAkey, m):\n",
        "\n",
        "    s=secrets.token_bytes(150) #generating random key s\n",
        "    c=RSAEnc(mypublicRSAkey,s) #calling RSAEnc function to encrypt the secret seed s\n",
        "    IV=get_random_bytes(12) #generating random bytes object of 96-bit initialization vector means 12 bytes of IV\n",
        "    k=SHA256.new(s).digest() #SHA256 HASH value k=H(s) which will be used as symmetric secret key\n",
        "    cipher_AES=AES.new(k,AES.MODE_GCM,nonce=IV) #using AES_GCM mode of encryption\n",
        "    ct,tag=cipher_AES.encrypt_and_digest(m)  #encrypting m and getting ciphertext 'ct' with GCM TAG:'tag'\n",
        "\n",
        "    return(c,IV,ct,tag) #returning complete hybrid ciphertext with c,IV,ct,tag"
      ]
    },
    {
      "cell_type": "code",
      "execution_count": null,
      "metadata": {
        "id": "gm6cvfWBs-0k"
      },
      "outputs": [],
      "source": [
        "#generating random message bytes\n",
        "m=get_random_bytes(1000000)"
      ]
    },
    {
      "cell_type": "code",
      "execution_count": null,
      "metadata": {
        "id": "ESpYrCses-0l"
      },
      "outputs": [],
      "source": [
        "c,IV,ct,tag=HybridEnc(mypublicRSAkey, m)"
      ]
    },
    {
      "cell_type": "code",
      "execution_count": null,
      "metadata": {
        "id": "a8-pxbwos-0o"
      },
      "outputs": [],
      "source": [
        "#Problem:4"
      ]
    },
    {
      "cell_type": "code",
      "execution_count": null,
      "metadata": {
        "id": "KVbEK5Ncs-0o"
      },
      "outputs": [],
      "source": [
        "#Writing a functionHybridDec()for hybrid RSA and AES-GCM decryption.\n",
        "\n",
        "def HybridDec(myRSAkey, c,ct,tag,IV):\n",
        "\n",
        "    s=RSADec(myRSAkey,c)  #decrypting the encrypted secret seed c\n",
        "    k=SHA256.new(s).digest()\n",
        "    cipher_AES=AES.new(k,AES.MODE_GCM,nonce=IV)\n",
        "    data=cipher_AES.decrypt_and_verify(ct,tag) #Using decrypt_and_verify for authenticated decryption of the cipher-text and tag\n",
        "    #decrypted data\n",
        "\n",
        "    return(data)"
      ]
    },
    {
      "cell_type": "code",
      "execution_count": null,
      "metadata": {
        "id": "WIhwNMYgs-0o"
      },
      "outputs": [],
      "source": [
        "#calling HybridDec() function\n",
        "data=HybridDec(myRSAkey,c,ct,tag,IV)"
      ]
    },
    {
      "cell_type": "code",
      "execution_count": null,
      "metadata": {
        "id": "nXkC7fwYs-0o"
      },
      "outputs": [],
      "source": [
        "#data"
      ]
    },
    {
      "cell_type": "code",
      "execution_count": null,
      "metadata": {
        "id": "GyCLWP7Js-0o",
        "outputId": "7ff411e8-49aa-40bb-e80c-a7204f600aae"
      },
      "outputs": [
        {
          "data": {
            "text/plain": [
              "True"
            ]
          },
          "execution_count": 58,
          "metadata": {},
          "output_type": "execute_result"
        }
      ],
      "source": [
        "#checking whether m is equal to received decrypted data\n",
        "m==data"
      ]
    },
    {
      "cell_type": "code",
      "execution_count": null,
      "metadata": {
        "id": "o_z3ntmhs-0o"
      },
      "outputs": [],
      "source": [
        "#as the output is true, so the decryption is successful"
      ]
    },
    {
      "cell_type": "code",
      "execution_count": null,
      "metadata": {
        "id": "S7cWuFTHs-0o"
      },
      "outputs": [],
      "source": [
        "#What is the input to this function and why?\n",
        "#Ans:\n",
        "#The input to the HybridDec() function has four inputs as myRSAkey, c,ct,tag,IV.\n",
        "#because myRSAkey,c are needed to retrieve the real secret seed s and other ct,tag,IV are used for fully proper decryption process\n",
        ""
      ]
    },
    {
      "cell_type": "code",
      "execution_count": null,
      "metadata": {
        "id": "1y6kdOVOs-0o"
      },
      "outputs": [],
      "source": [
        "#Tested my above function and checked that the original plaintext is recovered."
      ]
    },
    {
      "cell_type": "code",
      "execution_count": null,
      "metadata": {
        "id": "UutO1Zrqs-0o"
      },
      "outputs": [],
      "source": [
        "######################################################################################################################"
      ]
    },
    {
      "cell_type": "code",
      "execution_count": null,
      "metadata": {
        "id": "nbLExKX6s-0o"
      },
      "outputs": [],
      "source": []
    }
  ],
  "metadata": {
    "kernelspec": {
      "display_name": "Python 3 (ipykernel)",
      "language": "python",
      "name": "python3"
    },
    "language_info": {
      "codemirror_mode": {
        "name": "ipython",
        "version": 3
      },
      "file_extension": ".py",
      "mimetype": "text/x-python",
      "name": "python",
      "nbconvert_exporter": "python",
      "pygments_lexer": "ipython3",
      "version": "3.7.11"
    },
    "colab": {
      "provenance": []
    }
  },
  "nbformat": 4,
  "nbformat_minor": 0
}