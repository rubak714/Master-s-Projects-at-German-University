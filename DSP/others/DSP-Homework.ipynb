{
 "cells": [
  {
   "cell_type": "markdown",
   "metadata": {},
   "source": [
    "# DSP Homework"
   ]
  },
  {
   "cell_type": "markdown",
   "metadata": {},
   "source": [
    "## Content\n",
    "\n",
    "+ The ULP in DSP consists of homework and lab, both of which have to be passed to pass the ULP.\n",
    "+ Both, homework and lab, consist of assignments which need to be solved **individually** using iPython notebooks executed on your own computers.\n",
    "\n",
    "* After finishing a particular homework task, you will have to upload the generated iPython notebook and the corresponding log file to ILIAS, as detailed in the `Homework` folder in iLIAS. \n",
    "\n",
    "* For each  homework task you will first generate a personalized notebook by executing the appropriate code cell below, which will generate an almost empty iPyton notebook template into which you will enter your commands for the particular homework.\n",
    "* You must not copy notebook files from previous homework tasks, since these will not correspond to the correct template!\n",
    "* After finishing each homework task you will **upload the generated iPython notebook and the corresponding log file to ILIAS**.\n",
    "\n",
    "### Please note:\n",
    "* **Each student must solve the homework assignments individually, i.e. any kind of cooperation whatsoever is NOT allowed and will be considered as cheating!**\n",
    "* **The generated notebooks and the log files are marked, such that copies can be detected and tracked!**\n",
    "* **Any violation of these rules will cause a failiure of the ULP!**"
   ]
  },
  {
   "cell_type": "markdown",
   "metadata": {},
   "source": [
    "### The following code cell must be run for every homework task: "
   ]
  },
  {
   "cell_type": "code",
   "execution_count": null,
   "metadata": {
    "scrolled": false
   },
   "outputs": [],
   "source": [
    "# import necessary functions from the dsplab library\n",
    "from dsplab import *"
   ]
  },
  {
   "cell_type": "markdown",
   "metadata": {},
   "source": [
    "By clicking on one of the following links you can directly jump to the desired homework task:\n",
    "* [Homework No.1](#dsp_hw1)\n",
    "* [Homework No.2](#dsp_hw2)\n",
    "* [Homework No.3](#dsp_hw3)\n",
    "* [Homework No.4](#dsp_hw4)\n",
    "* [Homework No.5](#dsp_hw5)\n",
    "* [Homework No.6](#dsp_hw6)"
   ]
  },
  {
   "cell_type": "markdown",
   "metadata": {},
   "source": [
    "<a id='dsp_hw1'></a>"
   ]
  },
  {
   "cell_type": "markdown",
   "metadata": {},
   "source": [
    "### Homework No.1\n",
    "* Executing the next code cell the iPython notebook for the homework No.1 will be generated:"
   ]
  },
  {
   "cell_type": "code",
   "execution_count": null,
   "metadata": {},
   "outputs": [],
   "source": [
    "dsp_hw1_generate()"
   ]
  },
  {
   "cell_type": "markdown",
   "metadata": {},
   "source": [
    "+ **The name of the generate notebook is dsp_hw1_XXXXXXXX.ipynb, where XXXXXXXX is your 8-digit matriculation number.**\n",
    "+ This notebook can now be found in the current working directory.\n",
    "+ Start the generated notebook and enter your command there.\n",
    "+ You may now close this notebook. You only have to come back to this notebook to generate notebooks for further homework tasks."
   ]
  },
  {
   "cell_type": "markdown",
   "metadata": {},
   "source": [
    "<a id='dsp_hw2'></a>"
   ]
  },
  {
   "cell_type": "markdown",
   "metadata": {},
   "source": [
    "### Homework No.2\n",
    "* Executing the next code cell the iPython notebook for the homework No.2 will be generated:"
   ]
  },
  {
   "cell_type": "code",
   "execution_count": null,
   "metadata": {},
   "outputs": [],
   "source": [
    "dsp_hw2_generate()"
   ]
  },
  {
   "cell_type": "markdown",
   "metadata": {},
   "source": [
    "+ **The name of the generate notebook is dsp_hw2_XXXXXXXX.ipynb, where XXXXXXXX is your 8-digit matriculation number.**\n",
    "+ This notebook can now be found in the current working directory.\n",
    "+ Start the generated notebook and enter your command there.\n",
    "+ You may now close this notebook. You only have to come back to this notebook to generate notebooks for further homework tasks."
   ]
  },
  {
   "cell_type": "markdown",
   "metadata": {},
   "source": [
    "<a id='dsp_hw3'></a>"
   ]
  },
  {
   "cell_type": "markdown",
   "metadata": {},
   "source": [
    "### Homework No.3\n",
    "* Executing the next code cell the iPython notebook for the homework No.3 will be generated:"
   ]
  },
  {
   "cell_type": "code",
   "execution_count": null,
   "metadata": {},
   "outputs": [],
   "source": [
    "dsp_hw3_generate()"
   ]
  },
  {
   "cell_type": "markdown",
   "metadata": {},
   "source": [
    "+ **The name of the generate notebook is dsp_hw3_XXXXXXXX.ipynb, where XXXXXXXX is your 8-digit matriculation number.**\n",
    "+ This notebook can now be found in the current working directory.\n",
    "+ Start the generated notebook and enter your command there.\n",
    "+ You may now close this notebook. You only have to come back to this notebook to generate notebooks for further homework tasks."
   ]
  },
  {
   "cell_type": "markdown",
   "metadata": {},
   "source": [
    "<a id='dsp_hw4'></a>"
   ]
  },
  {
   "cell_type": "markdown",
   "metadata": {},
   "source": [
    "### Homework No.4\n",
    "* Executing the next code cell the iPython notebook for the homework No.4 will be generated:"
   ]
  },
  {
   "cell_type": "code",
   "execution_count": null,
   "metadata": {},
   "outputs": [],
   "source": [
    "dsp_hw4_generate()"
   ]
  },
  {
   "cell_type": "markdown",
   "metadata": {},
   "source": [
    "+ **The name of the generate notebook is dsp_hw4_XXXXXXXX.ipynb, where XXXXXXXX is your 8-digit matriculation number.**\n",
    "+ This notebook can now be found in the current working directory.\n",
    "+ Start the generated notebook and enter your command there.\n",
    "+ You may now close this notebook. You only have to come back to this notebook to generate notebooks for further homework tasks."
   ]
  },
  {
   "cell_type": "markdown",
   "metadata": {},
   "source": [
    "<a id='dsp_hw5'></a>"
   ]
  },
  {
   "cell_type": "markdown",
   "metadata": {},
   "source": [
    "### Homework No.5\n",
    "* Executing the next code cell the iPython notebook for the homework No.5 will be generated:"
   ]
  },
  {
   "cell_type": "code",
   "execution_count": null,
   "metadata": {},
   "outputs": [],
   "source": [
    "dsp_hw5_generate()"
   ]
  },
  {
   "cell_type": "markdown",
   "metadata": {},
   "source": [
    "+ **The name of the generate notebook is dsp_hw5_XXXXXXXX.ipynb, where XXXXXXXX is your 8-digit matriculation number.**\n",
    "+ This notebook can now be found in the current working directory.\n",
    "+ Start the generated notebook and enter your command there.\n",
    "+ You may now close this notebook. You only have to come back to this notebook to generate notebooks for further homework tasks."
   ]
  },
  {
   "cell_type": "markdown",
   "metadata": {},
   "source": [
    "<a id='dsp_hw6'></a>"
   ]
  },
  {
   "cell_type": "markdown",
   "metadata": {},
   "source": [
    "### Homework No.6\n",
    "* Executing the next code cell the iPython notebook for the homework No.6 will be generated:"
   ]
  },
  {
   "cell_type": "code",
   "execution_count": null,
   "metadata": {},
   "outputs": [],
   "source": [
    "dsp_hw6_generate()"
   ]
  },
  {
   "cell_type": "markdown",
   "metadata": {},
   "source": [
    "+ **The name of the generate notebook is dsp_hw6_XXXXXXXX.ipynb, where XXXXXXXX is your 8-digit matriculation number.**\n",
    "+ This notebook can now be found in the current working directory.\n",
    "+ Start the generated notebook and enter your command there.\n",
    "+ You may now close this notebook. You only have to come back to this notebook to generate notebooks for further homework tasks."
   ]
  },
  {
   "cell_type": "code",
   "execution_count": null,
   "metadata": {},
   "outputs": [],
   "source": []
  }
 ],
 "metadata": {
  "kernelspec": {
   "display_name": "Python 3",
   "language": "python",
   "name": "python3"
  },
  "language_info": {
   "codemirror_mode": {
    "name": "ipython",
    "version": 3
   },
   "file_extension": ".py",
   "mimetype": "text/x-python",
   "name": "python",
   "nbconvert_exporter": "python",
   "pygments_lexer": "ipython3",
   "version": "3.8.5"
  },
  "latex_envs": {
   "LaTeX_envs_menu_present": true,
   "autocomplete": true,
   "bibliofile": "biblio.bib",
   "cite_by": "number",
   "current_citInitial": 1,
   "eqLabelWithNumbers": true,
   "eqNumInitial": 1,
   "hotkeys": {
    "equation": "Ctrl-E",
    "itemize": "Ctrl-I"
   },
   "labels_anchors": false,
   "latex_user_defs": false,
   "report_style_numbering": false,
   "user_envs_cfg": true
  }
 },
 "nbformat": 4,
 "nbformat_minor": 2
}
