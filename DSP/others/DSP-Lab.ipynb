{
 "cells": [
  {
   "cell_type": "markdown",
   "metadata": {},
   "source": [
    "# DSP Lab"
   ]
  },
  {
   "cell_type": "markdown",
   "metadata": {},
   "source": [
    "## Content\n",
    "\n",
    "+ The ULP in DSP consists of homework and lab, both of which have to be passed to pass the ULP.\n",
    "+ Both, homework and lab, consist of assignments which need to be solved **individually** using iPython notebooks executed on your own computers.\n",
    "\n",
    "* After finishing a particular lab, you will have to upload the generated iPython notebook and the corresponding log file to ILIAS, as detailed in the `Lab` folder in iLIAS. \n",
    "\n",
    "* For each lab you will first generate a personalized notebook by executing the appropriate code cell below, which will generate an almost empty iPyton notebook template into which you will enter your commands for the particular lab.\n",
    "* You must not copy notebook files from previous labs, since these will not correspond to the correct template!\n",
    "* After finishing each lab you will **upload the generated iPython notebook and the corresponding log file to ILIAS**.\n",
    "\n",
    "### Please note:\n",
    "* **Each student must solve the labs individually, i.e. any kind of cooperation whatsoever is NOT allowed and will be considered as cheating!**\n",
    "* **The generated notebooks and the log files are marked, such that copies can be detected and tracked!**\n",
    "* **Any violation of these rules will cause a failiure of the ULP!**"
   ]
  },
  {
   "cell_type": "markdown",
   "metadata": {},
   "source": [
    "### The following code cell must be run for every lab: "
   ]
  },
  {
   "cell_type": "code",
   "execution_count": 1,
   "metadata": {
    "scrolled": false
   },
   "outputs": [],
   "source": [
    "# import necessary functions from the dsplab library\n",
    "from dsplab import *"
   ]
  },
  {
   "cell_type": "markdown",
   "metadata": {},
   "source": [
    "By clicking on one of the following links you can directly jump to the desired lab:\n",
    "* [Lab 1](#dsp_lab1)\n",
    "* [Lab 2](#dsp_lab2)"
   ]
  },
  {
   "cell_type": "markdown",
   "metadata": {},
   "source": [
    "<a id='dsp_lab1'></a>"
   ]
  },
  {
   "cell_type": "markdown",
   "metadata": {},
   "source": [
    "### Lab 1\n",
    "* Executing the next code cell the iPython notebook for Lab 1 will be generated:"
   ]
  },
  {
   "cell_type": "code",
   "execution_count": 2,
   "metadata": {},
   "outputs": [
    {
     "name": "stdout",
     "output_type": "stream",
     "text": [
      "TH Köln University of Applied Sciences\n",
      "Course:  Digital Signal Processing\n",
      "Lab 1\n",
      " \n",
      "You are about to generate the notebook for Lab 1 !\n",
      "Please read and follow the instructions exactly as stated!\n",
      " \n",
      "You will be asked to enter your matriculation number.\n",
      "Please make sure that you enter it correctly!\n",
      " \n",
      "Please enter your 8-digit matriculation number: 12345678\n",
      "Your matriculation number is:  12345678\n",
      "Is this correct? yes/no: yes\n",
      "Generating notebook for Lab 1 for matriculation number: 12345678\n",
      "Generated notebook dsp_lab1_12345678.ipynb for matriculation number 12345678 on: 2020-10-28 18:58:47.093765\n",
      " \n",
      "Please start the notebook dsp_lab1_12345678.ipynb and enter your commands there!\n"
     ]
    }
   ],
   "source": [
    "dsp_lab1_generate()"
   ]
  },
  {
   "cell_type": "markdown",
   "metadata": {},
   "source": [
    "+ **The name of the generate notebook is dsp_lab1_XXXXXXXX.ipynb, where XXXXXXXX is your 8-digit matriculation number.**\n",
    "+ This notebook can now be found in the current working directory.\n",
    "+ Start the generated notebook and enter your command there.\n",
    "+ You may now close this notebook. You only have to come back to this notebook to generate notebooks for further homework tasks."
   ]
  },
  {
   "cell_type": "markdown",
   "metadata": {},
   "source": [
    "<a id='dsp_lab2'></a>"
   ]
  },
  {
   "cell_type": "markdown",
   "metadata": {},
   "source": [
    "### Lab 2\n",
    "* Executing the next code cell the iPython notebook for Lab 2 will be generated:"
   ]
  },
  {
   "cell_type": "code",
   "execution_count": null,
   "metadata": {},
   "outputs": [],
   "source": [
    "dsp_lab2_generate()"
   ]
  },
  {
   "cell_type": "markdown",
   "metadata": {},
   "source": [
    "+ **The name of the generate notebook is dsp_lab2_XXXXXXXX.ipynb, where XXXXXXXX is your 8-digit matriculation number.**\n",
    "+ This notebook can now be found in the current working directory.\n",
    "+ Start the generated notebook and enter your command there.\n",
    "+ You may now close this notebook. You only have to come back to this notebook to generate notebooks for further homework tasks."
   ]
  }
 ],
 "metadata": {
  "kernelspec": {
   "display_name": "Python 3",
   "language": "python",
   "name": "python3"
  },
  "language_info": {
   "codemirror_mode": {
    "name": "ipython",
    "version": 3
   },
   "file_extension": ".py",
   "mimetype": "text/x-python",
   "name": "python",
   "nbconvert_exporter": "python",
   "pygments_lexer": "ipython3",
   "version": "3.8.5"
  },
  "latex_envs": {
   "LaTeX_envs_menu_present": true,
   "autocomplete": true,
   "bibliofile": "biblio.bib",
   "cite_by": "number",
   "current_citInitial": 1,
   "eqLabelWithNumbers": true,
   "eqNumInitial": 1,
   "hotkeys": {
    "equation": "Ctrl-E",
    "itemize": "Ctrl-I"
   },
   "labels_anchors": false,
   "latex_user_defs": false,
   "report_style_numbering": false,
   "user_envs_cfg": true
  }
 },
 "nbformat": 4,
 "nbformat_minor": 2
}
